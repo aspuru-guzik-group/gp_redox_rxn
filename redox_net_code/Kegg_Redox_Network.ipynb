{
 "cells": [
  {
   "cell_type": "code",
   "execution_count": 27,
   "metadata": {
    "ExecuteTime": {
     "end_time": "2017-11-16T03:02:06.187103Z",
     "start_time": "2017-11-16T03:02:02.552941Z"
    }
   },
   "outputs": [
    {
     "name": "stdout",
     "output_type": "stream",
     "text": [
      "The autoreload extension is already loaded. To reload it, use:\n",
      "  %reload_ext autoreload\n"
     ]
    }
   ],
   "source": [
    "import json\n",
    "from lib.Reaction_Library_Mother import *\n",
    "\n",
    "from IPython.display import Image, SVG, display\n",
    "from rdkit import Chem\n",
    "from rdkit.Chem import AllChem,Draw,Descriptors\n",
    "from rdkit.Chem.Draw import IPythonConsole, ReactionToImage\n",
    "\n",
    "import copy\n",
    "import pandas as pd\n",
    "import re\n",
    "import matplotlib.pyplot as plt\n",
    "from random import randint\n",
    "\n",
    "import lib.Reaction_Library as RL \n",
    "\n",
    "import numpy as np\n",
    "import os\n",
    "import seaborn as sns\n",
    "\n",
    "%load_ext autoreload\n",
    "%autoreload 2\n",
    "%matplotlib inline"
   ]
  },
  {
   "cell_type": "code",
   "execution_count": 2,
   "metadata": {
    "ExecuteTime": {
     "end_time": "2017-11-16T03:03:46.533762Z",
     "start_time": "2017-11-16T03:03:45.262440Z"
    },
    "collapsed": true
   },
   "outputs": [],
   "source": [
    "df_ox = pd.read_csv('data_for_Ben/21C_G2G3_oxidations.csv')\n",
    "df_red = pd.read_csv('data_for_Ben/21C_G2G3_reductions.csv')"
   ]
  },
  {
   "cell_type": "code",
   "execution_count": 7,
   "metadata": {
    "ExecuteTime": {
     "end_time": "2017-11-16T03:05:18.258588Z",
     "start_time": "2017-11-16T03:05:18.079677Z"
    }
   },
   "outputs": [
    {
     "name": "stdout",
     "output_type": "stream",
     "text": [
      "(4299, 2)\n",
      "(4299, 2)\n"
     ]
    }
   ],
   "source": [
    "print df_red.query('category==2').shape\n",
    "print df_red.query('category==3').shape"
   ]
  },
  {
   "cell_type": "code",
   "execution_count": 8,
   "metadata": {
    "ExecuteTime": {
     "end_time": "2017-11-16T03:05:24.206906Z",
     "start_time": "2017-11-16T03:05:24.135052Z"
    }
   },
   "outputs": [
    {
     "name": "stdout",
     "output_type": "stream",
     "text": [
      "(257604, 2)\n",
      "(48796, 2)\n"
     ]
    }
   ],
   "source": [
    "print df_ox.query('category==2').shape\n",
    "print df_ox.query('category==3').shape"
   ]
  },
  {
   "cell_type": "code",
   "execution_count": null,
   "metadata": {
    "collapsed": true
   },
   "outputs": [],
   "source": [
    "df_exp = pd.read_csv('')"
   ]
  },
  {
   "cell_type": "markdown",
   "metadata": {},
   "source": [
    "# General Functions"
   ]
  },
  {
   "cell_type": "code",
   "execution_count": 28,
   "metadata": {
    "ExecuteTime": {
     "end_time": "2017-11-12T18:40:33.206584Z",
     "start_time": "2017-11-12T18:40:33.136392Z"
    },
    "collapsed": true
   },
   "outputs": [],
   "source": [
    "def add_names(x, names_dict):\n",
    "    try:\n",
    "        comp_name = names_dict[x.KEGG_IDs]\n",
    "    except:\n",
    "        comp_name = 'NO_NAME'\n",
    "    return comp_name\n",
    "\n",
    "def clean_up_mols(df):\n",
    "    df_no_SFClBr = df[ ~(df.smiles.str.contains('S')) & ~(df.smiles.str.contains('F')) \n",
    "                   & ~(df.smiles.str.contains('Cl')) & ~(df.smiles.str.contains('Br'))\n",
    "                     & ~(df.smiles.str.contains('I')) & ~(df.smiles.str.contains('Zn'))]\n",
    "    return df_no_SFClBr"
   ]
  },
  {
   "cell_type": "markdown",
   "metadata": {},
   "source": [
    "# Tests"
   ]
  },
  {
   "cell_type": "markdown",
   "metadata": {},
   "source": [
    "## Generate full 2-C redox network: "
   ]
  },
  {
   "cell_type": "code",
   "execution_count": 5,
   "metadata": {
    "ExecuteTime": {
     "end_time": "2017-11-12T18:40:35.908076Z",
     "start_time": "2017-11-12T18:40:35.840149Z"
    },
    "collapsed": true
   },
   "outputs": [],
   "source": [
    "seed_metabolite = 'OC(=O)C(=O)C(=O)C(=O)C(O)=O'\n",
    "Master_Sub_List = []\n",
    "rxn_list, Master_Sub_List = reduce_metabolite(seed_metabolite, Master_Sub_List)"
   ]
  },
  {
   "cell_type": "code",
   "execution_count": 6,
   "metadata": {
    "ExecuteTime": {
     "end_time": "2017-11-12T18:40:39.474212Z",
     "start_time": "2017-11-12T18:40:39.440777Z"
    }
   },
   "outputs": [
    {
     "name": "stdout",
     "output_type": "stream",
     "text": [
      "Number of reactions:  30\n"
     ]
    }
   ],
   "source": [
    "print 'Number of reactions: ', len(rxn_list)"
   ]
  },
  {
   "cell_type": "markdown",
   "metadata": {},
   "source": [
    "Sort reactions: "
   ]
  },
  {
   "cell_type": "code",
   "execution_count": null,
   "metadata": {
    "ExecuteTime": {
     "end_time": "2017-07-05T18:01:24.373492Z",
     "start_time": "2017-07-05T18:01:24.339876Z"
    },
    "collapsed": true
   },
   "outputs": [],
   "source": [
    "rxn_list.sort(key = len, reverse = True)"
   ]
  },
  {
   "cell_type": "code",
   "execution_count": null,
   "metadata": {
    "ExecuteTime": {
     "end_time": "2017-07-05T18:01:28.456541Z",
     "start_time": "2017-07-05T18:01:26.763198Z"
    },
    "collapsed": true,
    "scrolled": true
   },
   "outputs": [],
   "source": [
    "df_rxn = pd.DataFrame(columns=['rxn', 'subs', 'prods'])\n",
    "df_rxn['rxn'] = rxn_list\n",
    "df_rxn['subs'] = [rxn.split('>>')[0] for rxn in rxn_list]\n",
    "df_rxn['prods'] = [rxn.split('>>')[1] for rxn in rxn_list]\n",
    "# Categorize reactions: \n",
    "df_rxn['category'] = df_rxn.apply(RL.categorize_rxn, 1)\n",
    "# df_rxn.to_csv('rxn_networks/rxns_2C.csv', sep = '\\t', index = False)"
   ]
  },
  {
   "cell_type": "code",
   "execution_count": null,
   "metadata": {
    "ExecuteTime": {
     "end_time": "2017-07-05T18:02:19.240889Z",
     "start_time": "2017-07-05T18:02:07.037894Z"
    },
    "collapsed": true,
    "scrolled": true
   },
   "outputs": [],
   "source": [
    "df_temp = df_rxn[df_rxn.category == 4]\n",
    "for i in df_temp.index: \n",
    "    rxn = df_temp.loc[i, 'rxn']\n",
    "    print 'Category:', df_temp.loc[i, 'category']\n",
    "    display(AllChem.ReactionFromSmarts(rxn))"
   ]
  },
  {
   "cell_type": "markdown",
   "metadata": {},
   "source": [
    "Get unique molecules: "
   ]
  },
  {
   "cell_type": "code",
   "execution_count": null,
   "metadata": {
    "ExecuteTime": {
     "end_time": "2017-07-05T18:00:48.148975Z",
     "start_time": "2017-07-05T18:00:48.112641Z"
    },
    "collapsed": true
   },
   "outputs": [],
   "source": [
    "subs = [rxn.split('>>')[0] for rxn in rxn_list]\n",
    "prods = [rxn.split('>>')[1] for rxn in rxn_list]\n",
    "mols_unique = list(set(subs + prods))\n",
    "print \"Number of Molecules: \", len(mols_unique)\n",
    "print mols_unique"
   ]
  },
  {
   "cell_type": "markdown",
   "metadata": {},
   "source": [
    "Can you determined the oxidation state of carbon atom in each molecule? "
   ]
  },
  {
   "cell_type": "code",
   "execution_count": null,
   "metadata": {
    "ExecuteTime": {
     "end_time": "2017-07-05T18:00:49.115069Z",
     "start_time": "2017-07-05T18:00:49.064217Z"
    },
    "collapsed": true
   },
   "outputs": [],
   "source": [
    "def get_num_O_bond_list(mol_temp):\n",
    "    num_O_bond_list = []\n",
    "    for atom in mol_temp.GetAtoms():\n",
    "        if atom.GetAtomicNum() == 6:\n",
    "            num_O_bonds = 0\n",
    "            C_Idx = atom.GetIdx()\n",
    "            O_neighbors = [a for a in atom.GetNeighbors() if a.GetSymbol() == 'O']\n",
    "            for O in O_neighbors: \n",
    "                O_Idx = O.GetIdx()\n",
    "                bond_type = str(mol_temp.GetBondBetweenAtoms(C_Idx, O_Idx).GetBondType())\n",
    "                if bond_type == 'SINGLE':\n",
    "                    num_O_bonds += 1\n",
    "                elif bond_type == 'DOUBLE':\n",
    "                    num_O_bonds += 2\n",
    "            num_O_bond_list.append(num_O_bonds)\n",
    "    return num_O_bond_list"
   ]
  },
  {
   "cell_type": "code",
   "execution_count": null,
   "metadata": {
    "ExecuteTime": {
     "end_time": "2017-07-05T18:00:50.093488Z",
     "start_time": "2017-07-05T18:00:50.054474Z"
    },
    "collapsed": true
   },
   "outputs": [],
   "source": [
    "def ox_num(x):\n",
    "    return np.sum(x.num_Ox)\n",
    "\n",
    "def ox_to_color(x):\n",
    "    ox_col_dict = {3:'r',2:'g',1:'b',0:'gray'}\n",
    "    color_list = [ox_col_dict[ox] for ox in x.num_Ox]\n",
    "    return '-'.join(color_list)\n",
    "    "
   ]
  },
  {
   "cell_type": "code",
   "execution_count": null,
   "metadata": {
    "ExecuteTime": {
     "end_time": "2017-07-05T02:02:16.921451Z",
     "start_time": "2017-07-05T02:02:16.824707Z"
    },
    "collapsed": true,
    "scrolled": true
   },
   "outputs": [],
   "source": [
    "num_O_bond_ALL = []\n",
    "for mol_smi in mols_unique:\n",
    "    mol_temp = Chem.MolFromSmiles(mol_smi)\n",
    "    num_O_bond_list = get_num_O_bond_list(mol_temp)\n",
    "    # How do we store this? \n",
    "    num_O_bond_ALL.append(num_O_bond_list)"
   ]
  },
  {
   "cell_type": "code",
   "execution_count": null,
   "metadata": {
    "ExecuteTime": {
     "end_time": "2017-07-05T02:02:18.764077Z",
     "start_time": "2017-07-05T02:02:18.698889Z"
    },
    "collapsed": true
   },
   "outputs": [],
   "source": [
    "df_num_O = pd.DataFrame(columns=['smiles', 'num_Ox', 'Ox', 'color'])\n",
    "df_num_O['smiles'] = mols_unique\n",
    "df_num_O['num_Ox'] = num_O_bond_ALL\n",
    "df_num_O['Ox'] = df_num_O.apply(ox_num, 1)\n",
    "df_num_O['color'] = df_num_O.apply(ox_to_color,1)"
   ]
  },
  {
   "cell_type": "code",
   "execution_count": null,
   "metadata": {
    "ExecuteTime": {
     "end_time": "2017-07-05T02:02:19.456806Z",
     "start_time": "2017-07-05T02:02:19.392339Z"
    },
    "collapsed": true
   },
   "outputs": [],
   "source": [
    "df_num_O['Ox'].unique()"
   ]
  },
  {
   "cell_type": "code",
   "execution_count": null,
   "metadata": {
    "ExecuteTime": {
     "end_time": "2017-07-05T02:02:32.629516Z",
     "start_time": "2017-07-05T02:02:32.201977Z"
    },
    "collapsed": true,
    "scrolled": true
   },
   "outputs": [],
   "source": [
    "df_temp = df_num_O[df_num_O.Ox == 4]\n",
    "for i in df_temp.index:\n",
    "    print df_temp.loc[i, 'num_Ox']\n",
    "    mol_smi = df_temp.loc[i, 'smiles']\n",
    "    print mol_smi\n",
    "    display(Chem.MolFromSmiles(mol_smi))"
   ]
  },
  {
   "cell_type": "code",
   "execution_count": null,
   "metadata": {
    "ExecuteTime": {
     "end_time": "2017-07-04T21:15:15.558675Z",
     "start_time": "2017-07-04T21:15:15.521397Z"
    },
    "collapsed": true,
    "scrolled": true
   },
   "outputs": [],
   "source": [
    "df_num_O.to_csv('rxn_networks/mols_6C.csv', sep = '\\t', index = False)"
   ]
  },
  {
   "cell_type": "markdown",
   "metadata": {},
   "source": [
    "## Editing reaction files to fit the parameter.txt file format for quantum chemistry calculations:"
   ]
  },
  {
   "cell_type": "code",
   "execution_count": null,
   "metadata": {
    "ExecuteTime": {
     "end_time": "2017-07-05T19:12:12.693951Z",
     "start_time": "2017-07-05T19:12:12.615204Z"
    },
    "collapsed": true
   },
   "outputs": [],
   "source": [
    "def to_param_format(x):\n",
    "    return ' = '.join(x.rxn.split('>>'))"
   ]
  },
  {
   "cell_type": "code",
   "execution_count": null,
   "metadata": {
    "ExecuteTime": {
     "end_time": "2017-07-07T18:19:07.696107Z",
     "start_time": "2017-07-07T18:19:07.078661Z"
    },
    "collapsed": true
   },
   "outputs": [],
   "source": [
    "df_rxn_all = pd.DataFrame()\n",
    "for n in [5]:\n",
    "    df_rxn = pd.read_csv('rxn_networks/rxns_'+str(n)+'C.csv', sep = '\\t')\n",
    "    df_rxn_all = pd.concat([df_rxn_all, df_rxn], 0)"
   ]
  },
  {
   "cell_type": "code",
   "execution_count": null,
   "metadata": {
    "ExecuteTime": {
     "end_time": "2017-07-07T18:19:11.050372Z",
     "start_time": "2017-07-07T18:19:10.985253Z"
    },
    "collapsed": true
   },
   "outputs": [],
   "source": [
    "df_rxn_all['rxn_param'] = df_rxn_all.apply(to_param_format, 1)\n",
    "df_rxn_all.reset_index(inplace=True, drop=True)"
   ]
  },
  {
   "cell_type": "code",
   "execution_count": null,
   "metadata": {
    "ExecuteTime": {
     "end_time": "2017-07-07T18:19:18.860609Z",
     "start_time": "2017-07-07T18:19:18.729889Z"
    },
    "collapsed": true
   },
   "outputs": [],
   "source": [
    "df_rxn_all[['rxn_param', 'category']].to_csv('rxn_networks/rxns_5.csv', sep = '\\t', index = False)"
   ]
  },
  {
   "cell_type": "markdown",
   "metadata": {},
   "source": [
    "## Editing molecule dataframes so that we have a name (like a KEGG ID) for each redox metabolite."
   ]
  },
  {
   "cell_type": "code",
   "execution_count": null,
   "metadata": {
    "ExecuteTime": {
     "end_time": "2017-07-05T18:11:29.831970Z",
     "start_time": "2017-07-05T18:11:29.768128Z"
    },
    "collapsed": true
   },
   "outputs": [],
   "source": [
    "df_all_mols = pd.DataFrame()\n",
    "for n in [2,3,4,5,6]:\n",
    "    df_num_O = pd.read_csv('rxn_networks/mols_'+str(n)+'C.csv', sep = '\\t')\n",
    "    df_all_mols = pd.concat([df_all_mols, df_num_O], 0)"
   ]
  },
  {
   "cell_type": "code",
   "execution_count": null,
   "metadata": {
    "ExecuteTime": {
     "end_time": "2017-07-05T18:11:43.322871Z",
     "start_time": "2017-07-05T18:11:43.287351Z"
    },
    "collapsed": true
   },
   "outputs": [],
   "source": [
    "id_list = range(len(df_all_mols))\n",
    "redox_id = ['R'+str(n).rjust(5,'0') for n in id_list]"
   ]
  },
  {
   "cell_type": "code",
   "execution_count": null,
   "metadata": {
    "ExecuteTime": {
     "end_time": "2017-07-05T18:21:37.411233Z",
     "start_time": "2017-07-05T18:21:37.188962Z"
    },
    "collapsed": true
   },
   "outputs": [],
   "source": [
    "df_all_mols['redox_id'] = redox_id\n",
    "df_all_mols.reset_index(inplace=True, drop=True)"
   ]
  },
  {
   "cell_type": "code",
   "execution_count": null,
   "metadata": {
    "ExecuteTime": {
     "end_time": "2017-07-05T18:22:32.831844Z",
     "start_time": "2017-07-05T18:22:32.745052Z"
    },
    "collapsed": true
   },
   "outputs": [],
   "source": [
    "df_all_mols[['redox_id', 'smiles']].to_csv('rxn_networks/mols_all.csv', sep = '\\t', index = False)"
   ]
  },
  {
   "cell_type": "code",
   "execution_count": null,
   "metadata": {
    "ExecuteTime": {
     "end_time": "2017-07-05T18:14:36.956037Z",
     "start_time": "2017-07-05T18:14:36.883250Z"
    },
    "collapsed": true
   },
   "outputs": [],
   "source": [
    "redox_id_dict = {}\n",
    "for i in df_all_mols.index:\n",
    "    key = df_all_mols.loc[i, 'redox_id']\n",
    "    value = df_all_mols.loc[i, 'smiles']\n",
    "    redox_id_dict[key] = value"
   ]
  },
  {
   "cell_type": "markdown",
   "metadata": {},
   "source": [
    "Add water and hydrogen molecule:"
   ]
  },
  {
   "cell_type": "code",
   "execution_count": null,
   "metadata": {
    "ExecuteTime": {
     "end_time": "2017-07-05T19:19:53.062799Z",
     "start_time": "2017-07-05T19:19:52.795198Z"
    },
    "collapsed": true
   },
   "outputs": [],
   "source": [
    "redox_id_dict['C00001'] = 'O'\n",
    "redox_id_dict['C00282'] = '[H][H]'"
   ]
  },
  {
   "cell_type": "code",
   "execution_count": null,
   "metadata": {
    "ExecuteTime": {
     "end_time": "2017-07-05T19:20:51.072634Z",
     "start_time": "2017-07-05T19:20:51.032357Z"
    },
    "collapsed": true
   },
   "outputs": [],
   "source": [
    "import json\n",
    "import os\n",
    "path_temp = '/Users/ajinich/Dropbox (Aspuru-Guzik Lab)/FreeEnergiesHA/mamacori/input/redox_mols'\n",
    "with open(os.path.join(path_temp, 'redox_dict.json') , 'w') as fout:\n",
    "    json.dump(redox_id_dict, fout)"
   ]
  },
  {
   "cell_type": "code",
   "execution_count": null,
   "metadata": {
    "ExecuteTime": {
     "end_time": "2017-07-05T19:23:00.945502Z",
     "start_time": "2017-07-05T19:23:00.800489Z"
    },
    "collapsed": true,
    "scrolled": true
   },
   "outputs": [],
   "source": [
    "with open(os.path.join(path_temp, 'redox_dict.json') , 'r') as fin:\n",
    "    dict_temp = json.load(fin)\n",
    "dict_temp"
   ]
  },
  {
   "cell_type": "markdown",
   "metadata": {},
   "source": [
    "## Convert reaction list to R-ID format: "
   ]
  },
  {
   "cell_type": "code",
   "execution_count": null,
   "metadata": {
    "ExecuteTime": {
     "end_time": "2017-07-07T18:19:34.526046Z",
     "start_time": "2017-07-07T18:19:34.189623Z"
    },
    "collapsed": true
   },
   "outputs": [],
   "source": [
    "df_rxn = pd.read_csv('rxn_networks/rxns_5.csv', sep = '\\t')\n",
    "df_rxn.head()"
   ]
  },
  {
   "cell_type": "code",
   "execution_count": null,
   "metadata": {
    "ExecuteTime": {
     "end_time": "2017-07-07T18:19:39.070619Z",
     "start_time": "2017-07-07T18:19:38.922715Z"
    },
    "collapsed": true
   },
   "outputs": [],
   "source": [
    "def rxn_to_ID(x, df_all_mols):\n",
    "    subs = df_all_mols[df_all_mols.smiles == x.rxn_param.split(' = ')[0]].redox_id.values[0]\n",
    "    subs = ' + '.join([subs, 'C00282'])\n",
    "    prods = df_all_mols[df_all_mols.smiles == x.rxn_param.split(' = ')[1]].redox_id.values[0]\n",
    "    if x.category == 1 or x.category == 4:\n",
    "        prods = ' + '.join([prods, 'C00001'])\n",
    "    return ' = '.join([subs, prods])"
   ]
  },
  {
   "cell_type": "code",
   "execution_count": null,
   "metadata": {
    "collapsed": true
   },
   "outputs": [],
   "source": [
    "df_all_mols = pd.read_csv('rxn_networks/mols_all.csv', sep = '\\t')"
   ]
  },
  {
   "cell_type": "code",
   "execution_count": null,
   "metadata": {
    "ExecuteTime": {
     "end_time": "2017-07-07T18:19:41.718648Z",
     "start_time": "2017-07-07T18:19:39.878614Z"
    },
    "collapsed": true
   },
   "outputs": [],
   "source": [
    "df_rxn['rxn_RID'] = df_rxn.apply(rxn_to_ID, 1, args=[df_all_mols])\n"
   ]
  },
  {
   "cell_type": "code",
   "execution_count": null,
   "metadata": {
    "ExecuteTime": {
     "end_time": "2017-07-07T18:19:42.024834Z",
     "start_time": "2017-07-07T18:19:41.924608Z"
    },
    "collapsed": true
   },
   "outputs": [],
   "source": [
    "df_rxn.head()"
   ]
  },
  {
   "cell_type": "code",
   "execution_count": null,
   "metadata": {
    "ExecuteTime": {
     "end_time": "2017-07-07T18:19:48.882949Z",
     "start_time": "2017-07-07T18:19:48.837682Z"
    },
    "collapsed": true
   },
   "outputs": [],
   "source": [
    "df_rxn.to_csv('rxn_networks/rxns_5.csv', sep = '\\t', index = False)"
   ]
  },
  {
   "cell_type": "code",
   "execution_count": null,
   "metadata": {
    "ExecuteTime": {
     "end_time": "2017-07-07T18:20:36.794455Z",
     "start_time": "2017-07-07T18:20:36.757984Z"
    },
    "collapsed": true
   },
   "outputs": [],
   "source": [
    "param_path = '~/Dropbox (Aspuru-Guzik Lab)/FreeEnergiesHA/mamacori/data/precalc/rxns_5.csv'\n",
    "df_rxn['rxn_RID'].to_csv(param_path, sep = '\\t', index = False)"
   ]
  },
  {
   "cell_type": "markdown",
   "metadata": {},
   "source": [
    "__________________\n",
    "__________________\n",
    "__________________\n",
    "__________________\n",
    "__________________\n",
    "__________________\n",
    "__________________\n",
    "__________________\n",
    "__________________\n",
    "__________________\n"
   ]
  },
  {
   "cell_type": "markdown",
   "metadata": {},
   "source": [
    "# PART 2: Iterative reduction / oxidation of n-carbon metabolites in the KEGG database. "
   ]
  },
  {
   "cell_type": "markdown",
   "metadata": {},
   "source": [
    "Trying to load Josh's KEGG database of names. "
   ]
  },
  {
   "cell_type": "code",
   "execution_count": 31,
   "metadata": {
    "ExecuteTime": {
     "end_time": "2017-11-12T18:41:11.639831Z",
     "start_time": "2017-11-12T18:41:11.556605Z"
    },
    "collapsed": true
   },
   "outputs": [],
   "source": [
    "df_names_josh = pd.read_csv('data/KEGG_names.csv')\n",
    "names_dict_josh = dict(zip(df_names_josh.KEGG_ID,df_names_josh.name))"
   ]
  },
  {
   "cell_type": "markdown",
   "metadata": {},
   "source": [
    "Load .json file of Kegg smiles in canonical format:"
   ]
  },
  {
   "cell_type": "code",
   "execution_count": 32,
   "metadata": {
    "ExecuteTime": {
     "end_time": "2017-11-12T18:41:15.437678Z",
     "start_time": "2017-11-12T18:41:14.529111Z"
    },
    "collapsed": true
   },
   "outputs": [],
   "source": [
    "# KEGG smiles in canonical form: \n",
    "kegg_smiles = 'data/Kegg_Canonical_Final.json'\n",
    "\n",
    "# Read json as series and convert to dataframe\n",
    "ser_kegg = pd.read_json(kegg_smiles, typ='series')\n",
    "df_kegg = ser_kegg.to_frame('smiles')\n",
    "df_kegg['KEGG_IDs'] = df_kegg.index\n",
    "df_kegg.reset_index(level=[], inplace=True)\n",
    "df_kegg = df_kegg[['KEGG_IDs', 'smiles']]\n",
    "\n",
    "# Get number of carbons\n",
    "df_kegg['numC'] = df_kegg.apply(RL.count_carbons, 1)\n",
    "# df_kegg = df_kegg[df_kegg.numC>0]\n",
    "\n",
    "# remove generic compounds \n",
    "df_kegg = df_kegg[~df_kegg.smiles.str.contains('\\*')]\n",
    "df_kegg = df_kegg[~df_kegg.smiles.str.contains('\\#')]\n",
    "df_kegg = df_kegg[~df_kegg.smiles.str.contains('\\.')]\n",
    "\n",
    "# Add names: \n",
    "df_kegg['name'] = df_kegg.apply(add_names, 1, args=[names_dict_josh])\n",
    "\n",
    "df_kegg.sort_values('numC', inplace=True)\n",
    "kegg_smiles = df_kegg.smiles.values"
   ]
  },
  {
   "cell_type": "code",
   "execution_count": 33,
   "metadata": {
    "ExecuteTime": {
     "end_time": "2017-11-12T18:41:17.363379Z",
     "start_time": "2017-11-12T18:41:17.246199Z"
    },
    "collapsed": true
   },
   "outputs": [],
   "source": [
    "df_kegg = clean_up_mols(df_kegg)\n",
    "df_kegg.reset_index(inplace=True, drop=True)"
   ]
  },
  {
   "cell_type": "code",
   "execution_count": 24,
   "metadata": {
    "collapsed": true
   },
   "outputs": [],
   "source": [
    "save_flag = False\n",
    "if save_flag:\n",
    "    df_kegg.to_csv('KID_smiles_numC_name_forH20.csv', index=False)"
   ]
  },
  {
   "cell_type": "markdown",
   "metadata": {},
   "source": [
    "Take a peek at some random KEGG metabolites: "
   ]
  },
  {
   "cell_type": "code",
   "execution_count": 10,
   "metadata": {
    "ExecuteTime": {
     "end_time": "2017-11-12T18:41:23.317896Z",
     "start_time": "2017-11-12T18:41:23.279471Z"
    }
   },
   "outputs": [
    {
     "data": {
      "text/plain": [
       "Index([u'KEGG_IDs', u'smiles', u'numC', u'name'], dtype='object')"
      ]
     },
     "execution_count": 10,
     "metadata": {},
     "output_type": "execute_result"
    }
   ],
   "source": [
    "df_kegg.columns"
   ]
  },
  {
   "cell_type": "code",
   "execution_count": 11,
   "metadata": {
    "ExecuteTime": {
     "end_time": "2017-11-12T18:41:25.212682Z",
     "start_time": "2017-11-12T18:41:25.097729Z"
    }
   },
   "outputs": [
    {
     "data": {
      "image/png": "[encoded data removed]",
      "text/plain": [
       "<rdkit.Chem.rdchem.Mol at 0x11c5ba3d0>"
      ]
     },
     "execution_count": 11,
     "metadata": {},
     "output_type": "execute_result"
    }
   ],
   "source": [
    "sm_temp = df_kegg[df_kegg.KEGG_IDs=='C00186'].smiles.values[0]\n",
    "sm_temp = 'CC(-N)C'\n",
    "AllChem.MolFromSmiles(sm_temp)"
   ]
  },
  {
   "cell_type": "code",
   "execution_count": 35,
   "metadata": {
    "ExecuteTime": {
     "end_time": "2017-11-12T18:42:31.848113Z",
     "start_time": "2017-11-12T18:42:31.796776Z"
    },
    "scrolled": true
   },
   "outputs": [
    {
     "name": "stdout",
     "output_type": "stream",
     "text": [
      "CC(=O)[C@@]12OC(C)(c3ccco3)O[C@@H]1C[C@H]1[C@@H]3CCC4=CC(=O)CC[C@]4(C)[C@H]3CC[C@@]12C\n",
      "16alpha,17-Dihydroxypregn-4-ene-3,20-dione cyclic acetal with 2-furyl methyl ketone\n"
     ]
    },
    {
     "data": {
      "image/png": "[encoded data removed]",
      "text/plain": [
       "<rdkit.Chem.rdchem.Mol at 0x1a1dbbcdf0>"
      ]
     },
     "execution_count": 35,
     "metadata": {},
     "output_type": "execute_result"
    }
   ],
   "source": [
    "int_temp = randint(0, df_kegg.shape[0])\n",
    "print(df_kegg.loc[int_temp, 'smiles'])\n",
    "print(df_kegg.loc[int_temp, 'name'])\n",
    "AllChem.MolFromSmiles(df_kegg.loc[int_temp, 'smiles'])"
   ]
  },
  {
   "cell_type": "code",
   "execution_count": 87,
   "metadata": {
    "ExecuteTime": {
     "end_time": "2017-11-13T00:48:59.394451Z",
     "start_time": "2017-11-13T00:48:59.335360Z"
    }
   },
   "outputs": [
    {
     "data": {
      "text/html": [
       "<div>\n",
       "<style>\n",
       "    .dataframe thead tr:only-child th {\n",
       "        text-align: right;\n",
       "    }\n",
       "\n",
       "    .dataframe thead th {\n",
       "        text-align: left;\n",
       "    }\n",
       "\n",
       "    .dataframe tbody tr th {\n",
       "        vertical-align: top;\n",
       "    }\n",
       "</style>\n",
       "<table border=\"1\" class=\"dataframe\">\n",
       "  <thead>\n",
       "    <tr style=\"text-align: right;\">\n",
       "      <th></th>\n",
       "      <th>KEGG_IDs</th>\n",
       "      <th>smiles</th>\n",
       "      <th>numC</th>\n",
       "      <th>name</th>\n",
       "    </tr>\n",
       "  </thead>\n",
       "  <tbody>\n",
       "    <tr>\n",
       "      <th>9569</th>\n",
       "      <td>C11827</td>\n",
       "      <td>CC(=O)N[C@H]1[C@H](O[C@@H]2[C@@H](CO)O[C@@H](O...</td>\n",
       "      <td>135</td>\n",
       "      <td>[GlcNAc-(1-&gt;4)-Mur2Ac(oyl-L-Ala-g-D-Glu-A2pm-D...</td>\n",
       "    </tr>\n",
       "  </tbody>\n",
       "</table>\n",
       "</div>"
      ],
      "text/plain": [
       "     KEGG_IDs                                             smiles  numC  \\\n",
       "9569   C11827  CC(=O)N[C@H]1[C@H](O[C@@H]2[C@@H](CO)O[C@@H](O...   135   \n",
       "\n",
       "                                                   name  \n",
       "9569  [GlcNAc-(1->4)-Mur2Ac(oyl-L-Ala-g-D-Glu-A2pm-D...  "
      ]
     },
     "execution_count": 87,
     "metadata": {},
     "output_type": "execute_result"
    }
   ],
   "source": [
    "df_kegg[df_kegg.numC == 135]"
   ]
  },
  {
   "cell_type": "markdown",
   "metadata": {},
   "source": [
    "# This is a great insight.  Target this as a tool for pharmaceutical compounds!"
   ]
  },
  {
   "cell_type": "code",
   "execution_count": null,
   "metadata": {
    "collapsed": true
   },
   "outputs": [],
   "source": []
  },
  {
   "cell_type": "markdown",
   "metadata": {},
   "source": [
    "## Take a peek at molecules of n-carbons:"
   ]
  },
  {
   "cell_type": "code",
   "execution_count": 36,
   "metadata": {
    "ExecuteTime": {
     "end_time": "2017-11-13T00:54:43.479589Z",
     "start_time": "2017-11-13T00:54:43.404313Z"
    },
    "collapsed": true
   },
   "outputs": [],
   "source": [
    "df_nC = df_kegg[df_kegg.numC == 20]"
   ]
  },
  {
   "cell_type": "code",
   "execution_count": 38,
   "metadata": {
    "ExecuteTime": {
     "end_time": "2017-11-13T00:54:44.296703Z",
     "start_time": "2017-11-13T00:54:43.999899Z"
    },
    "scrolled": false
   },
   "outputs": [
    {
     "name": "stdout",
     "output_type": "stream",
     "text": [
      "Tetracenomycin F2--(C12366)\n"
     ]
    },
    {
     "data": {
      "image/png": "[encoded data removed]",
      "text/plain": [
       "<rdkit.Chem.rdchem.Mol at 0x1a1eb2d850>"
      ]
     },
     "metadata": {},
     "output_type": "display_data"
    },
    {
     "name": "stdout",
     "output_type": "stream",
     "text": [
      "(-)-Ormosanine--(C10777)\n"
     ]
    },
    {
     "data": {
      "image/png": "[encoded data removed]",
      "text/plain": [
       "<rdkit.Chem.rdchem.Mol at 0x1a1eb2ddf0>"
      ]
     },
     "metadata": {},
     "output_type": "display_data"
    },
    {
     "name": "stdout",
     "output_type": "stream",
     "text": [
      "trans,trans,cis-Geranylgeranyl diphosphate--(C11356)\n"
     ]
    },
    {
     "data": {
      "image/png": "[encoded data removed]",
      "text/plain": [
       "<rdkit.Chem.rdchem.Mol at 0x1a1eb2ddf0>"
      ]
     },
     "metadata": {},
     "output_type": "display_data"
    }
   ],
   "source": [
    "df_sample = df_nC.sample(3)\n",
    "for index in df_sample.index:\n",
    "    smi = df_sample.loc[index, 'smiles']\n",
    "    KEGG_ID = df_sample.loc[index, 'KEGG_IDs']\n",
    "    name = df_sample.loc[index, 'name']\n",
    "    print(name + '--('+KEGG_ID+')')\n",
    "    display(AllChem.MolFromSmiles(smi))"
   ]
  },
  {
   "cell_type": "markdown",
   "metadata": {},
   "source": [
    "## Plot number of compounds as a function of number of carbon atoms to guide the cutoff decision: "
   ]
  },
  {
   "cell_type": "code",
   "execution_count": 39,
   "metadata": {
    "collapsed": true
   },
   "outputs": [
    {
     "data": {
      "text/plain": [
       "602"
      ]
     },
     "execution_count": 39,
     "metadata": {},
     "output_type": "execute_result"
    }
   ],
   "source": [
    "numC_dict = df_kegg.numC.value_counts().to_dict()\n",
    "numC_dict[6]"
   ]
  },
  {
   "cell_type": "code",
   "execution_count": null,
   "metadata": {
    "collapsed": true
   },
   "outputs": [],
   "source": [
    "plt.figure(figsize = (8, 6))\n",
    "plt.plot(numC_dict.keys(), numC_dict.values(), '-o', ms = 10)\n",
    "plt.xlim(0, 30)\n",
    "plt.xlabel('Number Carbons', fontsize = 24)\n",
    "plt.ylabel('Metabolite Count', fontsize = 24)\n",
    "plt.xticks(fontsize = 14)\n",
    "plt.yticks(fontsize = 14)"
   ]
  },
  {
   "cell_type": "markdown",
   "metadata": {},
   "source": [
    "### Cut off at certain number of carbons"
   ]
  },
  {
   "cell_type": "code",
   "execution_count": 40,
   "metadata": {
    "collapsed": true,
    "scrolled": true
   },
   "outputs": [],
   "source": [
    "df_cutoff = df_kegg[df_kegg.numC <= 21]\n",
    "smiles_cutoff = df_cutoff.smiles.values"
   ]
  },
  {
   "cell_type": "code",
   "execution_count": 42,
   "metadata": {
    "scrolled": true
   },
   "outputs": [
    {
     "data": {
      "text/plain": [
       "(7173, 4)"
      ]
     },
     "execution_count": 42,
     "metadata": {},
     "output_type": "execute_result"
    }
   ],
   "source": [
    "df_cutoff.shape"
   ]
  },
  {
   "cell_type": "code",
   "execution_count": null,
   "metadata": {
    "collapsed": true
   },
   "outputs": [],
   "source": [
    "df_cutoff.head()"
   ]
  },
  {
   "cell_type": "markdown",
   "metadata": {},
   "source": [
    "# Run the reduction and oxidation functions on the KEGG database"
   ]
  },
  {
   "cell_type": "markdown",
   "metadata": {},
   "source": [
    "### Step 1: Run in the direction of reduction"
   ]
  },
  {
   "cell_type": "code",
   "execution_count": 182,
   "metadata": {
    "scrolled": true
   },
   "outputs": [
    {
     "name": "stdout",
     "output_type": "stream",
     "text": [
      "100\n",
      "200\n",
      "300\n",
      "400\n",
      "500\n",
      "600\n",
      "700\n",
      "800\n",
      "900\n",
      "1000\n",
      "1100\n",
      "1200\n",
      "1300\n",
      "1400\n",
      "1500\n",
      "1600\n",
      "1700\n",
      "1800\n",
      "1900\n",
      "2000\n",
      "2100\n",
      "2200\n",
      "2300\n",
      "2400\n",
      "2500\n",
      "2600\n",
      "2700\n",
      "2800\n",
      "2900\n",
      "3000\n",
      "3100\n",
      "3200\n",
      "3300\n",
      "3400\n",
      "3500\n",
      "3600\n",
      "3700\n",
      "3800\n",
      "3900\n",
      "4000\n",
      "4100\n",
      "4200\n",
      "4300\n",
      "4400\n",
      "4500\n",
      "4600\n",
      "4700\n",
      "4800\n",
      "4900\n",
      "5000\n",
      "5100\n",
      "5200\n",
      "5300\n",
      "5400\n",
      "5500\n",
      "5600\n",
      "5700\n",
      "5800\n",
      "5900\n",
      "6000\n",
      "6100\n",
      "6200\n",
      "6300\n",
      "6400\n",
      "6500\n",
      "6600\n",
      "6700\n",
      "6800\n",
      "6900\n",
      "7000\n",
      "7100\n"
     ]
    }
   ],
   "source": [
    "# Empty list of all reactions. \n",
    "rxn_list = []\n",
    "Master_Sub_List = []\n",
    "counter = 0\n",
    "\n",
    "# for each KEGG metabolite\n",
    "for metabolite in smiles_cutoff:\n",
    "    \n",
    "    # Run reduction function on a single metabolite\n",
    "    rxn_list_temp, Master_Sub_List = reduce_metabolite(metabolite, Master_Sub_List)    \n",
    "    \n",
    "    # If there are some reactions, store in reaction list\n",
    "    if len(rxn_list_temp) > 0:\n",
    "        rxn_list += rxn_list_temp\n",
    "        # Make Unique (is this necessary?)\n",
    "        rxn_list = list(set(rxn_list)) \n",
    "    \n",
    "    # Update Master_Sub_List\n",
    "    new_subs_list = [rxn.split('>>')[0] for rxn in rxn_list_temp]\n",
    "    Master_Sub_List += new_subs_list\n",
    "    Master_Sub_List = list(set(Master_Sub_List))\n",
    "    \n",
    "    # Update counter variable and print every 100 steps. \n",
    "    counter += 1\n",
    "    if counter%100 == 0:\n",
    "        print counter"
   ]
  },
  {
   "cell_type": "code",
   "execution_count": 183,
   "metadata": {},
   "outputs": [
    {
     "name": "stdout",
     "output_type": "stream",
     "text": [
      "8598\n"
     ]
    }
   ],
   "source": [
    "rxn_list = list(set(rxn_list))\n",
    "rxn_list.sort(key = len)\n",
    "print len(rxn_list)"
   ]
  },
  {
   "cell_type": "code",
   "execution_count": 184,
   "metadata": {
    "collapsed": true
   },
   "outputs": [],
   "source": [
    "df_reduction_cutoff = pd.DataFrame()\n",
    "df_reduction_cutoff['rxn'] = rxn_list"
   ]
  },
  {
   "cell_type": "code",
   "execution_count": 212,
   "metadata": {
    "scrolled": true
   },
   "outputs": [
    {
     "name": "stdout",
     "output_type": "stream",
     "text": [
      "CCCc1cc(O)cc2C(=O)c3cc(O)cc(O)c3C(O)c12>>CCCc1cc(O)cc2c1C(O)c1c(O)cc(O)cc1C2O\n"
     ]
    },
    {
     "data": {
      "image/png": "[encoded data removed]",
      "text/plain": [
       "<rdkit.Chem.rdChemReactions.ChemicalReaction at 0x7f263c724e50>"
      ]
     },
     "metadata": {},
     "output_type": "display_data"
    },
    {
     "name": "stdout",
     "output_type": "stream",
     "text": [
      "O=C1CCC(C(=O)O)c2ccccc21>>NC1CCC(C(=O)O)c2ccccc21\n"
     ]
    },
    {
     "data": {
      "image/png": "[encoded data removed]",
      "text/plain": [
       "<rdkit.Chem.rdChemReactions.ChemicalReaction at 0x7f263c724e50>"
      ]
     },
     "metadata": {},
     "output_type": "display_data"
    },
    {
     "name": "stdout",
     "output_type": "stream",
     "text": [
      "CCC(=O)CC(O)c1c(cc2C(=O)c3cccc(O)c3C(=O)c2c1O)CC(=O)O>>CCC(=O)CC(O)c1c(cc2C(=O)c3cccc(O)c3C(N)c2c1O)CC(=O)O\n"
     ]
    },
    {
     "data": {
      "image/png": "[encoded data removed]",
      "text/plain": [
       "<rdkit.Chem.rdChemReactions.ChemicalReaction at 0x7f263c724e50>"
      ]
     },
     "metadata": {},
     "output_type": "display_data"
    },
    {
     "name": "stdout",
     "output_type": "stream",
     "text": [
      "CC1=CC(=O)c2c(O)cccc2C1=O>>CC1=CC(O)c2c(O)cccc2C1=O\n"
     ]
    },
    {
     "data": {
      "image/png": "[encoded data removed]",
      "text/plain": [
       "<rdkit.Chem.rdChemReactions.ChemicalReaction at 0x7f263c724e50>"
      ]
     },
     "metadata": {},
     "output_type": "display_data"
    },
    {
     "name": "stdout",
     "output_type": "stream",
     "text": [
      "COc1cc(O)c(NC(=O)C(C)=O)c(C(=O)O)c1>>COc1cc(O)c(NC(=O)C(C)O)c(c1)C(=O)O\n"
     ]
    },
    {
     "data": {
      "image/png": "[encoded data removed]",
      "text/plain": [
       "<rdkit.Chem.rdChemReactions.ChemicalReaction at 0x7f263c724de0>"
      ]
     },
     "metadata": {},
     "output_type": "display_data"
    }
   ],
   "source": [
    "df_rand = df_reduction_cutoff.sample(5)\n",
    "for i in df_rand.index:\n",
    "    smiles_str = df_rand.loc[i, 'rxn']\n",
    "    print smiles_str\n",
    "    display(AllChem.ReactionFromSmarts(str(smiles_str)))"
   ]
  },
  {
   "cell_type": "code",
   "execution_count": 187,
   "metadata": {
    "collapsed": true
   },
   "outputs": [],
   "source": [
    "df_reduction_cutoff['category'] = df_reduction_cutoff.apply(RL.categorize_rxn, 1)"
   ]
  },
  {
   "cell_type": "code",
   "execution_count": 188,
   "metadata": {
    "collapsed": true
   },
   "outputs": [],
   "source": [
    "df_reduction_cutoff.to_csv('data_for_Ben/21C_G2G3_reductions.csv', index = False)"
   ]
  },
  {
   "cell_type": "markdown",
   "metadata": {},
   "source": [
    "### Oxidation"
   ]
  },
  {
   "cell_type": "code",
   "execution_count": 189,
   "metadata": {
    "scrolled": true
   },
   "outputs": [
    {
     "name": "stdout",
     "output_type": "stream",
     "text": [
      "100\n",
      "200\n",
      "300\n",
      "400\n",
      "500\n",
      "600\n",
      "700\n",
      "800\n",
      "900\n",
      "1000\n",
      "1100\n",
      "1200\n",
      "1300\n",
      "1400\n",
      "1500\n",
      "1600\n",
      "1700\n",
      "1800\n",
      "1900\n",
      "2000\n",
      "2100\n",
      "2200\n",
      "2300\n",
      "2400\n",
      "2500\n",
      "2600\n",
      "2700\n",
      "2800\n",
      "2900\n",
      "3000\n",
      "3100\n",
      "3200\n",
      "3300\n",
      "3400\n",
      "3500\n",
      "3600\n",
      "3700\n",
      "3800\n",
      "3900\n",
      "4000\n",
      "4100\n",
      "4200\n",
      "4300\n",
      "4400\n",
      "4500\n",
      "4600\n",
      "4700\n",
      "4800\n",
      "4900\n",
      "5000\n",
      "5100\n",
      "5200\n",
      "5300\n",
      "5400\n",
      "5500\n",
      "5600\n",
      "5700\n",
      "5800\n",
      "5900\n",
      "6000\n",
      "6100\n",
      "6200\n",
      "6300\n",
      "6400\n",
      "6500\n",
      "6600\n",
      "6700\n",
      "6800\n",
      "6900\n",
      "7000\n",
      "7100\n"
     ]
    }
   ],
   "source": [
    "# Empty list of all reactions. \n",
    "rxn_list_ox = []\n",
    "Master_Sub_List = []\n",
    "counter = 0\n",
    "# for each KEGG metabolite\n",
    "for metabolite in smiles_cutoff:\n",
    "    # Run reduction function on a single metabolite\n",
    "    rxn_list_temp, Master_Sub_List = oxidize_metabolite(metabolite, Master_Sub_List)\n",
    "    # print 'Current rxn_list_temp', rxn_list_temp\n",
    "    \n",
    "    # If there are some reactions, store in reaction list\n",
    "    if len(rxn_list_temp) > 0:\n",
    "        rxn_list_ox += rxn_list_temp\n",
    "        # Make Unique (necessary ?)\n",
    "        rxn_list_ox = list(set(rxn_list_ox)) \n",
    "#     Update reaction file:\n",
    "#         update_rxn_file(rxn_network_file, rxn_list_ox)\n",
    "    \n",
    "    # Update Master_Sub_List\n",
    "    new_subs_list = [rxn.split('>>')[0] for rxn in rxn_list_temp]\n",
    "    Master_Sub_List += new_subs_list\n",
    "    Master_Sub_List = list(set(Master_Sub_List))\n",
    "    # print 'Updated MasterSubList', Master_Sub_List, '\\n'\n",
    "    \n",
    "    # Update counter variable and print every 100 steps. \n",
    "    counter += 1\n",
    "    if counter%100 == 0:\n",
    "        print counter"
   ]
  },
  {
   "cell_type": "code",
   "execution_count": 190,
   "metadata": {
    "collapsed": true
   },
   "outputs": [],
   "source": [
    "rxn_list_ox = list(set(rxn_list_ox))\n",
    "rxn_list_ox.sort(key = len)"
   ]
  },
  {
   "cell_type": "code",
   "execution_count": 191,
   "metadata": {
    "scrolled": true
   },
   "outputs": [
    {
     "data": {
      "text/plain": [
       "306400"
      ]
     },
     "execution_count": 191,
     "metadata": {},
     "output_type": "execute_result"
    }
   ],
   "source": [
    "len(rxn_list_ox)"
   ]
  },
  {
   "cell_type": "code",
   "execution_count": 192,
   "metadata": {
    "collapsed": true
   },
   "outputs": [],
   "source": [
    "df_oxidation_cutoff = pd.DataFrame()\n",
    "df_oxidation_cutoff['rxn'] = rxn_list_ox"
   ]
  },
  {
   "cell_type": "code",
   "execution_count": null,
   "metadata": {
    "collapsed": true,
    "scrolled": true
   },
   "outputs": [],
   "source": [
    "df_rand = df_oxidation_cutoff.sample(10)\n",
    "for i in df_rand.index:\n",
    "    smiles_str = df_rand.loc[i, 'rxn']\n",
    "    print smiles_str\n",
    "    display(AllChem.ReactionFromSmarts(str(smiles_str)))"
   ]
  },
  {
   "cell_type": "markdown",
   "metadata": {},
   "source": [
    "Missing: Write oxidations to file: "
   ]
  },
  {
   "cell_type": "code",
   "execution_count": 196,
   "metadata": {
    "collapsed": true
   },
   "outputs": [],
   "source": [
    "df_oxidation_cutoff['category'] = df_oxidation_cutoff.apply(RL.categorize_rxn_ox, 1)"
   ]
  },
  {
   "cell_type": "code",
   "execution_count": 197,
   "metadata": {
    "collapsed": true
   },
   "outputs": [],
   "source": [
    "df_oxidation_cutoff.to_csv('data_for_Ben/21C_G2G3_oxidations.csv', index = False)"
   ]
  },
  {
   "cell_type": "markdown",
   "metadata": {},
   "source": [
    "## Combine the oxidations and the reductions into a single file:"
   ]
  },
  {
   "cell_type": "markdown",
   "metadata": {},
   "source": [
    "Reverse oxidative reactions:"
   ]
  },
  {
   "cell_type": "code",
   "execution_count": 198,
   "metadata": {
    "collapsed": true
   },
   "outputs": [],
   "source": [
    "def reverse_reaction(row):\n",
    "    sub = row.rxn.split('>>')[0]\n",
    "    prod = row.rxn.split('>>')[1]\n",
    "    \n",
    "    new_rxn = prod + '>>' + sub\n",
    "    \n",
    "    return new_rxn"
   ]
  },
  {
   "cell_type": "code",
   "execution_count": 199,
   "metadata": {
    "collapsed": true
   },
   "outputs": [],
   "source": [
    "df_oxidation_cutoff['rxn'] = df_oxidation_cutoff.apply(reverse_reaction, 1)"
   ]
  },
  {
   "cell_type": "code",
   "execution_count": 200,
   "metadata": {
    "collapsed": true
   },
   "outputs": [],
   "source": [
    "path = pd.concat([df_reduction_cutoff, df_oxidation_cutoff], 0)\n",
    "df_redox.reset_index(inplace=True, drop=True)"
   ]
  },
  {
   "cell_type": "code",
   "execution_count": 201,
   "metadata": {},
   "outputs": [
    {
     "data": {
      "text/plain": [
       "(314998, 2)"
      ]
     },
     "execution_count": 201,
     "metadata": {},
     "output_type": "execute_result"
    }
   ],
   "source": [
    "df_redox.shape"
   ]
  },
  {
   "cell_type": "markdown",
   "metadata": {},
   "source": [
    "Remove duplicated reactions:"
   ]
  },
  {
   "cell_type": "code",
   "execution_count": 202,
   "metadata": {},
   "outputs": [
    {
     "data": {
      "text/plain": [
       "(314794, 2)"
      ]
     },
     "execution_count": 202,
     "metadata": {},
     "output_type": "execute_result"
    }
   ],
   "source": [
    "df_redox.drop_duplicates('rxn', inplace=True)\n",
    "df_redox.shape"
   ]
  },
  {
   "cell_type": "code",
   "execution_count": 203,
   "metadata": {},
   "outputs": [
    {
     "data": {
      "text/html": [
       "<div>\n",
       "<table border=\"1\" class=\"dataframe\">\n",
       "  <thead>\n",
       "    <tr style=\"text-align: right;\">\n",
       "      <th></th>\n",
       "      <th>rxn_smiles</th>\n",
       "      <th>category</th>\n",
       "    </tr>\n",
       "  </thead>\n",
       "  <tbody>\n",
       "    <tr>\n",
       "      <th>0</th>\n",
       "      <td>CC=O&gt;&gt;CCO</td>\n",
       "      <td>2</td>\n",
       "    </tr>\n",
       "    <tr>\n",
       "      <th>1</th>\n",
       "      <td>CC=O&gt;&gt;CCN</td>\n",
       "      <td>3</td>\n",
       "    </tr>\n",
       "  </tbody>\n",
       "</table>\n",
       "</div>"
      ],
      "text/plain": [
       "  rxn_smiles  category\n",
       "0  CC=O>>CCO         2\n",
       "1  CC=O>>CCN         3"
      ]
     },
     "execution_count": 203,
     "metadata": {},
     "output_type": "execute_result"
    }
   ],
   "source": [
    "df_redox.rename(columns={'rxn':'rxn_smiles'}, inplace=True)\n",
    "df_redox.head(2)"
   ]
  },
  {
   "cell_type": "markdown",
   "metadata": {},
   "source": [
    "Create dataframe"
   ]
  },
  {
   "cell_type": "code",
   "execution_count": 204,
   "metadata": {
    "collapsed": true
   },
   "outputs": [],
   "source": [
    "df_redox['subs_smiles'] = [rxn.split('>>')[0] for rxn in df_redox.rxn_smiles.values]\n",
    "df_redox['prods_smiles'] = [rxn.split('>>')[1] for rxn in df_redox.rxn_smiles.values]"
   ]
  },
  {
   "cell_type": "code",
   "execution_count": 213,
   "metadata": {
    "scrolled": true
   },
   "outputs": [
    {
     "name": "stdout",
     "output_type": "stream",
     "text": [
      "NC1C(=O)C(=O)C(C=O)OC1OC1C(=O)CC(NC(=O)C(O)CC=O)C(O)C1OC1OC(C=O)C(O)C1=O>>NC1CC(NC(=O)C(O)CC=O)C(O)C(OC2OC(C=O)C(O)C2=O)C1OC1OC(C=O)C(=O)C(=O)C1N\n",
      "3\n"
     ]
    },
    {
     "data": {
      "image/png": "[encoded data removed]",
      "text/plain": [
       "<rdkit.Chem.rdChemReactions.ChemicalReaction at 0x7f263c724e50>"
      ]
     },
     "metadata": {},
     "output_type": "display_data"
    },
    {
     "name": "stdout",
     "output_type": "stream",
     "text": [
      "CNC1C(OC2OC(C=O)C(N)C(O)C2=O)OC2C(=O)C(=O)C(OC3C(=O)CC(N)C(O)C3O)OC2C1O>>CNC1C(OC2OC(C=O)C(N)C(O)C2=O)OC2C(=O)C(N)C(OC3C(=O)CC(N)C(O)C3O)OC2C1O\n",
      "3\n"
     ]
    },
    {
     "data": {
      "image/png": "[encoded data removed]",
      "text/plain": [
       "<rdkit.Chem.rdChemReactions.ChemicalReaction at 0x7f263c724e50>"
      ]
     },
     "metadata": {},
     "output_type": "display_data"
    },
    {
     "name": "stdout",
     "output_type": "stream",
     "text": [
      "O=C1C(=C(O)C(O)c2cc(O)cc(O)c21)c1c(O)cc(O)c2c1C(=O)C(O)=CC2O>>NC1C(=C(O)C(O)c2cc(O)cc(O)c21)c1c(O)cc(O)c2c1C(=O)C(O)=CC2O\n",
      "3\n"
     ]
    },
    {
     "data": {
      "image/png": "[encoded data removed]",
      "text/plain": [
       "<rdkit.Chem.rdChemReactions.ChemicalReaction at 0x7f263c724e50>"
      ]
     },
     "metadata": {},
     "output_type": "display_data"
    },
    {
     "name": "stdout",
     "output_type": "stream",
     "text": [
      "NCC1OC(OC2C(=O)C(OC3OC(C=O)C(=O)C(=O)C3O)C(=O)CC2N)C(=O)C(OP(=O)(O)O)C1O>>NCC1OC(OC2C(=O)C(OC3OC(C=O)C(=O)C(N)C3O)C(=O)CC2N)C(=O)C(OP(=O)(O)O)C1O\n",
      "3\n"
     ]
    },
    {
     "data": {
      "image/png": "[encoded data removed]",
      "text/plain": [
       "<rdkit.Chem.rdChemReactions.ChemicalReaction at 0x7f263c724e50>"
      ]
     },
     "metadata": {},
     "output_type": "display_data"
    },
    {
     "name": "stdout",
     "output_type": "stream",
     "text": [
      "CNC1C(=O)C2OC(OC3C(=O)CC(=O)C(O)C3O)C(=O)C(O)C2OC1OC1OC(CO)C(N)C(=O)C1=O>>CNC1C(=O)C2OC(OC3C(=O)CC(=O)C(O)C3O)C(N)C(O)C2OC1OC1OC(CO)C(N)C(=O)C1=O\n",
      "3\n"
     ]
    },
    {
     "data": {
      "image/png": "[encoded data removed]",
      "text/plain": [
       "<rdkit.Chem.rdChemReactions.ChemicalReaction at 0x7f263c724e50>"
      ]
     },
     "metadata": {},
     "output_type": "display_data"
    }
   ],
   "source": [
    "df_rand = df_redox[df_redox.category==3].sample(5)\n",
    "for i in df_rand.index:\n",
    "    smiles_str = df_rand.loc[i, 'rxn_smiles']\n",
    "    category = df_rand.loc[i, 'category']\n",
    "    print str(smiles_str)\n",
    "    print category\n",
    "    display(AllChem.ReactionFromSmarts(str(smiles_str)))"
   ]
  },
  {
   "cell_type": "code",
   "execution_count": null,
   "metadata": {
    "collapsed": true,
    "scrolled": true
   },
   "outputs": [],
   "source": [
    "# df_redox.to_csv('data_for_Ben/6C_G2G3_redox.csv', index=False)"
   ]
  },
  {
   "cell_type": "markdown",
   "metadata": {},
   "source": [
    "# Get unique molecules, generate compound ID's, etc. "
   ]
  },
  {
   "cell_type": "markdown",
   "metadata": {},
   "source": [
    "Get unique set of molecules: "
   ]
  },
  {
   "cell_type": "code",
   "execution_count": 205,
   "metadata": {
    "collapsed": true
   },
   "outputs": [],
   "source": [
    "subs = [rxn.split('>>')[0] for rxn in df_redox.rxn_smiles.values]\n",
    "prods = [rxn.split('>>')[1] for rxn in df_redox.rxn_smiles.values]\n",
    "comps = list(set(subs+prods))\n",
    "df_mols = pd.DataFrame(columns=['smiles'])\n",
    "df_mols['smiles'] = comps"
   ]
  },
  {
   "cell_type": "code",
   "execution_count": 207,
   "metadata": {
    "collapsed": true
   },
   "outputs": [],
   "source": [
    "df_mols['numC'] = df_mols.apply(RL.count_carbons, 1)\n",
    "\n",
    "df_mols.sort_values('numC', inplace=True)\n",
    "df_mols.reset_index(inplace=True, drop=True)"
   ]
  },
  {
   "cell_type": "markdown",
   "metadata": {},
   "source": [
    "Add made-up KEGG IDs:"
   ]
  },
  {
   "cell_type": "code",
   "execution_count": 208,
   "metadata": {
    "collapsed": true
   },
   "outputs": [],
   "source": [
    "BA_IDs = ['Z'+str(int(i)).zfill(5) for i in np.arange(df_mols.shape[0])]\n",
    "df_mols['BA_ID'] = BA_IDs"
   ]
  },
  {
   "cell_type": "code",
   "execution_count": 209,
   "metadata": {},
   "outputs": [
    {
     "data": {
      "text/html": [
       "<div>\n",
       "<table border=\"1\" class=\"dataframe\">\n",
       "  <thead>\n",
       "    <tr style=\"text-align: right;\">\n",
       "      <th></th>\n",
       "      <th>smiles</th>\n",
       "      <th>numC</th>\n",
       "      <th>BA_ID</th>\n",
       "    </tr>\n",
       "  </thead>\n",
       "  <tbody>\n",
       "    <tr>\n",
       "      <th>0</th>\n",
       "      <td>O=CCOP(=O)(O)O</td>\n",
       "      <td>2</td>\n",
       "      <td>Z00000</td>\n",
       "    </tr>\n",
       "    <tr>\n",
       "      <th>1</th>\n",
       "      <td>O=CCO</td>\n",
       "      <td>2</td>\n",
       "      <td>Z00001</td>\n",
       "    </tr>\n",
       "    <tr>\n",
       "      <th>2</th>\n",
       "      <td>NCCP(=O)(O)O</td>\n",
       "      <td>2</td>\n",
       "      <td>Z00002</td>\n",
       "    </tr>\n",
       "    <tr>\n",
       "      <th>3</th>\n",
       "      <td>NCC=O</td>\n",
       "      <td>2</td>\n",
       "      <td>Z00003</td>\n",
       "    </tr>\n",
       "    <tr>\n",
       "      <th>4</th>\n",
       "      <td>CCN</td>\n",
       "      <td>2</td>\n",
       "      <td>Z00004</td>\n",
       "    </tr>\n",
       "  </tbody>\n",
       "</table>\n",
       "</div>"
      ],
      "text/plain": [
       "           smiles  numC   BA_ID\n",
       "0  O=CCOP(=O)(O)O     2  Z00000\n",
       "1           O=CCO     2  Z00001\n",
       "2    NCCP(=O)(O)O     2  Z00002\n",
       "3           NCC=O     2  Z00003\n",
       "4             CCN     2  Z00004"
      ]
     },
     "execution_count": 209,
     "metadata": {},
     "output_type": "execute_result"
    }
   ],
   "source": [
    "df_mols.head()"
   ]
  },
  {
   "cell_type": "markdown",
   "metadata": {},
   "source": [
    "# Add BA_ID info to reaction dataframe:"
   ]
  },
  {
   "cell_type": "code",
   "execution_count": 210,
   "metadata": {
    "collapsed": true
   },
   "outputs": [],
   "source": [
    "def add_BA_IDs(row, df_mols):\n",
    "    sub_smiles = row.subs_smiles\n",
    "    prod_smiles = row.prods_smiles\n",
    "    sub_ID = df_mols[df_mols.smiles == sub_smiles]['BA_ID'].values[0]\n",
    "    prod_ID = df_mols[df_mols.smiles == prod_smiles]['BA_ID'].values[0]\n",
    "    return ' = '.join([sub_ID, prod_ID])"
   ]
  },
  {
   "cell_type": "code",
   "execution_count": 211,
   "metadata": {
    "collapsed": true
   },
   "outputs": [],
   "source": [
    "df_redox['rxn_ID'] = df_redox.apply(add_BA_IDs, 1, args = [df_mols])"
   ]
  },
  {
   "cell_type": "code",
   "execution_count": 218,
   "metadata": {},
   "outputs": [
    {
     "name": "stdout",
     "output_type": "stream",
     "text": [
      "(314794, 5)\n"
     ]
    },
    {
     "data": {
      "text/html": [
       "<div>\n",
       "<table border=\"1\" class=\"dataframe\">\n",
       "  <thead>\n",
       "    <tr style=\"text-align: right;\">\n",
       "      <th></th>\n",
       "      <th>rxn_smiles</th>\n",
       "      <th>category</th>\n",
       "      <th>subs_smiles</th>\n",
       "      <th>prods_smiles</th>\n",
       "      <th>rxn_ID</th>\n",
       "    </tr>\n",
       "  </thead>\n",
       "  <tbody>\n",
       "    <tr>\n",
       "      <th>0</th>\n",
       "      <td>CC=O&gt;&gt;CCO</td>\n",
       "      <td>2</td>\n",
       "      <td>CC=O</td>\n",
       "      <td>CCO</td>\n",
       "      <td>Z00005 = Z00018</td>\n",
       "    </tr>\n",
       "    <tr>\n",
       "      <th>1</th>\n",
       "      <td>CC=O&gt;&gt;CCN</td>\n",
       "      <td>3</td>\n",
       "      <td>CC=O</td>\n",
       "      <td>CCN</td>\n",
       "      <td>Z00005 = Z00004</td>\n",
       "    </tr>\n",
       "    <tr>\n",
       "      <th>2</th>\n",
       "      <td>O=CCO&gt;&gt;NCCO</td>\n",
       "      <td>3</td>\n",
       "      <td>O=CCO</td>\n",
       "      <td>NCCO</td>\n",
       "      <td>Z00001 = Z00006</td>\n",
       "    </tr>\n",
       "  </tbody>\n",
       "</table>\n",
       "</div>"
      ],
      "text/plain": [
       "    rxn_smiles  category subs_smiles prods_smiles           rxn_ID\n",
       "0    CC=O>>CCO         2        CC=O          CCO  Z00005 = Z00018\n",
       "1    CC=O>>CCN         3        CC=O          CCN  Z00005 = Z00004\n",
       "2  O=CCO>>NCCO         3       O=CCO         NCCO  Z00001 = Z00006"
      ]
     },
     "execution_count": 218,
     "metadata": {},
     "output_type": "execute_result"
    }
   ],
   "source": [
    "print df_redox.shape\n",
    "df_redox.head(3)"
   ]
  },
  {
   "cell_type": "code",
   "execution_count": null,
   "metadata": {
    "collapsed": true
   },
   "outputs": [],
   "source": [
    "def balance_G3(row):\n",
    "    rxn_ID = row.rxn_ID\n",
    "    if row.category == 3:\n",
    "        new_subs = ' + '.join([ rxn_ID.split(' = ')[0], 'C00014'])\n",
    "        new_prods = ' + '.join([ rxn_ID.split(' = ')[1], 'C00001'])\n",
    "        rxn_ID = ' = '.join([ new_subs, new_prods ])\n",
    "    return rxn_ID"
   ]
  },
  {
   "cell_type": "code",
   "execution_count": null,
   "metadata": {
    "collapsed": true
   },
   "outputs": [],
   "source": [
    "df_redox['rxn_ID'] = df_redox.apply(balance_G3, 1)"
   ]
  },
  {
   "cell_type": "code",
   "execution_count": null,
   "metadata": {
    "collapsed": true
   },
   "outputs": [],
   "source": [
    "df_redox[df_redox.category==3].head(5)"
   ]
  },
  {
   "cell_type": "code",
   "execution_count": 220,
   "metadata": {
    "collapsed": true
   },
   "outputs": [],
   "source": [
    "df_redox = df_redox[['rxn_ID', 'category']]"
   ]
  },
  {
   "cell_type": "code",
   "execution_count": 221,
   "metadata": {},
   "outputs": [
    {
     "data": {
      "text/html": [
       "<div>\n",
       "<table border=\"1\" class=\"dataframe\">\n",
       "  <thead>\n",
       "    <tr style=\"text-align: right;\">\n",
       "      <th></th>\n",
       "      <th>rxn_ID</th>\n",
       "      <th>category</th>\n",
       "    </tr>\n",
       "  </thead>\n",
       "  <tbody>\n",
       "    <tr>\n",
       "      <th>0</th>\n",
       "      <td>Z00005 = Z00018</td>\n",
       "      <td>2</td>\n",
       "    </tr>\n",
       "    <tr>\n",
       "      <th>1</th>\n",
       "      <td>Z00005 = Z00004</td>\n",
       "      <td>3</td>\n",
       "    </tr>\n",
       "    <tr>\n",
       "      <th>2</th>\n",
       "      <td>Z00001 = Z00006</td>\n",
       "      <td>3</td>\n",
       "    </tr>\n",
       "    <tr>\n",
       "      <th>3</th>\n",
       "      <td>Z00118 = Z00032</td>\n",
       "      <td>2</td>\n",
       "    </tr>\n",
       "    <tr>\n",
       "      <th>4</th>\n",
       "      <td>Z00118 = Z00133</td>\n",
       "      <td>3</td>\n",
       "    </tr>\n",
       "  </tbody>\n",
       "</table>\n",
       "</div>"
      ],
      "text/plain": [
       "            rxn_ID  category\n",
       "0  Z00005 = Z00018         2\n",
       "1  Z00005 = Z00004         3\n",
       "2  Z00001 = Z00006         3\n",
       "3  Z00118 = Z00032         2\n",
       "4  Z00118 = Z00133         3"
      ]
     },
     "execution_count": 221,
     "metadata": {},
     "output_type": "execute_result"
    }
   ],
   "source": [
    "df_redox.head(5)"
   ]
  },
  {
   "cell_type": "code",
   "execution_count": 222,
   "metadata": {
    "collapsed": true
   },
   "outputs": [],
   "source": [
    "df_mols = df_mols[['BA_ID', 'smiles']]"
   ]
  },
  {
   "cell_type": "code",
   "execution_count": 223,
   "metadata": {},
   "outputs": [
    {
     "data": {
      "text/html": [
       "<div>\n",
       "<table border=\"1\" class=\"dataframe\">\n",
       "  <thead>\n",
       "    <tr style=\"text-align: right;\">\n",
       "      <th></th>\n",
       "      <th>BA_ID</th>\n",
       "      <th>smiles</th>\n",
       "    </tr>\n",
       "  </thead>\n",
       "  <tbody>\n",
       "    <tr>\n",
       "      <th>0</th>\n",
       "      <td>Z00000</td>\n",
       "      <td>O=CCOP(=O)(O)O</td>\n",
       "    </tr>\n",
       "    <tr>\n",
       "      <th>1</th>\n",
       "      <td>Z00001</td>\n",
       "      <td>O=CCO</td>\n",
       "    </tr>\n",
       "    <tr>\n",
       "      <th>2</th>\n",
       "      <td>Z00002</td>\n",
       "      <td>NCCP(=O)(O)O</td>\n",
       "    </tr>\n",
       "    <tr>\n",
       "      <th>3</th>\n",
       "      <td>Z00003</td>\n",
       "      <td>NCC=O</td>\n",
       "    </tr>\n",
       "    <tr>\n",
       "      <th>4</th>\n",
       "      <td>Z00004</td>\n",
       "      <td>CCN</td>\n",
       "    </tr>\n",
       "  </tbody>\n",
       "</table>\n",
       "</div>"
      ],
      "text/plain": [
       "    BA_ID          smiles\n",
       "0  Z00000  O=CCOP(=O)(O)O\n",
       "1  Z00001           O=CCO\n",
       "2  Z00002    NCCP(=O)(O)O\n",
       "3  Z00003           NCC=O\n",
       "4  Z00004             CCN"
      ]
     },
     "execution_count": 223,
     "metadata": {},
     "output_type": "execute_result"
    }
   ],
   "source": [
    "df_mols.head(5)"
   ]
  },
  {
   "cell_type": "code",
   "execution_count": null,
   "metadata": {
    "collapsed": true
   },
   "outputs": [],
   "source": [
    "df_redox.shape"
   ]
  },
  {
   "cell_type": "code",
   "execution_count": null,
   "metadata": {
    "collapsed": true
   },
   "outputs": [],
   "source": [
    "df_mols.head(5)"
   ]
  },
  {
   "cell_type": "markdown",
   "metadata": {},
   "source": [
    "# Write data for Ben: "
   ]
  },
  {
   "cell_type": "code",
   "execution_count": 224,
   "metadata": {
    "collapsed": true
   },
   "outputs": [],
   "source": [
    "path_redox_rxns = 'data_for_Ben/21C_G2_G3_redox_rxns.csv'\n",
    "path_mols = 'data_for_Ben/21C_G2_G3_mols.csv'\n",
    "df_redox.to_csv(path_redox_rxns, index=False)\n",
    "df_mols.to_csv(path_mols, index=False)"
   ]
  },
  {
   "cell_type": "markdown",
   "metadata": {},
   "source": [
    "_______________________________________________\n",
    "_______________________________________________\n",
    "_______________________________________________\n",
    "_______________________________________________\n",
    "_______________________________________________"
   ]
  },
  {
   "cell_type": "markdown",
   "metadata": {},
   "source": [
    "# Analyze number of reactions / compounds as a function of number of carbons: "
   ]
  },
  {
   "cell_type": "markdown",
   "metadata": {},
   "source": [
    "Reactions: "
   ]
  },
  {
   "cell_type": "markdown",
   "metadata": {},
   "source": [
    "Oxidations: "
   ]
  },
  {
   "cell_type": "code",
   "execution_count": 105,
   "metadata": {
    "ExecuteTime": {
     "end_time": "2017-11-13T01:54:02.470721Z",
     "start_time": "2017-11-13T01:54:01.533449Z"
    }
   },
   "outputs": [
    {
     "data": {
      "text/plain": [
       "0.97333494285151556"
      ]
     },
     "execution_count": 105,
     "metadata": {},
     "output_type": "execute_result"
    }
   ],
   "source": [
    "path_redox_rxns = 'data_for_Ben/21C_G2G3_oxidations.csv'\n",
    "df_ox = pd.read_csv(path_redox_rxns)\n",
    "np.double(df_ox.shape[0]) / num_rxns"
   ]
  },
  {
   "cell_type": "markdown",
   "metadata": {},
   "source": [
    "Reductions: "
   ]
  },
  {
   "cell_type": "code",
   "execution_count": 106,
   "metadata": {
    "ExecuteTime": {
     "end_time": "2017-11-13T01:54:10.101155Z",
     "start_time": "2017-11-13T01:54:10.037573Z"
    }
   },
   "outputs": [
    {
     "data": {
      "text/plain": [
       "0.027313099995552648"
      ]
     },
     "execution_count": 106,
     "metadata": {},
     "output_type": "execute_result"
    }
   ],
   "source": [
    "path_redox_rxns = 'data_for_Ben/21C_G2G3_reductions.csv'\n",
    "df_red = pd.read_csv(path_redox_rxns)\n",
    "np.double(df_red.shape[0]) / num_rxns"
   ]
  },
  {
   "cell_type": "code",
   "execution_count": 98,
   "metadata": {
    "ExecuteTime": {
     "end_time": "2017-11-13T01:47:46.343780Z",
     "start_time": "2017-11-13T01:47:45.737571Z"
    },
    "collapsed": true
   },
   "outputs": [],
   "source": [
    "path_redox_rxns = 'data_for_Ben/21C_G2_G3_redox_rxns.csv'\n",
    "df_redox = pd.read_csv(path_redox_rxns)\n",
    "\n",
    "num_rxns = df_redox.shape[0]"
   ]
  },
  {
   "cell_type": "code",
   "execution_count": 100,
   "metadata": {
    "ExecuteTime": {
     "end_time": "2017-11-13T01:48:11.387557Z",
     "start_time": "2017-11-13T01:48:11.335482Z"
    }
   },
   "outputs": [
    {
     "data": {
      "text/plain": [
       "0.83156286333284624"
      ]
     },
     "execution_count": 100,
     "metadata": {},
     "output_type": "execute_result"
    }
   ],
   "source": [
    "G2_num = df_redox[df_redox.category == 2].shape[0]\n",
    "np.double(G2_num)/num_rxns"
   ]
  },
  {
   "cell_type": "markdown",
   "metadata": {},
   "source": [
    "molecules: "
   ]
  },
  {
   "cell_type": "code",
   "execution_count": 20,
   "metadata": {
    "ExecuteTime": {
     "end_time": "2017-11-12T18:43:26.073508Z",
     "start_time": "2017-11-12T18:43:25.888610Z"
    },
    "collapsed": true
   },
   "outputs": [],
   "source": [
    "path_mols = 'data_for_Ben/21C_G2_G3_mols.csv'\n",
    "df_mols = pd.read_csv(path_mols)"
   ]
  },
  {
   "cell_type": "code",
   "execution_count": 21,
   "metadata": {
    "ExecuteTime": {
     "end_time": "2017-11-12T18:43:30.180825Z",
     "start_time": "2017-11-12T18:43:28.166828Z"
    },
    "collapsed": true
   },
   "outputs": [],
   "source": [
    "df_mols['numC'] = df_mols.apply(RL.count_carbons, 1)\n",
    "df_mols.sort_values('numC', inplace=True)\n",
    "df_mols.reset_index(inplace=True, drop=True)"
   ]
  },
  {
   "cell_type": "code",
   "execution_count": 22,
   "metadata": {
    "ExecuteTime": {
     "end_time": "2017-11-12T18:43:32.773789Z",
     "start_time": "2017-11-12T18:43:32.678271Z"
    },
    "collapsed": true
   },
   "outputs": [],
   "source": [
    "nC_arr = np.arange(1, df_mols.numC.max()+1)\n",
    "mols_nC_list = {}\n",
    "for nC in nC_arr:\n",
    "    mols_nC = df_mols[df_mols.numC<=nC].shape[0]\n",
    "    mols_nC_list[nC] = mols_nC"
   ]
  },
  {
   "cell_type": "code",
   "execution_count": 84,
   "metadata": {
    "ExecuteTime": {
     "end_time": "2017-11-12T19:04:51.694289Z",
     "start_time": "2017-11-12T19:04:49.877304Z"
    }
   },
   "outputs": [
    {
     "data": {
      "image/png": "[encoded data removed]",
      "text/plain": [
       "<matplotlib.figure.Figure at 0x12551f6d0>"
      ]
     },
     "metadata": {},
     "output_type": "display_data"
    }
   ],
   "source": [
    "sns.set_style(\"whitegrid\")\n",
    "plt.figure(figsize = (13,6))\n",
    "numC = df_mols.numC.values\n",
    "sns.distplot(numC, np.arange(0, 23), kde = False, hist_kws={'alpha':1})\n",
    "labels = [str(i) for i in np.arange(0, 22, 2)]\n",
    "xt = plt.xticks(np.arange(0.5, 22,2), labels, fontsize = 18)\n",
    "yt = plt.yticks(fontsize = 18)\n",
    "plt.xlim(1, 22)\n",
    "yl = plt.ylabel('number of compounds', fontsize = 24)\n",
    "xl = plt.xlabel('number of carbons', fontsize = 24)\n",
    "\n",
    "\n",
    "path_temp = '/Users/ajinich/Dropbox (Aspuru-Guzik Lab)/Quantum/redox/data_for_Ben/figures'\n",
    "plt.savefig(os.path.join(path_temp, 'numC_distro.png'), dpi = 200)\n"
   ]
  },
  {
   "cell_type": "code",
   "execution_count": 23,
   "metadata": {
    "ExecuteTime": {
     "end_time": "2017-11-12T18:43:34.074987Z",
     "start_time": "2017-11-12T18:43:33.558847Z"
    }
   },
   "outputs": [
    {
     "data": {
      "text/plain": [
       "<matplotlib.text.Text at 0x11c8d24d0>"
      ]
     },
     "execution_count": 23,
     "metadata": {},
     "output_type": "execute_result"
    },
    {
     "data": {
      "image/png": "[encoded data removed]",
      "text/plain": [
       "<matplotlib.figure.Figure at 0x120fc10d0>"
      ]
     },
     "metadata": {},
     "output_type": "display_data"
    }
   ],
   "source": [
    "plt.figure(figsize = (5,5))\n",
    "plt.plot(nC_arr, mols_nC_list.values(), '-o')\n",
    "plt.xlabel('number of carbons (C)', fontsize=24)\n",
    "plt.ylabel('unique molecules c<=C', fontsize = 24)"
   ]
  },
  {
   "cell_type": "markdown",
   "metadata": {},
   "source": [
    "Is this due to numbers in KEGG? Apparently not!"
   ]
  },
  {
   "cell_type": "code",
   "execution_count": 238,
   "metadata": {
    "collapsed": true
   },
   "outputs": [],
   "source": [
    "nC_arr = np.arange(1, df_mols.numC.max()+1)\n",
    "KEGG_nC_list = {}\n",
    "for nC in nC_arr:\n",
    "    KEGG_nC = df_kegg[df_kegg.numC<=nC].shape[0]\n",
    "    KEGG_nC_list[nC] = KEGG_nC"
   ]
  },
  {
   "cell_type": "code",
   "execution_count": 239,
   "metadata": {},
   "outputs": [
    {
     "data": {
      "text/plain": [
       "<matplotlib.text.Text at 0x7f263bb09dd0>"
      ]
     },
     "execution_count": 239,
     "metadata": {},
     "output_type": "execute_result"
    },
    {
     "data": {
      "image/png": "[encoded data removed]",
      "text/plain": [
       "<matplotlib.figure.Figure at 0x7f263ba48dd0>"
      ]
     },
     "metadata": {},
     "output_type": "display_data"
    }
   ],
   "source": [
    "plt.figure(figsize = (5,5))\n",
    "plt.plot(nC_arr, KEGG_nC_list.values(), '-o')\n",
    "plt.xlabel('number of carbons', fontsize=24)\n",
    "plt.ylabel('molecules in KEGG', fontsize = 24)"
   ]
  },
  {
   "cell_type": "code",
   "execution_count": 245,
   "metadata": {},
   "outputs": [
    {
     "data": {
      "text/plain": [
       "<matplotlib.text.Text at 0x7f263b73f0d0>"
      ]
     },
     "execution_count": 245,
     "metadata": {},
     "output_type": "execute_result"
    },
    {
     "data": {
      "image/png": "[encoded data removed]",
      "text/plain": [
       "<matplotlib.figure.Figure at 0x7f263b7a2950>"
      ]
     },
     "metadata": {},
     "output_type": "display_data"
    }
   ],
   "source": [
    "plt.figure(figsize = (5,5))\n",
    "plt.plot(KEGG_nC_list.values(), mols_nC_list.values(), '-o')\n",
    "plt.plot((0, 8000), (0,8000), 'r-')\n",
    "plt.xlabel('number of KEGG mols', fontsize=24)\n",
    "plt.ylabel('num. unique mols', fontsize = 24)"
   ]
  },
  {
   "cell_type": "markdown",
   "metadata": {},
   "source": [
    "What's going on? at 18 carbons, there must be some molecules with a many (=O) or (-OH) or (-NH) groups"
   ]
  },
  {
   "cell_type": "markdown",
   "metadata": {},
   "source": [
    "reactions: "
   ]
  },
  {
   "cell_type": "code",
   "execution_count": 293,
   "metadata": {
    "collapsed": true
   },
   "outputs": [],
   "source": [
    "def get_num_C_rxn(row, df_mols):\n",
    "    sub = row.rxn_ID.split(' = ')[0]\n",
    "    return df_mols[df_mols.BA_ID == sub].numC"
   ]
  },
  {
   "cell_type": "code",
   "execution_count": null,
   "metadata": {
    "collapsed": true
   },
   "outputs": [],
   "source": [
    "df_redox['numC'] = df_redox.apply(get_num_C_rxn, 1, args = [df_mols])"
   ]
  },
  {
   "cell_type": "code",
   "execution_count": null,
   "metadata": {
    "collapsed": true
   },
   "outputs": [],
   "source": [
    "df_redox.head(5)"
   ]
  },
  {
   "cell_type": "markdown",
   "metadata": {},
   "source": [
    "# Appendix: fixing bugs in G3 oxidations: "
   ]
  },
  {
   "cell_type": "markdown",
   "metadata": {},
   "source": [
    "These are the G3 reduction strings; "
   ]
  },
  {
   "cell_type": "code",
   "execution_count": null,
   "metadata": {
    "collapsed": true
   },
   "outputs": [],
   "source": [
    "#aldehydes\n",
    "G3_ald = AllChem.ReactionFromSmarts('[CX3H1:2](=O)[#6:1]>>[#6:1][CX4H2:2][NX3;H2,H1;!$(NC=O)]')\n",
    "G3_ald_new = AllChem.ReactionFromSmarts('[#6:1][CX3H1:2](=O)>>[#6:1][NX3;H2;!$(NC=[!#6]);!$(NC#[!#6])]')\n",
    "\n",
    "#Ketones\n",
    "G3_ket = AllChem.ReactionFromSmarts('[#6:1][CX3:2](=O)[#6:3]>>[C:1][CX4H1:2]([C:3])[NX3;H2,H1;!$(NC=O)]')\n"
   ]
  },
  {
   "cell_type": "markdown",
   "metadata": {},
   "source": [
    "These are the G3 oxidation strings: "
   ]
  },
  {
   "cell_type": "code",
   "execution_count": null,
   "metadata": {
    "collapsed": true
   },
   "outputs": [],
   "source": [
    "#aldehydes\n",
    "#G3_ald_ox = AllChem.ReactionFromSmarts('[#6:1][CX4H2:2][NX3;H2,H1;!$(NC=O)]>>[CX3H1:2](=O)[#6:1]')\n",
    "G3_ald_ox = AllChem.ReactionFromSmarts('[#6:1][CX4H2:2][NX3;H2;!$(NC=[!#6]);!$(NC#[!#6])]>>[#6:1][CX3H1:2](=O)')\n",
    "G3_ald_ox_rev = AllChem.ReactionFromSmarts('[#6:1][CX4H2:2][NX3;H2;!$(NC=[!#6]);!$(NC#[!#6])]>>[#6:1][CX3H1:2](=O)')\n",
    "\n",
    "#Ketones\n",
    "G3_ket_ox = AllChem.ReactionFromSmarts('[C:1][CX4H1:2]([C:3])[NX3;H2;!$(NC=[!#6]);!$(NC#[!#6])]>>[#6:1][CX3H0:2](=O)[#6:3]')\n",
    "#G3_ket_ox = AllChem.ReactionFromSmarts('[C:1][CX4H1:2]([C:3])[NX3;H2,H1;!$(NC=O)]>>[#6:1][CX3H0:2](=O)[#6:3]')\n"
   ]
  },
  {
   "cell_type": "code",
   "execution_count": null,
   "metadata": {
    "collapsed": true
   },
   "outputs": [],
   "source": [
    "def G3_function_ox(metab_smiles):\n",
    "    reactant = Chem.MolFromSmiles(metab_smiles)\n",
    "    prod_list = []\n",
    "    \n",
    "    #Aldehyde oxidation\n",
    "    prod_1 = G3_ald_ox.RunReactants([reactant])\n",
    "    if len(prod_1) > 0:\n",
    "        for x in prod_1:\n",
    "            smiles = Chem.MolToSmiles(x[0])\n",
    "            prod_list.append(smiles)\n",
    "    #Ketone oxidation        \n",
    "    prod_2 = G3_ket_ox.RunReactants([reactant])\n",
    "    if len(prod_2) > 0:\n",
    "        for x in prod_2:\n",
    "            smiles = Chem.MolToSmiles(x[0])\n",
    "            prod_list.append(smiles)\n",
    "    return prod_list"
   ]
  },
  {
   "cell_type": "code",
   "execution_count": null,
   "metadata": {
    "collapsed": true
   },
   "outputs": [],
   "source": [
    "smiles_test = u'CC1CN1'\n",
    "print 'this is the test substrate:'\n",
    "display(AllChem.MolFromSmiles(smiles_test))\n",
    "reactant = Chem.MolFromSmiles(smiles_test)\n",
    "prod_1 = G3_ald_ox.RunReactants([reactant])\n",
    "print 'these are the products:'\n",
    "for x in prod_1:\n",
    "    smiles = Chem.MolToSmiles(x[0])\n",
    "    display(AllChem.MolFromSmiles(smiles))\n"
   ]
  },
  {
   "cell_type": "code",
   "execution_count": null,
   "metadata": {
    "collapsed": true
   },
   "outputs": [],
   "source": [
    "smiles_test = u'CCNCC=O'\n",
    "print 'this is the test substrate:'\n",
    "display(AllChem.MolFromSmiles(smiles_test))\n",
    "reactant = Chem.MolFromSmiles(smiles_test)\n",
    "prod_1 = G3_ket_ox.RunReactants([reactant])\n",
    "for x in prod_1:\n",
    "    smiles = Chem.MolToSmiles(x[0])\n",
    "    display(AllChem.MolFromSmiles(smiles))\n"
   ]
  },
  {
   "cell_type": "markdown",
   "metadata": {},
   "source": [
    "_____________________________\n",
    "_____________________________\n",
    "_____________________________\n",
    "_____________________________\n",
    "_____________________________\n",
    "_____________________________\n",
    "_____________________________\n",
    "_____________________________\n",
    "_____________________________"
   ]
  },
  {
   "cell_type": "markdown",
   "metadata": {},
   "source": [
    "# Appendix 1: early attemps at n-carbon network: "
   ]
  },
  {
   "cell_type": "markdown",
   "metadata": {},
   "source": [
    "### First run function on 2-carbon redox network: "
   ]
  },
  {
   "cell_type": "code",
   "execution_count": null,
   "metadata": {
    "collapsed": true
   },
   "outputs": [],
   "source": [
    "two_C_list =  ['OC(=O)C(O)=O']"
   ]
  },
  {
   "cell_type": "code",
   "execution_count": null,
   "metadata": {
    "collapsed": true
   },
   "outputs": [],
   "source": [
    "# Empty list of all reactions. \n",
    "rxn_list = []\n",
    "Master_Sub_List = []\n",
    "counter = 0\n",
    "for metabolite in two_C_list:\n",
    "    # Run reduction function on a single metabolite\n",
    "    rxn_list_temp, Master_Sub_List = reduce_metabolite(metabolite, Master_Sub_List)\n",
    "    # print 'Current rxn_list_temp', rxn_list_temp\n",
    "    \n",
    "    # If there are some reactions, store in reaction list\n",
    "    if len(rxn_list_temp) > 0:\n",
    "        rxn_list += rxn_list_temp\n",
    "        # Make Unique (necessary ?)\n",
    "        rxn_list = list(set(rxn_list)) \n",
    "    # Update Master_Sub_List\n",
    "    new_subs_list = [rxn.split('>>')[0] for rxn in rxn_list_temp]\n",
    "    Master_Sub_List += new_subs_list\n",
    "    Master_Sub_List = list(set(Master_Sub_List))\n",
    "    "
   ]
  },
  {
   "cell_type": "markdown",
   "metadata": {},
   "source": [
    "I want to get rid of G3s for now:"
   ]
  },
  {
   "cell_type": "code",
   "execution_count": null,
   "metadata": {
    "collapsed": true
   },
   "outputs": [],
   "source": [
    "rxn_list_noG3 = [rxn for rxn in rxn_list if not \"N\" in rxn]"
   ]
  },
  {
   "cell_type": "markdown",
   "metadata": {},
   "source": [
    "Get unique metabolites: "
   ]
  },
  {
   "cell_type": "code",
   "execution_count": null,
   "metadata": {
    "collapsed": true
   },
   "outputs": [],
   "source": [
    "all_mols = list(set([rxn.split('>>')[0] for rxn in rxn_list_noG3] + [rxn.split('>>')[1] for rxn in rxn_list_noG3]))"
   ]
  },
  {
   "cell_type": "code",
   "execution_count": null,
   "metadata": {
    "collapsed": true
   },
   "outputs": [],
   "source": [
    "file_2C_mols = 'rxn_networks/mols_2C.txt'\n",
    "file_2C_rxns = 'rxn_networks/rxns_2C.txt'\n",
    "with open(file_2C_mols,'wb') as fm:\n",
    "    for mol in all_mols:\n",
    "        fm.write(mol+'\\n')\n",
    "with open(file_2C_rxns, 'wb') as fr:\n",
    "    for rxn in rxn_list_noG3:\n",
    "        fr.write(rxn+'\\n')"
   ]
  },
  {
   "cell_type": "code",
   "execution_count": null,
   "metadata": {
    "collapsed": true
   },
   "outputs": [],
   "source": []
  },
  {
   "cell_type": "markdown",
   "metadata": {},
   "source": [
    "# Appendix 2: Ignore this for now"
   ]
  },
  {
   "cell_type": "code",
   "execution_count": null,
   "metadata": {
    "collapsed": true
   },
   "outputs": [],
   "source": [
    "df = pd.read_csv(\"~/Dropbox/Quantum/redox/data_for_Ben/All_Redox_Reactions.csv\")"
   ]
  },
  {
   "cell_type": "code",
   "execution_count": null,
   "metadata": {
    "collapsed": true,
    "scrolled": true
   },
   "outputs": [],
   "source": [
    "sub_df = df[100:200]\n",
    "sub_df.head()"
   ]
  },
  {
   "cell_type": "code",
   "execution_count": null,
   "metadata": {
    "collapsed": true,
    "scrolled": true
   },
   "outputs": [],
   "source": [
    "sub_df['Category'] = sub_df.apply(categorize_rxn, 1)"
   ]
  },
  {
   "cell_type": "code",
   "execution_count": null,
   "metadata": {
    "collapsed": true,
    "scrolled": true
   },
   "outputs": [],
   "source": [
    "sub_df"
   ]
  },
  {
   "cell_type": "code",
   "execution_count": null,
   "metadata": {
    "collapsed": true
   },
   "outputs": [],
   "source": [
    "rxn_list = list(df['Reaction'].values)"
   ]
  },
  {
   "cell_type": "code",
   "execution_count": null,
   "metadata": {
    "collapsed": true,
    "scrolled": true
   },
   "outputs": [],
   "source": [
    "rxn = rxn_list[100000]\n",
    "print rxn"
   ]
  },
  {
   "cell_type": "code",
   "execution_count": null,
   "metadata": {
    "collapsed": true
   },
   "outputs": [],
   "source": [
    "display(AllChem.ReactionFromSmarts(rxn))"
   ]
  },
  {
   "cell_type": "code",
   "execution_count": null,
   "metadata": {
    "collapsed": true,
    "scrolled": true
   },
   "outputs": [],
   "source": [
    "for rxn in rxn_list[:200]:\n",
    "    print rxn\n",
    "    display(AllChem.ReactionFromSmarts(rxn))"
   ]
  },
  {
   "cell_type": "code",
   "execution_count": null,
   "metadata": {
    "collapsed": true
   },
   "outputs": [],
   "source": [
    "display(AllChem.ReactionFromSmarts('OC1CCCCO1>>OCCCCCO'))"
   ]
  }
 ],
 "metadata": {
  "kernelspec": {
   "display_name": "Python 3",
   "language": "python",
   "name": "python3"
  },
  "language_info": {
   "codemirror_mode": {
    "name": "ipython",
    "version": 3
   },
   "file_extension": ".py",
   "mimetype": "text/x-python",
   "name": "python",
   "nbconvert_exporter": "python",
   "pygments_lexer": "ipython3",
   "version": "3.6.6"
  },
  "toc": {
   "colors": {
    "hover_highlight": "#DAA520",
    "navigate_num": "#000000",
    "navigate_text": "#333333",
    "running_highlight": "#FF0000",
    "selected_highlight": "#FFD700",
    "sidebar_border": "#EEEEEE",
    "wrapper_background": "#FFFFFF"
   },
   "moveMenuLeft": true,
   "nav_menu": {
    "height": "314px",
    "width": "252px"
   },
   "navigate_menu": true,
   "number_sections": true,
   "sideBar": true,
   "threshold": 4,
   "toc_cell": false,
   "toc_section_display": "block",
   "toc_window_display": false,
   "widenNotebook": false
  }
 },
 "nbformat": 4,
 "nbformat_minor": 2
}
