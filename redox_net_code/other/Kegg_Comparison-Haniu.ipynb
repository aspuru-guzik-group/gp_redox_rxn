{
 "cells": [
  {
   "cell_type": "code",
   "execution_count": 1,
   "metadata": {
    "ExecuteTime": {
     "end_time": "2017-06-02T20:34:49.011152Z",
     "start_time": "2017-06-02T20:34:46.502443Z"
    },
    "collapsed": true
   },
   "outputs": [],
   "source": [
    "from IPython.display import Image, SVG\n",
    "from rdkit import Chem\n",
    "import json\n",
    "from rdkit.Chem.Draw import IPythonConsole, ReactionToImage\n",
    "from rdkit.Chem import AllChem,Draw,Descriptors\n",
    "import copy\n",
    "import pandas as pd\n",
    "import re\n",
    "import matplotlib.pyplot as plt\n",
    "%load_ext autoreload\n",
    "%autoreload 2\n",
    "\n",
    "%matplotlib inline"
   ]
  },
  {
   "cell_type": "markdown",
   "metadata": {},
   "source": [
    "# Load Lists"
   ]
  },
  {
   "cell_type": "markdown",
   "metadata": {},
   "source": [
    "load 10 carbon redox reactions"
   ]
  },
  {
   "cell_type": "code",
   "execution_count": 2,
   "metadata": {
    "ExecuteTime": {
     "end_time": "2017-06-02T20:35:02.682886Z",
     "start_time": "2017-06-02T20:34:59.145397Z"
    },
    "collapsed": true
   },
   "outputs": [],
   "source": [
    "path_name = 'data_for_Ben/10C_Redox.csv'\n",
    "redox_rxns = pd.read_csv(path_name)"
   ]
  },
  {
   "cell_type": "markdown",
   "metadata": {},
   "source": [
    "load kegg reactions"
   ]
  },
  {
   "cell_type": "code",
   "execution_count": 3,
   "metadata": {
    "ExecuteTime": {
     "end_time": "2017-06-02T20:35:06.639162Z",
     "start_time": "2017-06-02T20:35:06.498547Z"
    },
    "collapsed": true
   },
   "outputs": [],
   "source": [
    "kegg_rxns = pd.read_csv('KEGG_ALL.csv', sep = '\\t', engine = 'python')"
   ]
  },
  {
   "cell_type": "markdown",
   "metadata": {},
   "source": [
    "load kegg canonical smiles dictionary"
   ]
  },
  {
   "cell_type": "code",
   "execution_count": 4,
   "metadata": {
    "ExecuteTime": {
     "end_time": "2017-06-02T20:35:08.598748Z",
     "start_time": "2017-06-02T20:35:08.541671Z"
    },
    "collapsed": true
   },
   "outputs": [],
   "source": [
    "with open('Kegg_Canonical_Final.json', 'r') as fp:\n",
    "        Kegg_smiles_dict = json.load(fp)"
   ]
  },
  {
   "cell_type": "markdown",
   "metadata": {},
   "source": [
    "create kegg canonical smiles list"
   ]
  },
  {
   "cell_type": "code",
   "execution_count": 5,
   "metadata": {
    "ExecuteTime": {
     "end_time": "2017-06-02T20:35:09.992361Z",
     "start_time": "2017-06-02T20:35:09.946567Z"
    },
    "collapsed": true
   },
   "outputs": [],
   "source": [
    "Kegg_smiles = []\n",
    "for x in Kegg_smiles_dict:\n",
    "    Kegg_smiles.append(Kegg_smiles_dict[x])"
   ]
  },
  {
   "cell_type": "markdown",
   "metadata": {},
   "source": [
    "KEGG reaction list"
   ]
  },
  {
   "cell_type": "code",
   "execution_count": 6,
   "metadata": {
    "ExecuteTime": {
     "end_time": "2017-06-02T20:35:11.755616Z",
     "start_time": "2017-06-02T20:35:11.715352Z"
    },
    "collapsed": true
   },
   "outputs": [],
   "source": [
    "Kegg_reaction = list(kegg_rxns.EQUATION.values)"
   ]
  },
  {
   "cell_type": "code",
   "execution_count": 7,
   "metadata": {
    "ExecuteTime": {
     "end_time": "2017-06-02T20:35:12.943727Z",
     "start_time": "2017-06-02T20:35:12.880069Z"
    },
    "collapsed": false
   },
   "outputs": [
    {
     "data": {
      "text/html": [
       "<div>\n",
       "<style>\n",
       "    .dataframe thead tr:only-child th {\n",
       "        text-align: right;\n",
       "    }\n",
       "\n",
       "    .dataframe thead th {\n",
       "        text-align: left;\n",
       "    }\n",
       "\n",
       "    .dataframe tbody tr th {\n",
       "        vertical-align: top;\n",
       "    }\n",
       "</style>\n",
       "<table border=\"1\" class=\"dataframe\">\n",
       "  <thead>\n",
       "    <tr style=\"text-align: right;\">\n",
       "      <th></th>\n",
       "      <th>DEFINITION</th>\n",
       "      <th>EC_CLASS</th>\n",
       "      <th>EQUATION</th>\n",
       "      <th>KEGG_ID</th>\n",
       "      <th>NAME</th>\n",
       "    </tr>\n",
       "  </thead>\n",
       "  <tbody>\n",
       "    <tr>\n",
       "      <th>0</th>\n",
       "      <td>Polyphosphate + n H2O &lt;=&gt; (n+1) Oligophosphate</td>\n",
       "      <td>3.6.1.10</td>\n",
       "      <td>C00404 + n C00001 &lt;=&gt; (n+1) C02174</td>\n",
       "      <td>R00001</td>\n",
       "      <td>polyphosphate polyphosphohydrolase</td>\n",
       "    </tr>\n",
       "    <tr>\n",
       "      <th>1</th>\n",
       "      <td>16 ATP + 16 H2O + 8 Reduced ferredoxin &lt;=&gt; 8 e...</td>\n",
       "      <td>1.18.6.1</td>\n",
       "      <td>16 C00002 + 16 C00001 + 8 C00138 &lt;=&gt; 8 C05359 ...</td>\n",
       "      <td>R00002</td>\n",
       "      <td>Reduced ferredoxin:dinitrogen oxidoreductase (...</td>\n",
       "    </tr>\n",
       "    <tr>\n",
       "      <th>2</th>\n",
       "      <td>Diphosphate + H2O &lt;=&gt; 2 Orthophosphate</td>\n",
       "      <td>3.6.1.1</td>\n",
       "      <td>C00013 + C00001 &lt;=&gt; 2 C00009</td>\n",
       "      <td>R00004</td>\n",
       "      <td>diphosphate phosphohydrolase;</td>\n",
       "    </tr>\n",
       "    <tr>\n",
       "      <th>3</th>\n",
       "      <td>Urea-1-carboxylate + H2O &lt;=&gt; 2 CO2 + 2 Ammonia</td>\n",
       "      <td>3.5.1.54</td>\n",
       "      <td>C01010 + C00001 &lt;=&gt; 2 C00011 + 2 C00014</td>\n",
       "      <td>R00005</td>\n",
       "      <td>urea-1-carboxylate amidohydrolase</td>\n",
       "    </tr>\n",
       "    <tr>\n",
       "      <th>4</th>\n",
       "      <td>2-Acetolactate + CO2 &lt;=&gt; 2 Pyruvate</td>\n",
       "      <td>2.2.1.6</td>\n",
       "      <td>C00900 + C00011 &lt;=&gt; 2 C00022</td>\n",
       "      <td>R00006</td>\n",
       "      <td>pyruvate:pyruvate acetaldehydetransferase (dec...</td>\n",
       "    </tr>\n",
       "  </tbody>\n",
       "</table>\n",
       "</div>"
      ],
      "text/plain": [
       "                                          DEFINITION  EC_CLASS  \\\n",
       "0     Polyphosphate + n H2O <=> (n+1) Oligophosphate  3.6.1.10   \n",
       "1  16 ATP + 16 H2O + 8 Reduced ferredoxin <=> 8 e...  1.18.6.1   \n",
       "2             Diphosphate + H2O <=> 2 Orthophosphate   3.6.1.1   \n",
       "3     Urea-1-carboxylate + H2O <=> 2 CO2 + 2 Ammonia  3.5.1.54   \n",
       "4                2-Acetolactate + CO2 <=> 2 Pyruvate   2.2.1.6   \n",
       "\n",
       "                                            EQUATION KEGG_ID  \\\n",
       "0                 C00404 + n C00001 <=> (n+1) C02174  R00001   \n",
       "1  16 C00002 + 16 C00001 + 8 C00138 <=> 8 C05359 ...  R00002   \n",
       "2                       C00013 + C00001 <=> 2 C00009  R00004   \n",
       "3            C01010 + C00001 <=> 2 C00011 + 2 C00014  R00005   \n",
       "4                       C00900 + C00011 <=> 2 C00022  R00006   \n",
       "\n",
       "                                                NAME  \n",
       "0                 polyphosphate polyphosphohydrolase  \n",
       "1  Reduced ferredoxin:dinitrogen oxidoreductase (...  \n",
       "2                      diphosphate phosphohydrolase;  \n",
       "3                  urea-1-carboxylate amidohydrolase  \n",
       "4  pyruvate:pyruvate acetaldehydetransferase (dec...  "
      ]
     },
     "execution_count": 7,
     "metadata": {},
     "output_type": "execute_result"
    }
   ],
   "source": [
    "kegg_rxns.head()"
   ]
  },
  {
   "cell_type": "markdown",
   "metadata": {},
   "source": [
    "# Functions"
   ]
  },
  {
   "cell_type": "code",
   "execution_count": 8,
   "metadata": {
    "ExecuteTime": {
     "end_time": "2017-06-02T20:35:15.099936Z",
     "start_time": "2017-06-02T20:35:14.976036Z"
    },
    "collapsed": true
   },
   "outputs": [],
   "source": [
    "def count_carbons(x):\n",
    "    smiles = x.Reaction\n",
    "    \n",
    "    metabolite = smiles.split('>>')[1]\n",
    "    \n",
    "    new_smiles = metabolite.replace('Cl', '')\n",
    "    numC = new_smiles.count('C') + new_smiles.count('c')\n",
    "    \n",
    "    return numC\n",
    "\n",
    "def same_numC(x):\n",
    "    reaction = x.Reaction\n",
    "    \n",
    "    new_reaction = reaction.replace('Cl', '')\n",
    "    \n",
    "    sub = new_reaction.split('>>')[0]\n",
    "    prod = new_reaction.split('>>')[1]\n",
    "    \n",
    "    sub_numC = sub.count('C') + sub.count('c')\n",
    "    prod_numC = prod.count('C') + prod.count('c')\n",
    "    \n",
    "    if sub_numC != prod_numC:\n",
    "        return False\n",
    "    \n",
    "    return True\n",
    "\n",
    "def same_numN(x):\n",
    "    reaction = x.Reaction\n",
    "    \n",
    "    sub = reaction.split('>>')[0]\n",
    "    prod = reaction.split('>>')[1]\n",
    "    \n",
    "    sub_numN = sub.count('N')\n",
    "    prod_numN = prod.count('N')\n",
    "    \n",
    "    if sub_numN != prod_numN:\n",
    "        return False\n",
    "    \n",
    "    return True\n",
    "\n",
    "def SmilesToKegg(x):\n",
    "    rxn = x.Reaction\n",
    "    \n",
    "    sub = rxn.split('>>')[0]\n",
    "    prod = rxn.split('>>')[1]\n",
    "\n",
    "    # probably substitute with AreTwoMoleculesSame(Chem.MolFromSmiles(lactate_yesCh), \n",
    "#                     Chem.MolFromSmiles(lactate_noCh), \n",
    "#                     use_chirality = False)\n",
    "    \n",
    "    if sub in Kegg_smiles:\n",
    "        for key in Kegg_smiles_dict:\n",
    "            if Kegg_smiles_dict[key] == sub:\n",
    "                kegg_sub = key\n",
    "                \n",
    "    else:\n",
    "        kegg_sub = 'None'\n",
    "            \n",
    "    if prod in Kegg_smiles:\n",
    "        for key in Kegg_smiles_dict:\n",
    "            if Kegg_smiles_dict[key] == prod:\n",
    "                kegg_prod = key\n",
    "    else:\n",
    "        kegg_prod = 'None'\n",
    "    \n",
    "    kegg_rxn = kegg_sub + ' = ' + kegg_prod\n",
    "\n",
    "    return kegg_rxn\n",
    "\n",
    "def CompareToKEGG(x):\n",
    "    rxn = x.Kegg_ID\n",
    "    \n",
    "    if rxn != 'None':\n",
    "        sub = rxn.split(' = ')[0]\n",
    "        prod = rxn.split(' = ')[1]\n",
    "\n",
    "        for reaction in Kegg_reaction:\n",
    "            Kegg_sub = reaction.split('<=>')[0]\n",
    "            Kegg_prod = reaction.split('<=>')[1]\n",
    "\n",
    "            #print Kegg_sub, Kegg_prod\n",
    "            if sub in Kegg_sub and prod in Kegg_prod:\n",
    "                return reaction\n",
    "\n",
    "    return 'None'"
   ]
  },
  {
   "cell_type": "code",
   "execution_count": 18,
   "metadata": {
    "ExecuteTime": {
     "end_time": "2017-06-02T20:57:54.401126Z",
     "start_time": "2017-06-02T20:57:54.173506Z"
    },
    "collapsed": true
   },
   "outputs": [],
   "source": [
    "def AreTwoMoleculesSame(mol_obj1, mol_obj2, use_chirality = False):\n",
    "    return( mol_obj1.HasSubstructMatch(mol_obj2, useChirality=use_chirality)\n",
    "           and mol_obj2.HasSubstructMatch(mol_obj1, useChirality=use_chirality))"
   ]
  },
  {
   "cell_type": "code",
   "execution_count": 19,
   "metadata": {
    "ExecuteTime": {
     "end_time": "2017-06-02T20:58:29.352701Z",
     "start_time": "2017-06-02T20:58:29.322064Z"
    },
    "collapsed": true
   },
   "outputs": [],
   "source": [
    "lactate_noCh = 'CC(O)C(=O)O'\n",
    "lactate_yesCh = Kegg_smiles_dict['C00186']"
   ]
  },
  {
   "cell_type": "code",
   "execution_count": 20,
   "metadata": {
    "ExecuteTime": {
     "end_time": "2017-06-02T20:59:28.819934Z",
     "start_time": "2017-06-02T20:59:28.266725Z"
    },
    "collapsed": false
   },
   "outputs": [
    {
     "data": {
      "image/png": "[encoded data removed]",
      "text/plain": [
       "<rdkit.Chem.rdchem.Mol at 0x11c7c11a0>"
      ]
     },
     "execution_count": 20,
     "metadata": {},
     "output_type": "execute_result"
    }
   ],
   "source": [
    "Chem.MolFromSmiles(lactate_noCh)"
   ]
  },
  {
   "cell_type": "code",
   "execution_count": 21,
   "metadata": {
    "ExecuteTime": {
     "end_time": "2017-06-02T20:59:39.341194Z",
     "start_time": "2017-06-02T20:59:39.295415Z"
    },
    "collapsed": false
   },
   "outputs": [
    {
     "data": {
      "image/png": "[encoded data removed]",
      "text/plain": [
       "<rdkit.Chem.rdchem.Mol at 0x11c7c0360>"
      ]
     },
     "execution_count": 21,
     "metadata": {},
     "output_type": "execute_result"
    }
   ],
   "source": [
    "Chem.MolFromSmiles(lactate_yesCh)"
   ]
  },
  {
   "cell_type": "code",
   "execution_count": 22,
   "metadata": {
    "ExecuteTime": {
     "end_time": "2017-06-02T21:00:15.820765Z",
     "start_time": "2017-06-02T21:00:15.635750Z"
    },
    "collapsed": false
   },
   "outputs": [
    {
     "data": {
      "text/plain": [
       "True"
      ]
     },
     "execution_count": 22,
     "metadata": {},
     "output_type": "execute_result"
    }
   ],
   "source": [
    "AreTwoMoleculesSame(Chem.MolFromSmiles(lactate_yesCh), \n",
    "                    Chem.MolFromSmiles(lactate_noCh), \n",
    "                    use_chirality = False)"
   ]
  },
  {
   "cell_type": "code",
   "execution_count": 24,
   "metadata": {
    "ExecuteTime": {
     "end_time": "2017-06-02T21:00:27.056546Z",
     "start_time": "2017-06-02T21:00:27.022387Z"
    },
    "collapsed": false
   },
   "outputs": [
    {
     "data": {
      "text/plain": [
       "False"
      ]
     },
     "execution_count": 24,
     "metadata": {},
     "output_type": "execute_result"
    }
   ],
   "source": [
    "AreTwoMoleculesSame(Chem.MolFromSmiles(lactate_yesCh), \n",
    "                    Chem.MolFromSmiles(lactate_noCh), \n",
    "                    use_chirality = True)"
   ]
  },
  {
   "cell_type": "markdown",
   "metadata": {},
   "source": [
    "# Compare Metabolites to Kegg Metabolites"
   ]
  },
  {
   "cell_type": "markdown",
   "metadata": {},
   "source": [
    "Get rid of G3 reactions"
   ]
  },
  {
   "cell_type": "code",
   "execution_count": 9,
   "metadata": {
    "ExecuteTime": {
     "end_time": "2017-06-02T20:36:25.575057Z",
     "start_time": "2017-06-02T20:35:35.405183Z"
    },
    "collapsed": true
   },
   "outputs": [],
   "source": [
    "redox_rxns['Same_NumN'] = redox_rxns.apply(same_numN, 1)"
   ]
  },
  {
   "cell_type": "code",
   "execution_count": 10,
   "metadata": {
    "ExecuteTime": {
     "end_time": "2017-06-02T20:41:07.941689Z",
     "start_time": "2017-06-02T20:41:06.679509Z"
    },
    "collapsed": true
   },
   "outputs": [],
   "source": [
    "redox_rxns = redox_rxns[redox_rxns.Same_NumN == True]"
   ]
  },
  {
   "cell_type": "markdown",
   "metadata": {},
   "source": [
    "Count carbons"
   ]
  },
  {
   "cell_type": "code",
   "execution_count": 11,
   "metadata": {
    "ExecuteTime": {
     "end_time": "2017-06-02T20:41:58.685773Z",
     "start_time": "2017-06-02T20:41:09.696670Z"
    },
    "collapsed": true
   },
   "outputs": [],
   "source": [
    "redox_rxns['numC'] = redox_rxns.apply(count_carbons, 1)"
   ]
  },
  {
   "cell_type": "code",
   "execution_count": 12,
   "metadata": {
    "ExecuteTime": {
     "end_time": "2017-06-02T20:42:48.059165Z",
     "start_time": "2017-06-02T20:42:47.804772Z"
    },
    "collapsed": true
   },
   "outputs": [],
   "source": [
    "redox_rxns_2C = redox_rxns[redox_rxns.numC == 2]\n",
    "redox_rxns_3C = redox_rxns[redox_rxns.numC == 3]\n",
    "redox_rxns_4C = redox_rxns[redox_rxns.numC == 4]"
   ]
  },
  {
   "cell_type": "markdown",
   "metadata": {},
   "source": [
    "Example dataframe"
   ]
  },
  {
   "cell_type": "code",
   "execution_count": 13,
   "metadata": {
    "ExecuteTime": {
     "end_time": "2017-06-02T20:42:58.161816Z",
     "start_time": "2017-06-02T20:42:58.100461Z"
    },
    "collapsed": false
   },
   "outputs": [
    {
     "data": {
      "text/html": [
       "<div>\n",
       "<style>\n",
       "    .dataframe thead tr:only-child th {\n",
       "        text-align: right;\n",
       "    }\n",
       "\n",
       "    .dataframe thead th {\n",
       "        text-align: left;\n",
       "    }\n",
       "\n",
       "    .dataframe tbody tr th {\n",
       "        vertical-align: top;\n",
       "    }\n",
       "</style>\n",
       "<table border=\"1\" class=\"dataframe\">\n",
       "  <thead>\n",
       "    <tr style=\"text-align: right;\">\n",
       "      <th></th>\n",
       "      <th>Reaction</th>\n",
       "      <th>Same_NumN</th>\n",
       "      <th>numC</th>\n",
       "    </tr>\n",
       "  </thead>\n",
       "  <tbody>\n",
       "    <tr>\n",
       "      <th>0</th>\n",
       "      <td>CCO&gt;&gt;CC</td>\n",
       "      <td>True</td>\n",
       "      <td>2</td>\n",
       "    </tr>\n",
       "    <tr>\n",
       "      <th>7</th>\n",
       "      <td>CSCO&gt;&gt;CSC</td>\n",
       "      <td>True</td>\n",
       "      <td>2</td>\n",
       "    </tr>\n",
       "    <tr>\n",
       "      <th>8</th>\n",
       "      <td>OCCF&gt;&gt;CCF</td>\n",
       "      <td>True</td>\n",
       "      <td>2</td>\n",
       "    </tr>\n",
       "    <tr>\n",
       "      <th>10</th>\n",
       "      <td>NCCO&gt;&gt;CCN</td>\n",
       "      <td>True</td>\n",
       "      <td>2</td>\n",
       "    </tr>\n",
       "    <tr>\n",
       "      <th>11</th>\n",
       "      <td>COCO&gt;&gt;COC</td>\n",
       "      <td>True</td>\n",
       "      <td>2</td>\n",
       "    </tr>\n",
       "  </tbody>\n",
       "</table>\n",
       "</div>"
      ],
      "text/plain": [
       "     Reaction  Same_NumN  numC\n",
       "0     CCO>>CC       True     2\n",
       "7   CSCO>>CSC       True     2\n",
       "8   OCCF>>CCF       True     2\n",
       "10  NCCO>>CCN       True     2\n",
       "11  COCO>>COC       True     2"
      ]
     },
     "execution_count": 13,
     "metadata": {},
     "output_type": "execute_result"
    }
   ],
   "source": [
    "redox_rxns_2C.head()"
   ]
  },
  {
   "cell_type": "code",
   "execution_count": 14,
   "metadata": {
    "ExecuteTime": {
     "end_time": "2017-06-02T20:45:38.736700Z",
     "start_time": "2017-06-02T20:45:38.478992Z"
    },
    "collapsed": true
   },
   "outputs": [],
   "source": [
    "del redox_rxns_2C['Same_NumN']\n",
    "del redox_rxns_2C['numC']\n",
    "del redox_rxns_3C['Same_NumN']\n",
    "del redox_rxns_3C['numC']\n",
    "del redox_rxns_4C['Same_NumN']\n",
    "del redox_rxns_4C['numC']"
   ]
  },
  {
   "cell_type": "markdown",
   "metadata": {},
   "source": [
    "Convert to csv files"
   ]
  },
  {
   "cell_type": "code",
   "execution_count": 15,
   "metadata": {
    "ExecuteTime": {
     "end_time": "2017-06-02T20:45:47.537496Z",
     "start_time": "2017-06-02T20:45:47.458011Z"
    },
    "collapsed": true
   },
   "outputs": [],
   "source": [
    "redox_rxns_2C.to_csv('2C_redox_rxns.csv', index = False)\n",
    "redox_rxns_3C.to_csv('3C_redox_rxns.csv', index = False)\n",
    "redox_rxns_4C.to_csv('4C_redox_rxns.csv', index = False)"
   ]
  },
  {
   "cell_type": "markdown",
   "metadata": {},
   "source": [
    "Apply functions to compare to KEGG database"
   ]
  },
  {
   "cell_type": "code",
   "execution_count": 24,
   "metadata": {
    "collapsed": false
   },
   "outputs": [
    {
     "name": "stderr",
     "output_type": "stream",
     "text": [
      "/home/haniu/anaconda2/lib/python2.7/site-packages/ipykernel/__main__.py:1: SettingWithCopyWarning: \n",
      "A value is trying to be set on a copy of a slice from a DataFrame.\n",
      "Try using .loc[row_indexer,col_indexer] = value instead\n",
      "\n",
      "See the caveats in the documentation: http://pandas.pydata.org/pandas-docs/stable/indexing.html#indexing-view-versus-copy\n",
      "  if __name__ == '__main__':\n",
      "/home/haniu/anaconda2/lib/python2.7/site-packages/ipykernel/__main__.py:2: SettingWithCopyWarning: \n",
      "A value is trying to be set on a copy of a slice from a DataFrame.\n",
      "Try using .loc[row_indexer,col_indexer] = value instead\n",
      "\n",
      "See the caveats in the documentation: http://pandas.pydata.org/pandas-docs/stable/indexing.html#indexing-view-versus-copy\n",
      "  from ipykernel import kernelapp as app\n",
      "/home/haniu/anaconda2/lib/python2.7/site-packages/ipykernel/__main__.py:3: SettingWithCopyWarning: \n",
      "A value is trying to be set on a copy of a slice from a DataFrame.\n",
      "Try using .loc[row_indexer,col_indexer] = value instead\n",
      "\n",
      "See the caveats in the documentation: http://pandas.pydata.org/pandas-docs/stable/indexing.html#indexing-view-versus-copy\n",
      "  app.launch_new_instance()\n",
      "/home/haniu/anaconda2/lib/python2.7/site-packages/ipykernel/__main__.py:4: SettingWithCopyWarning: \n",
      "A value is trying to be set on a copy of a slice from a DataFrame.\n",
      "Try using .loc[row_indexer,col_indexer] = value instead\n",
      "\n",
      "See the caveats in the documentation: http://pandas.pydata.org/pandas-docs/stable/indexing.html#indexing-view-versus-copy\n",
      "/home/haniu/anaconda2/lib/python2.7/site-packages/ipykernel/__main__.py:5: SettingWithCopyWarning: \n",
      "A value is trying to be set on a copy of a slice from a DataFrame.\n",
      "Try using .loc[row_indexer,col_indexer] = value instead\n",
      "\n",
      "See the caveats in the documentation: http://pandas.pydata.org/pandas-docs/stable/indexing.html#indexing-view-versus-copy\n",
      "/home/haniu/anaconda2/lib/python2.7/site-packages/ipykernel/__main__.py:6: SettingWithCopyWarning: \n",
      "A value is trying to be set on a copy of a slice from a DataFrame.\n",
      "Try using .loc[row_indexer,col_indexer] = value instead\n",
      "\n",
      "See the caveats in the documentation: http://pandas.pydata.org/pandas-docs/stable/indexing.html#indexing-view-versus-copy\n"
     ]
    }
   ],
   "source": [
    "redox_rxns_2C['Kegg_ID'] = redox_rxns_2C.apply(SmilesToKegg, 1)\n",
    "redox_rxns_2C['KEGG_Rxn'] = redox_rxns_2C.apply(CompareToKEGG, 1)\n",
    "\n",
    "redox_rxns_3C['Kegg_ID'] = redox_rxns_3C.apply(SmilesToKegg, 1)\n",
    "redox_rxns_3C['KEGG_Rxn'] = redox_rxns_3C.apply(CompareToKEGG, 1)\n",
    "\n",
    "redox_rxns_4C['Kegg_ID'] = redox_rxns_4C.apply(SmilesToKegg, 1)\n",
    "redox_rxns_4C['KEGG_Rxn'] = redox_rxns_4C.apply(CompareToKEGG, 1)"
   ]
  },
  {
   "cell_type": "markdown",
   "metadata": {},
   "source": [
    "Example dataframe"
   ]
  },
  {
   "cell_type": "code",
   "execution_count": 40,
   "metadata": {
    "collapsed": false,
    "scrolled": true
   },
   "outputs": [
    {
     "data": {
      "text/html": [
       "<div>\n",
       "<table border=\"1\" class=\"dataframe\">\n",
       "  <thead>\n",
       "    <tr style=\"text-align: right;\">\n",
       "      <th></th>\n",
       "      <th>Reaction</th>\n",
       "      <th>Kegg_ID</th>\n",
       "      <th>KEGG_Rxn</th>\n",
       "    </tr>\n",
       "  </thead>\n",
       "  <tbody>\n",
       "    <tr>\n",
       "      <th>0</th>\n",
       "      <td>CCO&gt;&gt;CC</td>\n",
       "      <td>C00469 = None</td>\n",
       "      <td>None</td>\n",
       "    </tr>\n",
       "    <tr>\n",
       "      <th>7</th>\n",
       "      <td>CSCO&gt;&gt;CSC</td>\n",
       "      <td>None = C00580</td>\n",
       "      <td>None</td>\n",
       "    </tr>\n",
       "    <tr>\n",
       "      <th>8</th>\n",
       "      <td>OCCF&gt;&gt;CCF</td>\n",
       "      <td>None = None</td>\n",
       "      <td>None</td>\n",
       "    </tr>\n",
       "    <tr>\n",
       "      <th>10</th>\n",
       "      <td>NCCO&gt;&gt;CCN</td>\n",
       "      <td>C00189 = C00797</td>\n",
       "      <td>None</td>\n",
       "    </tr>\n",
       "    <tr>\n",
       "      <th>11</th>\n",
       "      <td>COCO&gt;&gt;COC</td>\n",
       "      <td>None = C11144</td>\n",
       "      <td>None</td>\n",
       "    </tr>\n",
       "    <tr>\n",
       "      <th>12</th>\n",
       "      <td>CNCO&gt;&gt;CNC</td>\n",
       "      <td>None = C00543</td>\n",
       "      <td>None</td>\n",
       "    </tr>\n",
       "    <tr>\n",
       "      <th>15</th>\n",
       "      <td>OCCO&gt;&gt;CCO</td>\n",
       "      <td>C15588 = C00469</td>\n",
       "      <td>None</td>\n",
       "    </tr>\n",
       "    <tr>\n",
       "      <th>16</th>\n",
       "      <td>OCCS&gt;&gt;CCS</td>\n",
       "      <td>C00928 = None</td>\n",
       "      <td>None</td>\n",
       "    </tr>\n",
       "    <tr>\n",
       "      <th>17</th>\n",
       "      <td>CC=O&gt;&gt;CCO</td>\n",
       "      <td>C00084 = C00469</td>\n",
       "      <td>None</td>\n",
       "    </tr>\n",
       "    <tr>\n",
       "      <th>20</th>\n",
       "      <td>OCNCO&gt;&gt;CNCO</td>\n",
       "      <td>None = None</td>\n",
       "      <td>None</td>\n",
       "    </tr>\n",
       "    <tr>\n",
       "      <th>22</th>\n",
       "      <td>NCC=O&gt;&gt;NCCO</td>\n",
       "      <td>C06735 = C00189</td>\n",
       "      <td>None</td>\n",
       "    </tr>\n",
       "    <tr>\n",
       "      <th>23</th>\n",
       "      <td>OCCCl&gt;&gt;CCCl</td>\n",
       "      <td>C06753 = C18248</td>\n",
       "      <td>None</td>\n",
       "    </tr>\n",
       "    <tr>\n",
       "      <th>25</th>\n",
       "      <td>CSSCO&gt;&gt;CSSC</td>\n",
       "      <td>None = C08371</td>\n",
       "      <td>None</td>\n",
       "    </tr>\n",
       "    <tr>\n",
       "      <th>26</th>\n",
       "      <td>OCSCO&gt;&gt;CSCO</td>\n",
       "      <td>None = None</td>\n",
       "      <td>None</td>\n",
       "    </tr>\n",
       "    <tr>\n",
       "      <th>32</th>\n",
       "      <td>OCOCO&gt;&gt;COCO</td>\n",
       "      <td>None = None</td>\n",
       "      <td>None</td>\n",
       "    </tr>\n",
       "    <tr>\n",
       "      <th>33</th>\n",
       "      <td>O=CCS&gt;&gt;OCCS</td>\n",
       "      <td>None = C00928</td>\n",
       "      <td>None</td>\n",
       "    </tr>\n",
       "    <tr>\n",
       "      <th>35</th>\n",
       "      <td>CNNCO&gt;&gt;CNNC</td>\n",
       "      <td>None = C19176</td>\n",
       "      <td>None</td>\n",
       "    </tr>\n",
       "    <tr>\n",
       "      <th>36</th>\n",
       "      <td>O=CCF&gt;&gt;OCCF</td>\n",
       "      <td>C15488 = None</td>\n",
       "      <td>None</td>\n",
       "    </tr>\n",
       "    <tr>\n",
       "      <th>40</th>\n",
       "      <td>O=CCO&gt;&gt;CC=O</td>\n",
       "      <td>C00266 = C00084</td>\n",
       "      <td>None</td>\n",
       "    </tr>\n",
       "    <tr>\n",
       "      <th>41</th>\n",
       "      <td>OCCBr&gt;&gt;CCBr</td>\n",
       "      <td>None = C19354</td>\n",
       "      <td>None</td>\n",
       "    </tr>\n",
       "    <tr>\n",
       "      <th>43</th>\n",
       "      <td>O=CCO&gt;&gt;OCCO</td>\n",
       "      <td>C00266 = C15588</td>\n",
       "      <td>None</td>\n",
       "    </tr>\n",
       "    <tr>\n",
       "      <th>46</th>\n",
       "      <td>N=CCO&gt;&gt;CC=N</td>\n",
       "      <td>None = None</td>\n",
       "      <td>None</td>\n",
       "    </tr>\n",
       "    <tr>\n",
       "      <th>49</th>\n",
       "      <td>CC(=O)O&gt;&gt;CC=O</td>\n",
       "      <td>C00033 = C00084</td>\n",
       "      <td>None</td>\n",
       "    </tr>\n",
       "    <tr>\n",
       "      <th>52</th>\n",
       "      <td>OCOCCl&gt;&gt;COCCl</td>\n",
       "      <td>None = C19160</td>\n",
       "      <td>None</td>\n",
       "    </tr>\n",
       "    <tr>\n",
       "      <th>60</th>\n",
       "      <td>O=CCCl&gt;&gt;OCCCl</td>\n",
       "      <td>C06754 = C06753</td>\n",
       "      <td>None</td>\n",
       "    </tr>\n",
       "    <tr>\n",
       "      <th>67</th>\n",
       "      <td>O=CNCO&gt;&gt;CNC=O</td>\n",
       "      <td>None = C11489</td>\n",
       "      <td>None</td>\n",
       "    </tr>\n",
       "    <tr>\n",
       "      <th>68</th>\n",
       "      <td>N=CC=O&gt;&gt;N=CCO</td>\n",
       "      <td>None = None</td>\n",
       "      <td>None</td>\n",
       "    </tr>\n",
       "    <tr>\n",
       "      <th>83</th>\n",
       "      <td>CSSSCO&gt;&gt;CSSSC</td>\n",
       "      <td>None = C08372</td>\n",
       "      <td>None</td>\n",
       "    </tr>\n",
       "    <tr>\n",
       "      <th>90</th>\n",
       "      <td>O=CC=O&gt;&gt;O=CCO</td>\n",
       "      <td>C14448 = C00266</td>\n",
       "      <td>None</td>\n",
       "    </tr>\n",
       "    <tr>\n",
       "      <th>93</th>\n",
       "      <td>O=CCBr&gt;&gt;OCCBr</td>\n",
       "      <td>C14870 = None</td>\n",
       "      <td>None</td>\n",
       "    </tr>\n",
       "    <tr>\n",
       "      <th>...</th>\n",
       "      <td>...</td>\n",
       "      <td>...</td>\n",
       "      <td>...</td>\n",
       "    </tr>\n",
       "    <tr>\n",
       "      <th>5131</th>\n",
       "      <td>O=CCP(=O)(O)O&gt;&gt;O=P(O)(O)CCO</td>\n",
       "      <td>C03167 = C06451</td>\n",
       "      <td>None</td>\n",
       "    </tr>\n",
       "    <tr>\n",
       "      <th>5213</th>\n",
       "      <td>O=P(O)(O)OCCO&gt;&gt;CCOP(=O)(O)O</td>\n",
       "      <td>None = None</td>\n",
       "      <td>None</td>\n",
       "    </tr>\n",
       "    <tr>\n",
       "      <th>5315</th>\n",
       "      <td>O=S(=O)(O)CCO&gt;&gt;CCS(=O)(=O)O</td>\n",
       "      <td>C05123 = None</td>\n",
       "      <td>None</td>\n",
       "    </tr>\n",
       "    <tr>\n",
       "      <th>5612</th>\n",
       "      <td>OCC(Cl)(Cl)Cl&gt;&gt;CC(Cl)(Cl)Cl</td>\n",
       "      <td>C07490 = C18246</td>\n",
       "      <td>None</td>\n",
       "    </tr>\n",
       "    <tr>\n",
       "      <th>5783</th>\n",
       "      <td>O=S(=O)(CO)CO&gt;&gt;CS(=O)(=O)CO</td>\n",
       "      <td>None = None</td>\n",
       "      <td>None</td>\n",
       "    </tr>\n",
       "    <tr>\n",
       "      <th>6656</th>\n",
       "      <td>O=C([O-])CO&gt;&gt;CC(=O)[O-].[K+]</td>\n",
       "      <td>None = C12554</td>\n",
       "      <td>None</td>\n",
       "    </tr>\n",
       "    <tr>\n",
       "      <th>6808</th>\n",
       "      <td>O=CC(Cl)(Cl)Cl&gt;&gt;OCC(Cl)(Cl)Cl</td>\n",
       "      <td>C14866 = C07490</td>\n",
       "      <td>None</td>\n",
       "    </tr>\n",
       "    <tr>\n",
       "      <th>7579</th>\n",
       "      <td>O=CCS(=O)(=O)O&gt;&gt;O=S(=O)(O)CCO</td>\n",
       "      <td>C00593 = C05123</td>\n",
       "      <td>C00593 + C00005 + C00080 &lt;=&gt; C05123 + C00006</td>\n",
       "    </tr>\n",
       "    <tr>\n",
       "      <th>9041</th>\n",
       "      <td>O=CCOP(=O)(O)O&gt;&gt;O=P(O)(O)OCCO</td>\n",
       "      <td>None = None</td>\n",
       "      <td>None</td>\n",
       "    </tr>\n",
       "    <tr>\n",
       "      <th>9530</th>\n",
       "      <td>O=C([O-])C(=O)O&gt;&gt;O=CC(=O)[O-]</td>\n",
       "      <td>None = None</td>\n",
       "      <td>None</td>\n",
       "    </tr>\n",
       "    <tr>\n",
       "      <th>15243</th>\n",
       "      <td>O=[N+]([O-])CCO&gt;&gt;CC[N+](=O)[O-]</td>\n",
       "      <td>None = C01837</td>\n",
       "      <td>None</td>\n",
       "    </tr>\n",
       "    <tr>\n",
       "      <th>15864</th>\n",
       "      <td>O=C(O)CP(=O)(O)O&gt;&gt;O=CCP(=O)(O)O</td>\n",
       "      <td>C05682 = C03167</td>\n",
       "      <td>None</td>\n",
       "    </tr>\n",
       "    <tr>\n",
       "      <th>16778</th>\n",
       "      <td>O=C(O)CS(=O)(=O)O&gt;&gt;O=CCS(=O)(=O)O</td>\n",
       "      <td>C14179 = C00593</td>\n",
       "      <td>None</td>\n",
       "    </tr>\n",
       "    <tr>\n",
       "      <th>19026</th>\n",
       "      <td>NC(C=O)P(=O)(O)O&gt;&gt;NC(CO)P(=O)(O)O</td>\n",
       "      <td>None = None</td>\n",
       "      <td>None</td>\n",
       "    </tr>\n",
       "    <tr>\n",
       "      <th>19136</th>\n",
       "      <td>O=CC[N+](=O)[O-]&gt;&gt;O=[N+]([O-])CCO</td>\n",
       "      <td>None = None</td>\n",
       "      <td>None</td>\n",
       "    </tr>\n",
       "    <tr>\n",
       "      <th>21731</th>\n",
       "      <td>O=C(O)C(Cl)(Cl)Cl&gt;&gt;O=CC(Cl)(Cl)Cl</td>\n",
       "      <td>C11150 = C14866</td>\n",
       "      <td>None</td>\n",
       "    </tr>\n",
       "    <tr>\n",
       "      <th>23729</th>\n",
       "      <td>O=C(O)COP(=O)(O)O&gt;&gt;O=CCOP(=O)(O)O</td>\n",
       "      <td>C00988 = None</td>\n",
       "      <td>None</td>\n",
       "    </tr>\n",
       "    <tr>\n",
       "      <th>30363</th>\n",
       "      <td>O=C(CO)OP(=O)(O)O&gt;&gt;CC(=O)OP(=O)(O)O</td>\n",
       "      <td>None = C00227</td>\n",
       "      <td>None</td>\n",
       "    </tr>\n",
       "    <tr>\n",
       "      <th>32662</th>\n",
       "      <td>NC(CO)P(=O)(O)O&gt;&gt;C[C@H](N)P(=O)(O)O</td>\n",
       "      <td>None = C03782</td>\n",
       "      <td>None</td>\n",
       "    </tr>\n",
       "    <tr>\n",
       "      <th>35895</th>\n",
       "      <td>[O-][N+]([O-])=CCO&gt;&gt;CC=[N+]([O-])[O-]</td>\n",
       "      <td>None = C18091</td>\n",
       "      <td>None</td>\n",
       "    </tr>\n",
       "    <tr>\n",
       "      <th>38219</th>\n",
       "      <td>O=CC(=O)OP(=O)(O)O&gt;&gt;O=C(CO)OP(=O)(O)O</td>\n",
       "      <td>None = None</td>\n",
       "      <td>None</td>\n",
       "    </tr>\n",
       "    <tr>\n",
       "      <th>44879</th>\n",
       "      <td>NC(C(=O)O)P(=O)(O)O&gt;&gt;NC(C=O)P(=O)(O)O</td>\n",
       "      <td>None = None</td>\n",
       "      <td>None</td>\n",
       "    </tr>\n",
       "    <tr>\n",
       "      <th>45856</th>\n",
       "      <td>O=C(O)C[N+](=O)[O-]&gt;&gt;O=CC[N+](=O)[O-]</td>\n",
       "      <td>None = None</td>\n",
       "      <td>None</td>\n",
       "    </tr>\n",
       "    <tr>\n",
       "      <th>46128</th>\n",
       "      <td>O=C(O)C(O)P(=O)(O)O&gt;&gt;O=CC(O)P(=O)(O)O</td>\n",
       "      <td>None = None</td>\n",
       "      <td>None</td>\n",
       "    </tr>\n",
       "    <tr>\n",
       "      <th>56022</th>\n",
       "      <td>O=CC=[N+]([O-])[O-]&gt;&gt;[O-][N+]([O-])=CCO</td>\n",
       "      <td>None = None</td>\n",
       "      <td>None</td>\n",
       "    </tr>\n",
       "    <tr>\n",
       "      <th>64091</th>\n",
       "      <td>O=C(O)C(=O)OP(=O)(O)O&gt;&gt;O=CC(=O)OP(=O)(O)O</td>\n",
       "      <td>None = None</td>\n",
       "      <td>None</td>\n",
       "    </tr>\n",
       "    <tr>\n",
       "      <th>97649</th>\n",
       "      <td>O=C(O)C=[N+]([O-])[O-]&gt;&gt;O=CC=[N+]([O-])[O-]</td>\n",
       "      <td>None = None</td>\n",
       "      <td>None</td>\n",
       "    </tr>\n",
       "    <tr>\n",
       "      <th>303435</th>\n",
       "      <td>O=P(O)(O)C(O)(CO)P(=O)(O)O&gt;&gt;CC(O)(P(=O)(O)O)P(...</td>\n",
       "      <td>None = C07736</td>\n",
       "      <td>None</td>\n",
       "    </tr>\n",
       "    <tr>\n",
       "      <th>393956</th>\n",
       "      <td>O=CC(O)(P(=O)(O)O)P(=O)(O)O&gt;&gt;O=P(O)(O)C(O)(CO)...</td>\n",
       "      <td>None = None</td>\n",
       "      <td>None</td>\n",
       "    </tr>\n",
       "    <tr>\n",
       "      <th>542130</th>\n",
       "      <td>O=C(O)C(O)(P(=O)(O)O)P(=O)(O)O&gt;&gt;O=CC(O)(P(=O)(...</td>\n",
       "      <td>None = None</td>\n",
       "      <td>None</td>\n",
       "    </tr>\n",
       "  </tbody>\n",
       "</table>\n",
       "<p>100 rows × 3 columns</p>\n",
       "</div>"
      ],
      "text/plain": [
       "                                                 Reaction          Kegg_ID  \\\n",
       "0                                                 CCO>>CC    C00469 = None   \n",
       "7                                               CSCO>>CSC    None = C00580   \n",
       "8                                               OCCF>>CCF      None = None   \n",
       "10                                              NCCO>>CCN  C00189 = C00797   \n",
       "11                                              COCO>>COC    None = C11144   \n",
       "12                                              CNCO>>CNC    None = C00543   \n",
       "15                                              OCCO>>CCO  C15588 = C00469   \n",
       "16                                              OCCS>>CCS    C00928 = None   \n",
       "17                                              CC=O>>CCO  C00084 = C00469   \n",
       "20                                            OCNCO>>CNCO      None = None   \n",
       "22                                            NCC=O>>NCCO  C06735 = C00189   \n",
       "23                                            OCCCl>>CCCl  C06753 = C18248   \n",
       "25                                            CSSCO>>CSSC    None = C08371   \n",
       "26                                            OCSCO>>CSCO      None = None   \n",
       "32                                            OCOCO>>COCO      None = None   \n",
       "33                                            O=CCS>>OCCS    None = C00928   \n",
       "35                                            CNNCO>>CNNC    None = C19176   \n",
       "36                                            O=CCF>>OCCF    C15488 = None   \n",
       "40                                            O=CCO>>CC=O  C00266 = C00084   \n",
       "41                                            OCCBr>>CCBr    None = C19354   \n",
       "43                                            O=CCO>>OCCO  C00266 = C15588   \n",
       "46                                            N=CCO>>CC=N      None = None   \n",
       "49                                          CC(=O)O>>CC=O  C00033 = C00084   \n",
       "52                                          OCOCCl>>COCCl    None = C19160   \n",
       "60                                          O=CCCl>>OCCCl  C06754 = C06753   \n",
       "67                                          O=CNCO>>CNC=O    None = C11489   \n",
       "68                                          N=CC=O>>N=CCO      None = None   \n",
       "83                                          CSSSCO>>CSSSC    None = C08372   \n",
       "90                                          O=CC=O>>O=CCO  C14448 = C00266   \n",
       "93                                          O=CCBr>>OCCBr    C14870 = None   \n",
       "...                                                   ...              ...   \n",
       "5131                          O=CCP(=O)(O)O>>O=P(O)(O)CCO  C03167 = C06451   \n",
       "5213                          O=P(O)(O)OCCO>>CCOP(=O)(O)O      None = None   \n",
       "5315                          O=S(=O)(O)CCO>>CCS(=O)(=O)O    C05123 = None   \n",
       "5612                          OCC(Cl)(Cl)Cl>>CC(Cl)(Cl)Cl  C07490 = C18246   \n",
       "5783                          O=S(=O)(CO)CO>>CS(=O)(=O)CO      None = None   \n",
       "6656                         O=C([O-])CO>>CC(=O)[O-].[K+]    None = C12554   \n",
       "6808                        O=CC(Cl)(Cl)Cl>>OCC(Cl)(Cl)Cl  C14866 = C07490   \n",
       "7579                        O=CCS(=O)(=O)O>>O=S(=O)(O)CCO  C00593 = C05123   \n",
       "9041                        O=CCOP(=O)(O)O>>O=P(O)(O)OCCO      None = None   \n",
       "9530                        O=C([O-])C(=O)O>>O=CC(=O)[O-]      None = None   \n",
       "15243                     O=[N+]([O-])CCO>>CC[N+](=O)[O-]    None = C01837   \n",
       "15864                     O=C(O)CP(=O)(O)O>>O=CCP(=O)(O)O  C05682 = C03167   \n",
       "16778                   O=C(O)CS(=O)(=O)O>>O=CCS(=O)(=O)O  C14179 = C00593   \n",
       "19026                   NC(C=O)P(=O)(O)O>>NC(CO)P(=O)(O)O      None = None   \n",
       "19136                   O=CC[N+](=O)[O-]>>O=[N+]([O-])CCO      None = None   \n",
       "21731                   O=C(O)C(Cl)(Cl)Cl>>O=CC(Cl)(Cl)Cl  C11150 = C14866   \n",
       "23729                   O=C(O)COP(=O)(O)O>>O=CCOP(=O)(O)O    C00988 = None   \n",
       "30363                 O=C(CO)OP(=O)(O)O>>CC(=O)OP(=O)(O)O    None = C00227   \n",
       "32662                 NC(CO)P(=O)(O)O>>C[C@H](N)P(=O)(O)O    None = C03782   \n",
       "35895               [O-][N+]([O-])=CCO>>CC=[N+]([O-])[O-]    None = C18091   \n",
       "38219               O=CC(=O)OP(=O)(O)O>>O=C(CO)OP(=O)(O)O      None = None   \n",
       "44879               NC(C(=O)O)P(=O)(O)O>>NC(C=O)P(=O)(O)O      None = None   \n",
       "45856               O=C(O)C[N+](=O)[O-]>>O=CC[N+](=O)[O-]      None = None   \n",
       "46128               O=C(O)C(O)P(=O)(O)O>>O=CC(O)P(=O)(O)O      None = None   \n",
       "56022             O=CC=[N+]([O-])[O-]>>[O-][N+]([O-])=CCO      None = None   \n",
       "64091           O=C(O)C(=O)OP(=O)(O)O>>O=CC(=O)OP(=O)(O)O      None = None   \n",
       "97649         O=C(O)C=[N+]([O-])[O-]>>O=CC=[N+]([O-])[O-]      None = None   \n",
       "303435  O=P(O)(O)C(O)(CO)P(=O)(O)O>>CC(O)(P(=O)(O)O)P(...    None = C07736   \n",
       "393956  O=CC(O)(P(=O)(O)O)P(=O)(O)O>>O=P(O)(O)C(O)(CO)...      None = None   \n",
       "542130  O=C(O)C(O)(P(=O)(O)O)P(=O)(O)O>>O=CC(O)(P(=O)(...      None = None   \n",
       "\n",
       "                                            KEGG_Rxn  \n",
       "0                                               None  \n",
       "7                                               None  \n",
       "8                                               None  \n",
       "10                                              None  \n",
       "11                                              None  \n",
       "12                                              None  \n",
       "15                                              None  \n",
       "16                                              None  \n",
       "17                                              None  \n",
       "20                                              None  \n",
       "22                                              None  \n",
       "23                                              None  \n",
       "25                                              None  \n",
       "26                                              None  \n",
       "32                                              None  \n",
       "33                                              None  \n",
       "35                                              None  \n",
       "36                                              None  \n",
       "40                                              None  \n",
       "41                                              None  \n",
       "43                                              None  \n",
       "46                                              None  \n",
       "49                                              None  \n",
       "52                                              None  \n",
       "60                                              None  \n",
       "67                                              None  \n",
       "68                                              None  \n",
       "83                                              None  \n",
       "90                                              None  \n",
       "93                                              None  \n",
       "...                                              ...  \n",
       "5131                                            None  \n",
       "5213                                            None  \n",
       "5315                                            None  \n",
       "5612                                            None  \n",
       "5783                                            None  \n",
       "6656                                            None  \n",
       "6808                                            None  \n",
       "7579    C00593 + C00005 + C00080 <=> C05123 + C00006  \n",
       "9041                                            None  \n",
       "9530                                            None  \n",
       "15243                                           None  \n",
       "15864                                           None  \n",
       "16778                                           None  \n",
       "19026                                           None  \n",
       "19136                                           None  \n",
       "21731                                           None  \n",
       "23729                                           None  \n",
       "30363                                           None  \n",
       "32662                                           None  \n",
       "35895                                           None  \n",
       "38219                                           None  \n",
       "44879                                           None  \n",
       "45856                                           None  \n",
       "46128                                           None  \n",
       "56022                                           None  \n",
       "64091                                           None  \n",
       "97649                                           None  \n",
       "303435                                          None  \n",
       "393956                                          None  \n",
       "542130                                          None  \n",
       "\n",
       "[100 rows x 3 columns]"
      ]
     },
     "execution_count": 40,
     "metadata": {},
     "output_type": "execute_result"
    }
   ],
   "source": [
    "#if 'None', that means there was no kegg ID associated with the smiles, \n",
    "#i.e smiles was generated through reduction/oxidation\n",
    "redox_rxns_2C"
   ]
  },
  {
   "cell_type": "markdown",
   "metadata": {},
   "source": [
    "### 2 Carbon Reactions"
   ]
  },
  {
   "cell_type": "code",
   "execution_count": 111,
   "metadata": {
    "collapsed": false
   },
   "outputs": [
    {
     "data": {
      "text/html": [
       "<div>\n",
       "<table border=\"1\" class=\"dataframe\">\n",
       "  <thead>\n",
       "    <tr style=\"text-align: right;\">\n",
       "      <th></th>\n",
       "      <th>Reaction</th>\n",
       "      <th>Kegg_ID</th>\n",
       "      <th>KEGG_Rxn</th>\n",
       "    </tr>\n",
       "  </thead>\n",
       "  <tbody>\n",
       "    <tr>\n",
       "      <th>7579</th>\n",
       "      <td>O=CCS(=O)(=O)O&gt;&gt;O=S(=O)(O)CCO</td>\n",
       "      <td>C00593 = C05123</td>\n",
       "      <td>C00593 + C00005 + C00080 &lt;=&gt; C05123 + C00006</td>\n",
       "    </tr>\n",
       "  </tbody>\n",
       "</table>\n",
       "</div>"
      ],
      "text/plain": [
       "                           Reaction          Kegg_ID  \\\n",
       "7579  O=CCS(=O)(=O)O>>O=S(=O)(O)CCO  C00593 = C05123   \n",
       "\n",
       "                                          KEGG_Rxn  \n",
       "7579  C00593 + C00005 + C00080 <=> C05123 + C00006  "
      ]
     },
     "execution_count": 111,
     "metadata": {},
     "output_type": "execute_result"
    }
   ],
   "source": [
    "redox_rxns_2C[redox_rxns_2C.KEGG_Rxn != 'None']"
   ]
  },
  {
   "cell_type": "markdown",
   "metadata": {},
   "source": [
    "### 3 Carbon Reactions"
   ]
  },
  {
   "cell_type": "code",
   "execution_count": 112,
   "metadata": {
    "collapsed": false
   },
   "outputs": [
    {
     "data": {
      "text/html": [
       "<div>\n",
       "<table border=\"1\" class=\"dataframe\">\n",
       "  <thead>\n",
       "    <tr style=\"text-align: right;\">\n",
       "      <th></th>\n",
       "      <th>Reaction</th>\n",
       "      <th>Kegg_ID</th>\n",
       "      <th>KEGG_Rxn</th>\n",
       "    </tr>\n",
       "  </thead>\n",
       "  <tbody>\n",
       "    <tr>\n",
       "      <th>134</th>\n",
       "      <td>CC(C)=O&gt;&gt;CC(C)O</td>\n",
       "      <td>C00207 = C01845</td>\n",
       "      <td>C00207 + C00005 + C00080 &lt;=&gt; C01845 + C00006</td>\n",
       "    </tr>\n",
       "    <tr>\n",
       "      <th>289</th>\n",
       "      <td>C#CC(=O)O&gt;&gt;C#CC=O</td>\n",
       "      <td>C00804 = C05985</td>\n",
       "      <td>C01359 + C00804 &lt;=&gt; C05985 + C00113 + C00001</td>\n",
       "    </tr>\n",
       "    <tr>\n",
       "      <th>483</th>\n",
       "      <td>CC(=O)C=O&gt;&gt;CC(=O)CO</td>\n",
       "      <td>C00546 = C05235</td>\n",
       "      <td>C00546 + C00005 + C00080 &lt;=&gt; C05235 + C00006</td>\n",
       "    </tr>\n",
       "    <tr>\n",
       "      <th>2240</th>\n",
       "      <td>O=C[C@@H](O)CO&gt;&gt;OCC(O)CO</td>\n",
       "      <td>C02426 = C00116</td>\n",
       "      <td>C02426 + C00005 + C00080 &lt;=&gt; C00116 + C00006</td>\n",
       "    </tr>\n",
       "  </tbody>\n",
       "</table>\n",
       "</div>"
      ],
      "text/plain": [
       "                      Reaction          Kegg_ID  \\\n",
       "134            CC(C)=O>>CC(C)O  C00207 = C01845   \n",
       "289          C#CC(=O)O>>C#CC=O  C00804 = C05985   \n",
       "483        CC(=O)C=O>>CC(=O)CO  C00546 = C05235   \n",
       "2240  O=C[C@@H](O)CO>>OCC(O)CO  C02426 = C00116   \n",
       "\n",
       "                                          KEGG_Rxn  \n",
       "134   C00207 + C00005 + C00080 <=> C01845 + C00006  \n",
       "289   C01359 + C00804 <=> C05985 + C00113 + C00001  \n",
       "483   C00546 + C00005 + C00080 <=> C05235 + C00006  \n",
       "2240  C02426 + C00005 + C00080 <=> C00116 + C00006  "
      ]
     },
     "execution_count": 112,
     "metadata": {},
     "output_type": "execute_result"
    }
   ],
   "source": [
    "redox_rxns_3C[redox_rxns_3C.KEGG_Rxn != 'None']"
   ]
  },
  {
   "cell_type": "markdown",
   "metadata": {},
   "source": [
    "### 4 Carbon Reactions"
   ]
  },
  {
   "cell_type": "code",
   "execution_count": 105,
   "metadata": {
    "collapsed": false
   },
   "outputs": [
    {
     "data": {
      "text/html": [
       "<div>\n",
       "<table border=\"1\" class=\"dataframe\">\n",
       "  <thead>\n",
       "    <tr style=\"text-align: right;\">\n",
       "      <th></th>\n",
       "      <th>Reaction</th>\n",
       "      <th>Kegg_ID</th>\n",
       "      <th>KEGG_Rxn</th>\n",
       "    </tr>\n",
       "  </thead>\n",
       "  <tbody>\n",
       "    <tr>\n",
       "      <th>81</th>\n",
       "      <td>CCCC=O&gt;&gt;CCCCO</td>\n",
       "      <td>C01412 = C06142</td>\n",
       "      <td>C01412 + C00004 + C00080 &lt;=&gt; C06142 + C00003</td>\n",
       "    </tr>\n",
       "    <tr>\n",
       "      <th>6799</th>\n",
       "      <td>CC(=O)C(C)=O&gt;&gt;CC(=O)[C@H](C)O</td>\n",
       "      <td>C00741 = C01769</td>\n",
       "      <td>C00741 + C00004 + C00080 &lt;=&gt; C01769 + C00003</td>\n",
       "    </tr>\n",
       "    <tr>\n",
       "      <th>34444</th>\n",
       "      <td>CC(C(=O)O)C(=O)O&gt;&gt;C[C@@H](C=O)C(=O)O</td>\n",
       "      <td>C02170 = C06002</td>\n",
       "      <td>C02170 + C00027 &lt;=&gt; C06002 + C00007 + C00001</td>\n",
       "    </tr>\n",
       "    <tr>\n",
       "      <th>40835</th>\n",
       "      <td>O=C(O)C[C@H](O)C(=O)O&gt;&gt;O=C(O)CCC(=O)O</td>\n",
       "      <td>C00149 = C00042</td>\n",
       "      <td>C00091 + C00149 &lt;=&gt; C00042 + C04348</td>\n",
       "    </tr>\n",
       "    <tr>\n",
       "      <th>47229</th>\n",
       "      <td>O=C(O)C[C@@H](O)C(=O)O&gt;&gt;O=C(O)CCC(=O)O</td>\n",
       "      <td>C00497 = C00042</td>\n",
       "      <td>C00091 + C00497 &lt;=&gt; C00042 + C20747</td>\n",
       "    </tr>\n",
       "    <tr>\n",
       "      <th>70278</th>\n",
       "      <td>O=C(O)CC(=O)C(=O)O&gt;&gt;O=C(O)C[C@H](O)C(=O)O</td>\n",
       "      <td>C00036 = C00149</td>\n",
       "      <td>C00186 + C00036 &lt;=&gt; C00149 + C00022</td>\n",
       "    </tr>\n",
       "  </tbody>\n",
       "</table>\n",
       "</div>"
      ],
      "text/plain": [
       "                                        Reaction          Kegg_ID  \\\n",
       "81                                 CCCC=O>>CCCCO  C01412 = C06142   \n",
       "6799               CC(=O)C(C)=O>>CC(=O)[C@H](C)O  C00741 = C01769   \n",
       "34444       CC(C(=O)O)C(=O)O>>C[C@@H](C=O)C(=O)O  C02170 = C06002   \n",
       "40835      O=C(O)C[C@H](O)C(=O)O>>O=C(O)CCC(=O)O  C00149 = C00042   \n",
       "47229     O=C(O)C[C@@H](O)C(=O)O>>O=C(O)CCC(=O)O  C00497 = C00042   \n",
       "70278  O=C(O)CC(=O)C(=O)O>>O=C(O)C[C@H](O)C(=O)O  C00036 = C00149   \n",
       "\n",
       "                                           KEGG_Rxn  \n",
       "81     C01412 + C00004 + C00080 <=> C06142 + C00003  \n",
       "6799   C00741 + C00004 + C00080 <=> C01769 + C00003  \n",
       "34444  C02170 + C00027 <=> C06002 + C00007 + C00001  \n",
       "40835           C00091 + C00149 <=> C00042 + C04348  \n",
       "47229           C00091 + C00497 <=> C00042 + C20747  \n",
       "70278           C00186 + C00036 <=> C00149 + C00022  "
      ]
     },
     "execution_count": 105,
     "metadata": {},
     "output_type": "execute_result"
    }
   ],
   "source": [
    "redox_rxns_4C[redox_rxns_4C.KEGG_Rxn != 'None']"
   ]
  },
  {
   "cell_type": "code",
   "execution_count": 113,
   "metadata": {
    "collapsed": false
   },
   "outputs": [
    {
     "name": "stdout",
     "output_type": "stream",
     "text": [
      "O=CC(O)C(O)C(O)(P(=O)(O)O)P(=O)(O)O>>O=CCC(O)C(O)(P(=O)(O)O)P(=O)(O)O\n"
     ]
    },
    {
     "ename": "NameError",
     "evalue": "name 'display' is not defined",
     "output_type": "error",
     "traceback": [
      "\u001b[1;31m---------------------------------------------------------------------------\u001b[0m",
      "\u001b[1;31mNameError\u001b[0m                                 Traceback (most recent call last)",
      "\u001b[1;32m<ipython-input-113-56cd8f4a3bc8>\u001b[0m in \u001b[0;36m<module>\u001b[1;34m()\u001b[0m\n\u001b[0;32m      1\u001b[0m \u001b[1;32mfor\u001b[0m \u001b[0mrxn\u001b[0m \u001b[1;32min\u001b[0m \u001b[0mrxn_list_4C\u001b[0m\u001b[1;33m[\u001b[0m\u001b[1;36m2000\u001b[0m\u001b[1;33m:\u001b[0m\u001b[1;36m2100\u001b[0m\u001b[1;33m]\u001b[0m\u001b[1;33m:\u001b[0m\u001b[1;33m\u001b[0m\u001b[0m\n\u001b[0;32m      2\u001b[0m     \u001b[1;32mprint\u001b[0m \u001b[0mrxn\u001b[0m\u001b[1;33m\u001b[0m\u001b[0m\n\u001b[1;32m----> 3\u001b[1;33m     \u001b[0mdisplay\u001b[0m\u001b[1;33m(\u001b[0m\u001b[0mAllChem\u001b[0m\u001b[1;33m.\u001b[0m\u001b[0mReactionFromSmarts\u001b[0m\u001b[1;33m(\u001b[0m\u001b[0mstr\u001b[0m\u001b[1;33m(\u001b[0m\u001b[0mrxn\u001b[0m\u001b[1;33m)\u001b[0m\u001b[1;33m)\u001b[0m\u001b[1;33m)\u001b[0m\u001b[1;33m\u001b[0m\u001b[0m\n\u001b[0m",
      "\u001b[1;31mNameError\u001b[0m: name 'display' is not defined"
     ]
    }
   ],
   "source": [
    "for rxn in rxn_list_4C[2000:2100]:\n",
    "    print rxn\n",
    "    display(AllChem.ReactionFromSmarts(str(rxn)))"
   ]
  },
  {
   "cell_type": "markdown",
   "metadata": {
    "collapsed": true
   },
   "source": [
    "# Comparing the 7 carbon lists"
   ]
  },
  {
   "cell_type": "markdown",
   "metadata": {},
   "source": [
    "Load 7 carbon redox lists"
   ]
  },
  {
   "cell_type": "code",
   "execution_count": 106,
   "metadata": {
    "collapsed": true
   },
   "outputs": [],
   "source": [
    "G1_7C = pd.read_csv('~/Dropbox/Quantum/redox/final_lists/Non_Measured/G1_Filtered__7C.tsv', sep = '\\t', )\n",
    "G2_7C = pd.read_csv('~/Dropbox/Quantum/redox/final_lists/Non_Measured/G2_Filtered__7C.tsv', sep = '\\t', )\n",
    "G3_7C = pd.read_csv('~/Dropbox/Quantum/redox/final_lists/Non_Measured/G3_Filtered__7C.tsv', sep = '\\t', )\n",
    "G4_7C = pd.read_csv('~/Dropbox/Quantum/redox/final_lists/Non_Measured/G4_Filtered__7C.tsv', sep = '\\t', )"
   ]
  },
  {
   "cell_type": "code",
   "execution_count": 93,
   "metadata": {
    "collapsed": true,
    "scrolled": true
   },
   "outputs": [],
   "source": [
    "G1_7C_keggID = list(G1_7C.Reaction.values)\n",
    "G2_7C_keggID = list(G2_7C.Reaction.values)\n",
    "G3_7C_keggID = list(G3_7C.Reaction.values)\n",
    "G4_7C_keggID = list(G4_7C.Reaction.values)\n",
    "G1_7C_rxn = list(G1_7C.RXN_smarts.values)\n",
    "G2_7C_rxn = list(G2_7C.RXN_smarts.values)\n",
    "G3_7C_rxn = list(G3_7C.RXN_smarts.values)\n",
    "G4_7C_rxn = list(G4_7C.RXN_smarts.values)"
   ]
  },
  {
   "cell_type": "code",
   "execution_count": 98,
   "metadata": {
    "collapsed": true
   },
   "outputs": [],
   "source": [
    "G1_7C_df = pd.DataFrame(G1_7C_keggID, columns = ['Kegg_ID'])\n",
    "G2_7C_df = pd.DataFrame(G2_7C_keggID, columns = ['Kegg_ID'])\n",
    "G3_7C_df = pd.DataFrame(G3_7C_keggID, columns = ['Kegg_ID'])\n",
    "G4_7C_df = pd.DataFrame(G4_7C_keggID, columns = ['Kegg_ID'])\n",
    "G1_7C_df['Reaction'] = G1_7C_rxn\n",
    "G2_7C_df['Reaction'] = G2_7C_rxn\n",
    "G3_7C_df['Reaction'] = G3_7C_rxn\n",
    "G4_7C_df['Reaction'] = G4_7C_rxn"
   ]
  },
  {
   "cell_type": "code",
   "execution_count": 100,
   "metadata": {
    "collapsed": true,
    "scrolled": true
   },
   "outputs": [],
   "source": [
    "G1_7C_df['KEGG_Rxn'] = G1_7C_df.apply(CompareToKEGG, 1)\n",
    "G2_7C_df['KEGG_Rxn'] = G2_7C_df.apply(CompareToKEGG, 1)\n",
    "G3_7C_df['KEGG_Rxn'] = G3_7C_df.apply(CompareToKEGG, 1)\n",
    "G4_7C_df['KEGG_Rxn'] = G4_7C_df.apply(CompareToKEGG, 1)"
   ]
  },
  {
   "cell_type": "markdown",
   "metadata": {},
   "source": [
    "### G1 Reactions"
   ]
  },
  {
   "cell_type": "code",
   "execution_count": 107,
   "metadata": {
    "collapsed": false,
    "scrolled": true
   },
   "outputs": [
    {
     "data": {
      "text/html": [
       "<div>\n",
       "<table border=\"1\" class=\"dataframe\">\n",
       "  <thead>\n",
       "    <tr style=\"text-align: right;\">\n",
       "      <th></th>\n",
       "      <th>Kegg_ID</th>\n",
       "      <th>Reaction</th>\n",
       "      <th>KEGG_Rxn</th>\n",
       "    </tr>\n",
       "  </thead>\n",
       "  <tbody>\n",
       "    <tr>\n",
       "      <th>19</th>\n",
       "      <td>C00804 = C05985</td>\n",
       "      <td>C(=O)(C#C)O&gt;&gt;C(#C)C=O</td>\n",
       "      <td>C01359 + C00804 &lt;=&gt; C05985 + C00113 + C00001</td>\n",
       "    </tr>\n",
       "    <tr>\n",
       "      <th>30</th>\n",
       "      <td>C02170 = C06002</td>\n",
       "      <td>C(C(=O)O)(C(=O)O)C&gt;&gt;[C@@H](C(=O)O)(C=O)C</td>\n",
       "      <td>C02170 + C00027 &lt;=&gt; C06002 + C00007 + C00001</td>\n",
       "    </tr>\n",
       "    <tr>\n",
       "      <th>45</th>\n",
       "      <td>C05947 = C05938</td>\n",
       "      <td>[C@@H](C(=O)O)(C[C@H](C(=O)O)O)N&gt;&gt;C([C@@H](C(=...</td>\n",
       "      <td>C05947 + C00004 + C00080 &lt;=&gt; C05938 + C00003 +...</td>\n",
       "    </tr>\n",
       "    <tr>\n",
       "      <th>76</th>\n",
       "      <td>C00628 = C05585</td>\n",
       "      <td>c1(c(ccc(c1)O)O)C(=O)O&gt;&gt;c1c(ccc(c1C=O)O)O</td>\n",
       "      <td>C00628 + C00027 &lt;=&gt; C05585 + C00007 + C00001</td>\n",
       "    </tr>\n",
       "    <tr>\n",
       "      <th>81</th>\n",
       "      <td>C00156 = C00633</td>\n",
       "      <td>c1(C(=O)O)ccc(cc1)O&gt;&gt;c1(ccc(cc1)O)C=O</td>\n",
       "      <td>C00156 + C00028 + C00001 &lt;=&gt; C00633 + C00030 +...</td>\n",
       "    </tr>\n",
       "  </tbody>\n",
       "</table>\n",
       "</div>"
      ],
      "text/plain": [
       "            Kegg_ID                                           Reaction  \\\n",
       "19  C00804 = C05985                              C(=O)(C#C)O>>C(#C)C=O   \n",
       "30  C02170 = C06002           C(C(=O)O)(C(=O)O)C>>[C@@H](C(=O)O)(C=O)C   \n",
       "45  C05947 = C05938  [C@@H](C(=O)O)(C[C@H](C(=O)O)O)N>>C([C@@H](C(=...   \n",
       "76  C00628 = C05585          c1(c(ccc(c1)O)O)C(=O)O>>c1c(ccc(c1C=O)O)O   \n",
       "81  C00156 = C00633              c1(C(=O)O)ccc(cc1)O>>c1(ccc(cc1)O)C=O   \n",
       "\n",
       "                                             KEGG_Rxn  \n",
       "19       C01359 + C00804 <=> C05985 + C00113 + C00001  \n",
       "30       C02170 + C00027 <=> C06002 + C00007 + C00001  \n",
       "45  C05947 + C00004 + C00080 <=> C05938 + C00003 +...  \n",
       "76       C00628 + C00027 <=> C05585 + C00007 + C00001  \n",
       "81  C00156 + C00028 + C00001 <=> C00633 + C00030 +...  "
      ]
     },
     "execution_count": 107,
     "metadata": {},
     "output_type": "execute_result"
    }
   ],
   "source": [
    "G1_7C_df[G1_7C_df.KEGG_Rxn != 'None']"
   ]
  },
  {
   "cell_type": "markdown",
   "metadata": {},
   "source": [
    "### G2 Reactions"
   ]
  },
  {
   "cell_type": "code",
   "execution_count": 108,
   "metadata": {
    "collapsed": false
   },
   "outputs": [
    {
     "data": {
      "text/html": [
       "<div>\n",
       "<table border=\"1\" class=\"dataframe\">\n",
       "  <thead>\n",
       "    <tr style=\"text-align: right;\">\n",
       "      <th></th>\n",
       "      <th>Kegg_ID</th>\n",
       "      <th>Reaction</th>\n",
       "      <th>KEGG_Rxn</th>\n",
       "    </tr>\n",
       "  </thead>\n",
       "  <tbody>\n",
       "    <tr>\n",
       "      <th>0</th>\n",
       "      <td>C00067 = C00132</td>\n",
       "      <td>C=O&gt;&gt;CO</td>\n",
       "      <td>2 C00067 + C00001 &lt;=&gt; C00058 + C00132</td>\n",
       "    </tr>\n",
       "    <tr>\n",
       "      <th>3</th>\n",
       "      <td>C00593 = C05123</td>\n",
       "      <td>C(S(=O)(=O)O)C=O&gt;&gt;C(S(=O)(=O)O)CO</td>\n",
       "      <td>C00593 + C00005 + C00080 &lt;=&gt; C05123 + C00006</td>\n",
       "    </tr>\n",
       "    <tr>\n",
       "      <th>14</th>\n",
       "      <td>C00207 = C01845</td>\n",
       "      <td>C(=O)(C)C&gt;&gt;C(C)(C)O</td>\n",
       "      <td>C00207 + C00005 + C00080 &lt;=&gt; C01845 + C00006</td>\n",
       "    </tr>\n",
       "    <tr>\n",
       "      <th>25</th>\n",
       "      <td>C00546 = C05235</td>\n",
       "      <td>C(=O)(C=O)C&gt;&gt;C(=O)(CO)C</td>\n",
       "      <td>C00546 + C00005 + C00080 &lt;=&gt; C05235 + C00006</td>\n",
       "    </tr>\n",
       "    <tr>\n",
       "      <th>40</th>\n",
       "      <td>C06753 = C06754</td>\n",
       "      <td>C(CCl)O&gt;&gt;C(=O)CCl</td>\n",
       "      <td>C06753 + 2 C00125 &lt;=&gt; C06754 + 2 C00126 + 2 C0...</td>\n",
       "    </tr>\n",
       "    <tr>\n",
       "      <th>41</th>\n",
       "      <td>C05986 = C05985</td>\n",
       "      <td>C(#C)CO&gt;&gt;C(#C)C=O</td>\n",
       "      <td>C05986 + 2 C00125 &lt;=&gt; C05985 + 2 C00126 + 2 C0...</td>\n",
       "    </tr>\n",
       "    <tr>\n",
       "      <th>43</th>\n",
       "      <td>C02426 = C00116</td>\n",
       "      <td>[C@H](CO)(C=O)O&gt;&gt;C(CO)(CO)O</td>\n",
       "      <td>C02426 + C00005 + C00080 &lt;=&gt; C00116 + C00006</td>\n",
       "    </tr>\n",
       "    <tr>\n",
       "      <th>47</th>\n",
       "      <td>C01412 = C06142</td>\n",
       "      <td>C(CC)C=O&gt;&gt;C(CC)CO</td>\n",
       "      <td>C01412 + C00004 + C00080 &lt;=&gt; C06142 + C00003</td>\n",
       "    </tr>\n",
       "    <tr>\n",
       "      <th>51</th>\n",
       "      <td>C00036 = C00149</td>\n",
       "      <td>OC(=O)CC(=O)C(=O)O&gt;&gt;[C@H](CC(=O)O)(C(=O)O)O</td>\n",
       "      <td>C00186 + C00036 &lt;=&gt; C00149 + C00022</td>\n",
       "    </tr>\n",
       "    <tr>\n",
       "      <th>53</th>\n",
       "      <td>C00741 = C01769</td>\n",
       "      <td>C(=O)(C(=O)C)C&gt;&gt;CC(=O)[C@H](C)O</td>\n",
       "      <td>C00741 + C00004 + C00080 &lt;=&gt; C01769 + C00003</td>\n",
       "    </tr>\n",
       "    <tr>\n",
       "      <th>95</th>\n",
       "      <td>C00474 = C00309</td>\n",
       "      <td>OC[C@@H]([C@@H]([C@@H](CO)O)O)O&gt;&gt;C1([C@@H]([C@...</td>\n",
       "      <td>C00474 + 2 C00125 &lt;=&gt; C00309 + 2 C00126 + 2 C0...</td>\n",
       "    </tr>\n",
       "    <tr>\n",
       "      <th>109</th>\n",
       "      <td>C00026 = C01087</td>\n",
       "      <td>C(=O)(CCC(=O)O)C(=O)O&gt;&gt;[C@@H](CCC(=O)O)(C(=O)O)O</td>\n",
       "      <td>C03197 + C00026 &lt;=&gt; C00164 + C01087</td>\n",
       "    </tr>\n",
       "    <tr>\n",
       "      <th>134</th>\n",
       "      <td>C00031 = C00794</td>\n",
       "      <td>[C@H]1([C@H]([C@@H]([C@H](C(O1)O)O)O)O)CO&gt;&gt;OC[...</td>\n",
       "      <td>C00095 + C00031 &lt;=&gt; C00198 + C00794</td>\n",
       "    </tr>\n",
       "    <tr>\n",
       "      <th>137</th>\n",
       "      <td>C00092 = C01236</td>\n",
       "      <td>P(=O)(OC[C@@H]1[C@H]([C@@H]([C@H](C(O1)O)O)O)O...</td>\n",
       "      <td>C00092 + C00006 &lt;=&gt; C01236 + C00005 + C00080</td>\n",
       "    </tr>\n",
       "    <tr>\n",
       "      <th>145</th>\n",
       "      <td>C16159 = C16390</td>\n",
       "      <td>C(C(=O)O)CC(C=O)C(=O)O&gt;&gt;C(C(=O)O)CC(CO)C(=O)O</td>\n",
       "      <td>C16159 + C00004 + C00080 &lt;=&gt; C16390 + C00003</td>\n",
       "    </tr>\n",
       "    <tr>\n",
       "      <th>154</th>\n",
       "      <td>C00392 = C00095</td>\n",
       "      <td>OC[C@H]([C@H]([C@@H]([C@@H](CO)O)O)O)O&gt;&gt;C1([C@...</td>\n",
       "      <td>C00392 + 2 C00125 &lt;=&gt; C00095 + 2 C00126 + 2 C0...</td>\n",
       "    </tr>\n",
       "    <tr>\n",
       "      <th>173</th>\n",
       "      <td>C00414 = C00854</td>\n",
       "      <td>C1(=O)CCCCC1&gt;&gt;C1(CCCCC1)O</td>\n",
       "      <td>C00414 + C00004 + C00080 &lt;=&gt; C00854 + C00003</td>\n",
       "    </tr>\n",
       "    <tr>\n",
       "      <th>176</th>\n",
       "      <td>C00095 = C00794</td>\n",
       "      <td>C1([C@H]([C@@H]([C@H](O1)CO)O)O)(CO)O&gt;&gt;OC[C@@H...</td>\n",
       "      <td>C00095 + C00031 &lt;=&gt; C00198 + C00794</td>\n",
       "    </tr>\n",
       "    <tr>\n",
       "      <th>184</th>\n",
       "      <td>C06006 = C14463</td>\n",
       "      <td>[C@](C(=O)C)(C(=O)O)(CC)O&gt;&gt;[C@](C(=O)C(=O)O)(C...</td>\n",
       "      <td>C06006 &lt;=&gt; C14463</td>\n",
       "    </tr>\n",
       "    <tr>\n",
       "      <th>185</th>\n",
       "      <td>C00124 = C01697</td>\n",
       "      <td>[C@H]1([C@@H]([C@@H]([C@H](C(O1)O)O)O)O)CO&gt;&gt;OC...</td>\n",
       "      <td>C00124 + C00004 + C00080 &lt;=&gt; C01697 + C00003</td>\n",
       "    </tr>\n",
       "    <tr>\n",
       "      <th>193</th>\n",
       "      <td>C18316 = C18317</td>\n",
       "      <td>C1=C(C(=O)C=C(C1=O)O)C&gt;&gt;c1c(c(cc(c1C)O)O)O</td>\n",
       "      <td>C18316 + C00004 + C00080 &lt;=&gt; C18317 + C00003</td>\n",
       "    </tr>\n",
       "  </tbody>\n",
       "</table>\n",
       "</div>"
      ],
      "text/plain": [
       "             Kegg_ID                                           Reaction  \\\n",
       "0    C00067 = C00132                                            C=O>>CO   \n",
       "3    C00593 = C05123                  C(S(=O)(=O)O)C=O>>C(S(=O)(=O)O)CO   \n",
       "14   C00207 = C01845                                C(=O)(C)C>>C(C)(C)O   \n",
       "25   C00546 = C05235                            C(=O)(C=O)C>>C(=O)(CO)C   \n",
       "40   C06753 = C06754                                  C(CCl)O>>C(=O)CCl   \n",
       "41   C05986 = C05985                                  C(#C)CO>>C(#C)C=O   \n",
       "43   C02426 = C00116                        [C@H](CO)(C=O)O>>C(CO)(CO)O   \n",
       "47   C01412 = C06142                                  C(CC)C=O>>C(CC)CO   \n",
       "51   C00036 = C00149        OC(=O)CC(=O)C(=O)O>>[C@H](CC(=O)O)(C(=O)O)O   \n",
       "53   C00741 = C01769                    C(=O)(C(=O)C)C>>CC(=O)[C@H](C)O   \n",
       "95   C00474 = C00309  OC[C@@H]([C@@H]([C@@H](CO)O)O)O>>C1([C@@H]([C@...   \n",
       "109  C00026 = C01087   C(=O)(CCC(=O)O)C(=O)O>>[C@@H](CCC(=O)O)(C(=O)O)O   \n",
       "134  C00031 = C00794  [C@H]1([C@H]([C@@H]([C@H](C(O1)O)O)O)O)CO>>OC[...   \n",
       "137  C00092 = C01236  P(=O)(OC[C@@H]1[C@H]([C@@H]([C@H](C(O1)O)O)O)O...   \n",
       "145  C16159 = C16390      C(C(=O)O)CC(C=O)C(=O)O>>C(C(=O)O)CC(CO)C(=O)O   \n",
       "154  C00392 = C00095  OC[C@H]([C@H]([C@@H]([C@@H](CO)O)O)O)O>>C1([C@...   \n",
       "173  C00414 = C00854                          C1(=O)CCCCC1>>C1(CCCCC1)O   \n",
       "176  C00095 = C00794  C1([C@H]([C@@H]([C@H](O1)CO)O)O)(CO)O>>OC[C@@H...   \n",
       "184  C06006 = C14463  [C@](C(=O)C)(C(=O)O)(CC)O>>[C@](C(=O)C(=O)O)(C...   \n",
       "185  C00124 = C01697  [C@H]1([C@@H]([C@@H]([C@H](C(O1)O)O)O)O)CO>>OC...   \n",
       "193  C18316 = C18317         C1=C(C(=O)C=C(C1=O)O)C>>c1c(c(cc(c1C)O)O)O   \n",
       "\n",
       "                                              KEGG_Rxn  \n",
       "0                2 C00067 + C00001 <=> C00058 + C00132  \n",
       "3         C00593 + C00005 + C00080 <=> C05123 + C00006  \n",
       "14        C00207 + C00005 + C00080 <=> C01845 + C00006  \n",
       "25        C00546 + C00005 + C00080 <=> C05235 + C00006  \n",
       "40   C06753 + 2 C00125 <=> C06754 + 2 C00126 + 2 C0...  \n",
       "41   C05986 + 2 C00125 <=> C05985 + 2 C00126 + 2 C0...  \n",
       "43        C02426 + C00005 + C00080 <=> C00116 + C00006  \n",
       "47        C01412 + C00004 + C00080 <=> C06142 + C00003  \n",
       "51                 C00186 + C00036 <=> C00149 + C00022  \n",
       "53        C00741 + C00004 + C00080 <=> C01769 + C00003  \n",
       "95   C00474 + 2 C00125 <=> C00309 + 2 C00126 + 2 C0...  \n",
       "109                C03197 + C00026 <=> C00164 + C01087  \n",
       "134                C00095 + C00031 <=> C00198 + C00794  \n",
       "137       C00092 + C00006 <=> C01236 + C00005 + C00080  \n",
       "145       C16159 + C00004 + C00080 <=> C16390 + C00003  \n",
       "154  C00392 + 2 C00125 <=> C00095 + 2 C00126 + 2 C0...  \n",
       "173       C00414 + C00004 + C00080 <=> C00854 + C00003  \n",
       "176                C00095 + C00031 <=> C00198 + C00794  \n",
       "184                                  C06006 <=> C14463  \n",
       "185       C00124 + C00004 + C00080 <=> C01697 + C00003  \n",
       "193       C18316 + C00004 + C00080 <=> C18317 + C00003  "
      ]
     },
     "execution_count": 108,
     "metadata": {},
     "output_type": "execute_result"
    }
   ],
   "source": [
    "G2_7C_df[G2_7C_df.KEGG_Rxn != 'None']"
   ]
  },
  {
   "cell_type": "markdown",
   "metadata": {},
   "source": [
    "### G3 Reactions"
   ]
  },
  {
   "cell_type": "code",
   "execution_count": 109,
   "metadata": {
    "collapsed": false
   },
   "outputs": [
    {
     "data": {
      "text/html": [
       "<div>\n",
       "<table border=\"1\" class=\"dataframe\">\n",
       "  <thead>\n",
       "    <tr style=\"text-align: right;\">\n",
       "      <th></th>\n",
       "      <th>Kegg_ID</th>\n",
       "      <th>Reaction</th>\n",
       "      <th>KEGG_Rxn</th>\n",
       "    </tr>\n",
       "  </thead>\n",
       "  <tbody>\n",
       "    <tr>\n",
       "      <th>5</th>\n",
       "      <td>C00048 = C00037</td>\n",
       "      <td>C(=O)(C=O)O&gt;&gt;C(=O)(CN)O</td>\n",
       "      <td>C00041 + C00048 &lt;=&gt; C00022 + C00037</td>\n",
       "    </tr>\n",
       "    <tr>\n",
       "      <th>15</th>\n",
       "      <td>C00022 = C00041</td>\n",
       "      <td>CC(=O)C(=O)O&gt;&gt;OC(=O)[C@H](C)N</td>\n",
       "      <td>C00047 + C00022 &lt;=&gt; C04076 + C00041</td>\n",
       "    </tr>\n",
       "    <tr>\n",
       "      <th>18</th>\n",
       "      <td>C00022 = C00133</td>\n",
       "      <td>CC(=O)C(=O)O&gt;&gt;OC(=O)[C@@H](C)N</td>\n",
       "      <td>C00647 + C00022 &lt;=&gt; C00018 + C00133</td>\n",
       "    </tr>\n",
       "    <tr>\n",
       "      <th>19</th>\n",
       "      <td>C02798 = C05672</td>\n",
       "      <td>C(C(=O)C(=O)O)P(=O)(O)O&gt;&gt;OC(=O)C(CP(=O)(O)O)N</td>\n",
       "      <td>C02798 + C00025 &lt;=&gt; C05672 + C00026</td>\n",
       "    </tr>\n",
       "    <tr>\n",
       "      <th>23</th>\n",
       "      <td>C00222 = C00099</td>\n",
       "      <td>C(C(=O)O)C=O&gt;&gt;C(C(=O)O)CN</td>\n",
       "      <td>C00041 + C00222 &lt;=&gt; C00022 + C00099</td>\n",
       "    </tr>\n",
       "    <tr>\n",
       "      <th>28</th>\n",
       "      <td>C00036 = C00049</td>\n",
       "      <td>OC(=O)CC(=O)C(=O)O&gt;&gt;OC(=O)[C@H](CC(=O)O)N</td>\n",
       "      <td>C00037 + C00036 &lt;=&gt; C00048 + C00049</td>\n",
       "    </tr>\n",
       "    <tr>\n",
       "      <th>30</th>\n",
       "      <td>C00441 = C03283</td>\n",
       "      <td>OC(=O)[C@H](CC=O)N&gt;&gt;[C@H](CCN)(C(=O)O)N</td>\n",
       "      <td>C00025 + C00441 &lt;=&gt; C00026 + C03283</td>\n",
       "    </tr>\n",
       "    <tr>\n",
       "      <th>39</th>\n",
       "      <td>C06002 = C03284</td>\n",
       "      <td>[C@@H](C(=O)O)(C=O)C&gt;&gt;[C@@H](C(=O)O)(CN)C</td>\n",
       "      <td>C00041 + C06002 &lt;=&gt; C00022 + C03284</td>\n",
       "    </tr>\n",
       "    <tr>\n",
       "      <th>54</th>\n",
       "      <td>C00026 = C00217</td>\n",
       "      <td>C(=O)(CCC(=O)O)C(=O)O&gt;&gt;[C@@H](CCC(=O)O)(C(=O)O)N</td>\n",
       "      <td>C00133 + C00026 &lt;=&gt; C00022 + C00217</td>\n",
       "    </tr>\n",
       "    <tr>\n",
       "      <th>56</th>\n",
       "      <td>C01180 = C00073</td>\n",
       "      <td>C(=O)(C(=O)O)CCSC&gt;&gt;[C@@H](C(=O)O)(CCSC)N</td>\n",
       "      <td>C01180 + C00025 &lt;=&gt; C00073 + C00026</td>\n",
       "    </tr>\n",
       "    <tr>\n",
       "      <th>60</th>\n",
       "      <td>C00026 = C00025</td>\n",
       "      <td>C(=O)(CCC(=O)O)C(=O)O&gt;&gt;[C@H](CCC(=O)O)(C(=O)O)N</td>\n",
       "      <td>C00041 + C00026 &lt;=&gt; C00022 + C00025</td>\n",
       "    </tr>\n",
       "    <tr>\n",
       "      <th>81</th>\n",
       "      <td>C00671 = C00407</td>\n",
       "      <td>C(=O)([C@H](CC)C)C(=O)O&gt;&gt;[C@H]([C@H](CC)C)(C(=...</td>\n",
       "      <td>C00183 + C00671 &lt;=&gt; C00141 + C00407</td>\n",
       "    </tr>\n",
       "    <tr>\n",
       "      <th>85</th>\n",
       "      <td>C17581 = C02627</td>\n",
       "      <td>[C@H]1([C@H](C(=O)C[C@@H]([C@H]1O)N)O)O&gt;&gt;[C@H]...</td>\n",
       "      <td>C17581 + C00064 &lt;=&gt; C02627 + C00940</td>\n",
       "    </tr>\n",
       "    <tr>\n",
       "      <th>88</th>\n",
       "      <td>C17209 = C17580</td>\n",
       "      <td>[C@H]1([C@H]([C@@H](CC(=O)[C@H]1O)O)O)O&gt;&gt;[C@H]...</td>\n",
       "      <td>C17209 + C00064 &lt;=&gt; C17580 + C00940</td>\n",
       "    </tr>\n",
       "    <tr>\n",
       "      <th>92</th>\n",
       "      <td>C17211 = C17213</td>\n",
       "      <td>CSCCCC(=O)C(=O)O&gt;&gt;CSCCCC(N)C(=O)O</td>\n",
       "      <td>C17211 + C00151 &lt;=&gt; C17213 + C00161</td>\n",
       "    </tr>\n",
       "  </tbody>\n",
       "</table>\n",
       "</div>"
      ],
      "text/plain": [
       "            Kegg_ID                                           Reaction  \\\n",
       "5   C00048 = C00037                            C(=O)(C=O)O>>C(=O)(CN)O   \n",
       "15  C00022 = C00041                      CC(=O)C(=O)O>>OC(=O)[C@H](C)N   \n",
       "18  C00022 = C00133                     CC(=O)C(=O)O>>OC(=O)[C@@H](C)N   \n",
       "19  C02798 = C05672      C(C(=O)C(=O)O)P(=O)(O)O>>OC(=O)C(CP(=O)(O)O)N   \n",
       "23  C00222 = C00099                          C(C(=O)O)C=O>>C(C(=O)O)CN   \n",
       "28  C00036 = C00049          OC(=O)CC(=O)C(=O)O>>OC(=O)[C@H](CC(=O)O)N   \n",
       "30  C00441 = C03283            OC(=O)[C@H](CC=O)N>>[C@H](CCN)(C(=O)O)N   \n",
       "39  C06002 = C03284          [C@@H](C(=O)O)(C=O)C>>[C@@H](C(=O)O)(CN)C   \n",
       "54  C00026 = C00217   C(=O)(CCC(=O)O)C(=O)O>>[C@@H](CCC(=O)O)(C(=O)O)N   \n",
       "56  C01180 = C00073           C(=O)(C(=O)O)CCSC>>[C@@H](C(=O)O)(CCSC)N   \n",
       "60  C00026 = C00025    C(=O)(CCC(=O)O)C(=O)O>>[C@H](CCC(=O)O)(C(=O)O)N   \n",
       "81  C00671 = C00407  C(=O)([C@H](CC)C)C(=O)O>>[C@H]([C@H](CC)C)(C(=...   \n",
       "85  C17581 = C02627  [C@H]1([C@H](C(=O)C[C@@H]([C@H]1O)N)O)O>>[C@H]...   \n",
       "88  C17209 = C17580  [C@H]1([C@H]([C@@H](CC(=O)[C@H]1O)O)O)O>>[C@H]...   \n",
       "92  C17211 = C17213                  CSCCCC(=O)C(=O)O>>CSCCCC(N)C(=O)O   \n",
       "\n",
       "                               KEGG_Rxn  \n",
       "5   C00041 + C00048 <=> C00022 + C00037  \n",
       "15  C00047 + C00022 <=> C04076 + C00041  \n",
       "18  C00647 + C00022 <=> C00018 + C00133  \n",
       "19  C02798 + C00025 <=> C05672 + C00026  \n",
       "23  C00041 + C00222 <=> C00022 + C00099  \n",
       "28  C00037 + C00036 <=> C00048 + C00049  \n",
       "30  C00025 + C00441 <=> C00026 + C03283  \n",
       "39  C00041 + C06002 <=> C00022 + C03284  \n",
       "54  C00133 + C00026 <=> C00022 + C00217  \n",
       "56  C01180 + C00025 <=> C00073 + C00026  \n",
       "60  C00041 + C00026 <=> C00022 + C00025  \n",
       "81  C00183 + C00671 <=> C00141 + C00407  \n",
       "85  C17581 + C00064 <=> C02627 + C00940  \n",
       "88  C17209 + C00064 <=> C17580 + C00940  \n",
       "92  C17211 + C00151 <=> C17213 + C00161  "
      ]
     },
     "execution_count": 109,
     "metadata": {},
     "output_type": "execute_result"
    }
   ],
   "source": [
    "G3_7C_df[G3_7C_df.KEGG_Rxn != 'None']"
   ]
  },
  {
   "cell_type": "markdown",
   "metadata": {},
   "source": [
    "### G4 Reactions"
   ]
  },
  {
   "cell_type": "code",
   "execution_count": 110,
   "metadata": {
    "collapsed": false
   },
   "outputs": [
    {
     "data": {
      "text/html": [
       "<div>\n",
       "<table border=\"1\" class=\"dataframe\">\n",
       "  <thead>\n",
       "    <tr style=\"text-align: right;\">\n",
       "      <th></th>\n",
       "      <th>Kegg_ID</th>\n",
       "      <th>Reaction</th>\n",
       "      <th>KEGG_Rxn</th>\n",
       "    </tr>\n",
       "  </thead>\n",
       "  <tbody>\n",
       "    <tr>\n",
       "      <th>38</th>\n",
       "      <td>C00065 = C00041</td>\n",
       "      <td>[C@@H](C(=O)O)(CO)N&gt;&gt;OC(=O)[C@H](C)N</td>\n",
       "      <td>C00065 + C00022 &lt;=&gt; C00168 + C00041</td>\n",
       "    </tr>\n",
       "    <tr>\n",
       "      <th>40</th>\n",
       "      <td>C00497 = C00042</td>\n",
       "      <td>[C@@H](CC(=O)O)(C(=O)O)O&gt;&gt;OC(=O)CCC(=O)O</td>\n",
       "      <td>C00091 + C00497 &lt;=&gt; C00042 + C20747</td>\n",
       "    </tr>\n",
       "    <tr>\n",
       "      <th>46</th>\n",
       "      <td>C00149 = C00042</td>\n",
       "      <td>[C@H](CC(=O)O)(C(=O)O)O&gt;&gt;OC(=O)CCC(=O)O</td>\n",
       "      <td>C00091 + C00149 &lt;=&gt; C00042 + C04348</td>\n",
       "    </tr>\n",
       "    <tr>\n",
       "      <th>84</th>\n",
       "      <td>C03079 = C00025</td>\n",
       "      <td>OC(=O)C(C[C@@H](C(=O)O)N)O&gt;&gt;[C@H](CCC(=O)O)(C(...</td>\n",
       "      <td>C03079 + C00026 &lt;=&gt; C01127 + C00025</td>\n",
       "    </tr>\n",
       "    <tr>\n",
       "      <th>153</th>\n",
       "      <td>C03743 = C02183</td>\n",
       "      <td>c1(c(cc(cc1O)O)O)O&gt;&gt;c1(cc(cc(c1)O)O)O</td>\n",
       "      <td>C03743 + C01108 &lt;=&gt; C03743 + C02183</td>\n",
       "    </tr>\n",
       "    <tr>\n",
       "      <th>165</th>\n",
       "      <td>C07103 = C00472</td>\n",
       "      <td>C1(=CC(=O)C=CC1=O)O&gt;&gt;C1(=O)C=CC(=O)C=C1</td>\n",
       "      <td>C07103 &lt;=&gt; C00472 + C00001</td>\n",
       "    </tr>\n",
       "    <tr>\n",
       "      <th>204</th>\n",
       "      <td>C00318 = C01181</td>\n",
       "      <td>C([N+](C)(C)C)[C@@H](CC(=O)[O-])O&gt;&gt;[N+](CCCC(=...</td>\n",
       "      <td>C20749 + C00318 &lt;=&gt; C01181 + C20750</td>\n",
       "    </tr>\n",
       "    <tr>\n",
       "      <th>230</th>\n",
       "      <td>C00556 = C01455</td>\n",
       "      <td>c1(ccccc1)CO&gt;&gt;c1(ccccc1)C</td>\n",
       "      <td>C00556 + C00139 + C00001 &lt;=&gt; C01455 + C00007 +...</td>\n",
       "    </tr>\n",
       "  </tbody>\n",
       "</table>\n",
       "</div>"
      ],
      "text/plain": [
       "             Kegg_ID                                           Reaction  \\\n",
       "38   C00065 = C00041               [C@@H](C(=O)O)(CO)N>>OC(=O)[C@H](C)N   \n",
       "40   C00497 = C00042           [C@@H](CC(=O)O)(C(=O)O)O>>OC(=O)CCC(=O)O   \n",
       "46   C00149 = C00042            [C@H](CC(=O)O)(C(=O)O)O>>OC(=O)CCC(=O)O   \n",
       "84   C03079 = C00025  OC(=O)C(C[C@@H](C(=O)O)N)O>>[C@H](CCC(=O)O)(C(...   \n",
       "153  C03743 = C02183              c1(c(cc(cc1O)O)O)O>>c1(cc(cc(c1)O)O)O   \n",
       "165  C07103 = C00472            C1(=CC(=O)C=CC1=O)O>>C1(=O)C=CC(=O)C=C1   \n",
       "204  C00318 = C01181  C([N+](C)(C)C)[C@@H](CC(=O)[O-])O>>[N+](CCCC(=...   \n",
       "230  C00556 = C01455                          c1(ccccc1)CO>>c1(ccccc1)C   \n",
       "\n",
       "                                              KEGG_Rxn  \n",
       "38                 C00065 + C00022 <=> C00168 + C00041  \n",
       "40                 C00091 + C00497 <=> C00042 + C20747  \n",
       "46                 C00091 + C00149 <=> C00042 + C04348  \n",
       "84                 C03079 + C00026 <=> C01127 + C00025  \n",
       "153                C03743 + C01108 <=> C03743 + C02183  \n",
       "165                         C07103 <=> C00472 + C00001  \n",
       "204                C20749 + C00318 <=> C01181 + C20750  \n",
       "230  C00556 + C00139 + C00001 <=> C01455 + C00007 +...  "
      ]
     },
     "execution_count": 110,
     "metadata": {},
     "output_type": "execute_result"
    }
   ],
   "source": [
    "G4_7C_df[G4_7C_df.KEGG_Rxn != 'None']"
   ]
  },
  {
   "cell_type": "code",
   "execution_count": null,
   "metadata": {
    "collapsed": true
   },
   "outputs": [],
   "source": []
  }
 ],
 "metadata": {
  "kernelspec": {
   "display_name": "Python 2",
   "language": "python",
   "name": "python2"
  },
  "language_info": {
   "codemirror_mode": {
    "name": "ipython",
    "version": 2
   },
   "file_extension": ".py",
   "mimetype": "text/x-python",
   "name": "python",
   "nbconvert_exporter": "python",
   "pygments_lexer": "ipython2",
   "version": "2.7.11"
  },
  "toc": {
   "colors": {
    "hover_highlight": "#DAA520",
    "navigate_num": "#000000",
    "navigate_text": "#333333",
    "running_highlight": "#FF0000",
    "selected_highlight": "#FFD700",
    "sidebar_border": "#EEEEEE",
    "wrapper_background": "#FFFFFF"
   },
   "moveMenuLeft": true,
   "nav_menu": {
    "height": "48px",
    "width": "252px"
   },
   "navigate_menu": true,
   "number_sections": true,
   "sideBar": true,
   "threshold": 4,
   "toc_cell": false,
   "toc_section_display": "block",
   "toc_window_display": false,
   "widenNotebook": false
  }
 },
 "nbformat": 4,
 "nbformat_minor": 1
}
