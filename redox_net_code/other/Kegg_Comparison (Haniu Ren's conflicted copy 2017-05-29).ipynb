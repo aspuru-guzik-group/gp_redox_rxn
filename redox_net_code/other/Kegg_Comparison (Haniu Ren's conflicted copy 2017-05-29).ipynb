{
 "cells": [
  {
   "cell_type": "code",
   "execution_count": 177,
   "metadata": {
    "collapsed": false
   },
   "outputs": [
    {
     "name": "stdout",
     "output_type": "stream",
     "text": [
      "The autoreload extension is already loaded. To reload it, use:\n",
      "  %reload_ext autoreload\n",
      "Populating the interactive namespace from numpy and matplotlib\n"
     ]
    },
    {
     "name": "stderr",
     "output_type": "stream",
     "text": [
      "WARNING: pylab import has clobbered these variables: ['copy']\n",
      "`%matplotlib` prevents importing * from pylab and numpy\n"
     ]
    }
   ],
   "source": [
    "from IPython.display import Image, SVG\n",
    "import Reaction_Library as RL \n",
    "from rdkit import Chem\n",
    "import json\n",
    "from rdkit.Chem import AllChem,Draw,Descriptors\n",
    "import copy\n",
    "import pandas as pd\n",
    "import re\n",
    "import matplotlib.pyplot as plt\n",
    "%load_ext autoreload\n",
    "%autoreload 2\n",
    "\n",
    "%pylab inline"
   ]
  },
  {
   "cell_type": "markdown",
   "metadata": {},
   "source": [
    "# Functions"
   ]
  },
  {
   "cell_type": "code",
   "execution_count": 382,
   "metadata": {
    "collapsed": false
   },
   "outputs": [],
   "source": [
    "def count_carbons(x):\n",
    "    smiles = x.Reaction\n",
    "    \n",
    "    metabolite = smiles.split('>>')[1]\n",
    "    \n",
    "    new_smiles = metabolite.replace('Cl', '')\n",
    "    numC = new_smiles.count('C') + new_smiles.count('c')\n",
    "    \n",
    "    return numC\n",
    "\n",
    "def same_numC(x):\n",
    "    reaction = x.Reaction\n",
    "    \n",
    "    new_reaction = reaction.replace('Cl', '')\n",
    "    \n",
    "    sub = new_reaction.split('>>')[0]\n",
    "    prod = new_reaction.split('>>')[1]\n",
    "    \n",
    "    sub_numC = sub.count('C') + sub.count('c')\n",
    "    prod_numC = prod.count('C') + prod.count('c')\n",
    "    \n",
    "    if sub_numC != prod_numC:\n",
    "        return False\n",
    "    \n",
    "    return True\n",
    "\n",
    "def same_numN(x):\n",
    "    reaction = x.Reaction\n",
    "    \n",
    "    sub = reaction.split('>>')[0]\n",
    "    prod = reaction.split('>>')[1]\n",
    "    \n",
    "    sub_numN = sub.count('N')\n",
    "    prod_numN = prod.count('N')\n",
    "    \n",
    "    if sub_numN != prod_numN:\n",
    "        return False\n",
    "    \n",
    "    return True\n",
    "\n",
    "def SmilesToKegg(x):\n",
    "    rxn = x.Reaction\n",
    "    \n",
    "    sub = rxn.split('>>')[0]\n",
    "    prod = rxn.split('>>')[1]\n",
    "\n",
    "    if sub in Kegg_smiles:\n",
    "        for key in Kegg_smiles_dict:\n",
    "            if Kegg_smiles_dict[key] == sub:\n",
    "                kegg_sub = key\n",
    "    else:\n",
    "        kegg_sub = 'NA'\n",
    "    \n",
    "    if prod in Kegg_smiles:\n",
    "        for key in Kegg_smiles_dict:\n",
    "            if Kegg_smiles_dict[key] == prod:\n",
    "                kegg_prod = key\n",
    "    else:\n",
    "        kegg_prod = 'NA'\n",
    "    \n",
    "    kegg_rxn = kegg_sub + ' = ' + kegg_prod\n",
    "    \n",
    "    if kegg_rxn != 'NA = NA':\n",
    "        return kegg_rxn\n",
    "    \n",
    "    return 'None'\n",
    "\n",
    "def CompareToKEGG(x):\n",
    "    rxn = x.Kegg_ID\n",
    "    \n",
    "    if rxn != 'None':\n",
    "        sub = rxn.split(' = ')[0]\n",
    "        prod = rxn.split(' = ')[1]\n",
    "\n",
    "        for reaction in Kegg_reaction:\n",
    "            Kegg_sub = reaction.split('<=>')[0]\n",
    "            Kegg_prod = reaction.split('<=>')[1]\n",
    "\n",
    "            #print Kegg_sub, Kegg_prod\n",
    "            if sub in Kegg_sub and prod in Kegg_prod:\n",
    "                return reaction\n",
    "\n",
    "    return 'None'\n",
    "\n",
    "def categorize_rxn(row):\n",
    "    rxn = row.Reaction\n",
    "    \n",
    "    sub = rxn.split('>>')[0]\n",
    "    prod = rxn.split('>>')[1]\n",
    "    \n",
    "    #G1. Apply reaction_type to substrate\n",
    "    G1_prods = G1_function(sub) #list of G1 products \n",
    "    #G2\n",
    "    G2_prods = G2_function(sub) #list of G2 products\n",
    "    #G3\n",
    "    G3_prods = G3_function(sub) #list of G3 products\n",
    "    #G4\n",
    "    G4_prods = G4_function(sub) #list of G4 products \n",
    "    \n",
    "    if len(G1_prods) > 0:\n",
    "        for x in G1_prods:\n",
    "            if x == prod:\n",
    "                return 'G1'\n",
    "    if len(G2_prods) > 0:\n",
    "        for x in G2_prods:\n",
    "            if x == prod:\n",
    "                return 'G2'\n",
    "    if len(G3_prods) > 0:\n",
    "        for x in G3_prods:\n",
    "            if x == prod:\n",
    "                return 'G3'\n",
    "    if len(G4_prods) > 0:\n",
    "        for x in G4_prods:\n",
    "            if x == prod:\n",
    "                return 'G4'"
   ]
  },
  {
   "cell_type": "code",
   "execution_count": 383,
   "metadata": {
    "collapsed": true
   },
   "outputs": [],
   "source": [
    "def SmilesToKegg2(rxn):\n",
    "    \n",
    "    sub = rxn.split('>>')[0]\n",
    "    prod = rxn.split('>>')[1]\n",
    "\n",
    "    if sub in Kegg_smiles:\n",
    "        for key in Kegg_smiles_dict:\n",
    "            if Kegg_smiles_dict[key] == sub:\n",
    "                kegg_sub = key\n",
    "    else:\n",
    "        kegg_sub = 'NA'\n",
    "    \n",
    "    if prod in Kegg_smiles:\n",
    "        for key in Kegg_smiles_dict:\n",
    "            if Kegg_smiles_dict[key] == prod:\n",
    "                kegg_prod = key\n",
    "    else:\n",
    "        kegg_prod = 'NA'\n",
    "    \n",
    "    kegg_rxn = kegg_sub + ' = ' + kegg_prod\n",
    "    \n",
    "    if kegg_rxn != 'NA = NA':\n",
    "        return kegg_rxn\n",
    "    \n",
    "    return 'None'"
   ]
  },
  {
   "cell_type": "markdown",
   "metadata": {},
   "source": [
    "# Reaction Lists"
   ]
  },
  {
   "cell_type": "code",
   "execution_count": 215,
   "metadata": {
    "collapsed": false
   },
   "outputs": [],
   "source": [
    "# 10 Carbon redox reactions\n",
    "redox_rxns = pd.read_csv('~/Dropbox/Quantum/redox/data_for_Ben/10C_Redox.csv')"
   ]
  },
  {
   "cell_type": "code",
   "execution_count": 216,
   "metadata": {
    "collapsed": false
   },
   "outputs": [],
   "source": [
    "# KEGG reactions\n",
    "kegg_rxns = pd.read_csv('KEGG_ALL.csv', sep = '\\t', engine = 'python')"
   ]
  },
  {
   "cell_type": "code",
   "execution_count": 217,
   "metadata": {
    "collapsed": true
   },
   "outputs": [],
   "source": [
    "# Kegg canonical smiles\n",
    "with open('Kegg_Canonical_Final.json', 'r') as fp:\n",
    "        Kegg_smiles_dict = json.load(fp)"
   ]
  },
  {
   "cell_type": "code",
   "execution_count": 283,
   "metadata": {
    "collapsed": true
   },
   "outputs": [],
   "source": [
    "# Kegg smiles list\n",
    "Kegg_smiles = []\n",
    "for x in Kegg_smiles_dict:\n",
    "    Kegg_smiles.append(Kegg_smiles_dict[x])"
   ]
  },
  {
   "cell_type": "code",
   "execution_count": 310,
   "metadata": {
    "collapsed": true
   },
   "outputs": [],
   "source": [
    "# KEGG equations\n",
    "Kegg_reaction = list(kegg_rxns.EQUATION.values)"
   ]
  },
  {
   "cell_type": "code",
   "execution_count": 359,
   "metadata": {
    "collapsed": false,
    "scrolled": true
   },
   "outputs": [
    {
     "data": {
      "text/html": [
       "<div>\n",
       "<table border=\"1\" class=\"dataframe\">\n",
       "  <thead>\n",
       "    <tr style=\"text-align: right;\">\n",
       "      <th></th>\n",
       "      <th>DEFINITION</th>\n",
       "      <th>EC_CLASS</th>\n",
       "      <th>EQUATION</th>\n",
       "      <th>KEGG_ID</th>\n",
       "      <th>NAME</th>\n",
       "    </tr>\n",
       "  </thead>\n",
       "  <tbody>\n",
       "    <tr>\n",
       "      <th>0</th>\n",
       "      <td>Polyphosphate + n H2O &lt;=&gt; (n+1) Oligophosphate</td>\n",
       "      <td>3.6.1.10</td>\n",
       "      <td>C00404 + n C00001 &lt;=&gt; (n+1) C02174</td>\n",
       "      <td>R00001</td>\n",
       "      <td>polyphosphate polyphosphohydrolase</td>\n",
       "    </tr>\n",
       "    <tr>\n",
       "      <th>1</th>\n",
       "      <td>16 ATP + 16 H2O + 8 Reduced ferredoxin &lt;=&gt; 8 e...</td>\n",
       "      <td>1.18.6.1</td>\n",
       "      <td>16 C00002 + 16 C00001 + 8 C00138 &lt;=&gt; 8 C05359 ...</td>\n",
       "      <td>R00002</td>\n",
       "      <td>Reduced ferredoxin:dinitrogen oxidoreductase (...</td>\n",
       "    </tr>\n",
       "    <tr>\n",
       "      <th>2</th>\n",
       "      <td>Diphosphate + H2O &lt;=&gt; 2 Orthophosphate</td>\n",
       "      <td>3.6.1.1</td>\n",
       "      <td>C00013 + C00001 &lt;=&gt; 2 C00009</td>\n",
       "      <td>R00004</td>\n",
       "      <td>diphosphate phosphohydrolase;</td>\n",
       "    </tr>\n",
       "    <tr>\n",
       "      <th>3</th>\n",
       "      <td>Urea-1-carboxylate + H2O &lt;=&gt; 2 CO2 + 2 Ammonia</td>\n",
       "      <td>3.5.1.54</td>\n",
       "      <td>C01010 + C00001 &lt;=&gt; 2 C00011 + 2 C00014</td>\n",
       "      <td>R00005</td>\n",
       "      <td>urea-1-carboxylate amidohydrolase</td>\n",
       "    </tr>\n",
       "    <tr>\n",
       "      <th>4</th>\n",
       "      <td>2-Acetolactate + CO2 &lt;=&gt; 2 Pyruvate</td>\n",
       "      <td>2.2.1.6</td>\n",
       "      <td>C00900 + C00011 &lt;=&gt; 2 C00022</td>\n",
       "      <td>R00006</td>\n",
       "      <td>pyruvate:pyruvate acetaldehydetransferase (dec...</td>\n",
       "    </tr>\n",
       "  </tbody>\n",
       "</table>\n",
       "</div>"
      ],
      "text/plain": [
       "                                          DEFINITION  EC_CLASS  \\\n",
       "0     Polyphosphate + n H2O <=> (n+1) Oligophosphate  3.6.1.10   \n",
       "1  16 ATP + 16 H2O + 8 Reduced ferredoxin <=> 8 e...  1.18.6.1   \n",
       "2             Diphosphate + H2O <=> 2 Orthophosphate   3.6.1.1   \n",
       "3     Urea-1-carboxylate + H2O <=> 2 CO2 + 2 Ammonia  3.5.1.54   \n",
       "4                2-Acetolactate + CO2 <=> 2 Pyruvate   2.2.1.6   \n",
       "\n",
       "                                            EQUATION KEGG_ID  \\\n",
       "0                 C00404 + n C00001 <=> (n+1) C02174  R00001   \n",
       "1  16 C00002 + 16 C00001 + 8 C00138 <=> 8 C05359 ...  R00002   \n",
       "2                       C00013 + C00001 <=> 2 C00009  R00004   \n",
       "3            C01010 + C00001 <=> 2 C00011 + 2 C00014  R00005   \n",
       "4                       C00900 + C00011 <=> 2 C00022  R00006   \n",
       "\n",
       "                                                NAME  \n",
       "0                 polyphosphate polyphosphohydrolase  \n",
       "1  Reduced ferredoxin:dinitrogen oxidoreductase (...  \n",
       "2                      diphosphate phosphohydrolase;  \n",
       "3                  urea-1-carboxylate amidohydrolase  \n",
       "4  pyruvate:pyruvate acetaldehydetransferase (dec...  "
      ]
     },
     "execution_count": 359,
     "metadata": {},
     "output_type": "execute_result"
    }
   ],
   "source": [
    "kegg_rxns.head()"
   ]
  },
  {
   "cell_type": "markdown",
   "metadata": {},
   "source": [
    "# Compare Metabolites to Kegg Metabolites"
   ]
  },
  {
   "cell_type": "code",
   "execution_count": 339,
   "metadata": {
    "collapsed": true
   },
   "outputs": [],
   "source": [
    "# Get rid of G3 reactions by making sure reactant and product have same number of Nitrogens\n",
    "redox_rxns['Same_NumN'] = redox_rxns.apply(same_numN, 1)"
   ]
  },
  {
   "cell_type": "code",
   "execution_count": 340,
   "metadata": {
    "collapsed": false,
    "scrolled": true
   },
   "outputs": [],
   "source": [
    "redox_rxns = redox_rxns[redox_rxns.Same_NumN == True]"
   ]
  },
  {
   "cell_type": "code",
   "execution_count": 341,
   "metadata": {
    "collapsed": false,
    "scrolled": true
   },
   "outputs": [],
   "source": [
    "# Count carbons for substrate\n",
    "redox_rxns['numC'] = redox_rxns.apply(count_carbons, 1)"
   ]
  },
  {
   "cell_type": "code",
   "execution_count": 342,
   "metadata": {
    "collapsed": false
   },
   "outputs": [],
   "source": [
    "# Get 2,3,4 carbon redox reactions\n",
    "redox_rxns_2C = redox_rxns[redox_rxns.numC == 2]\n",
    "redox_rxns_3C = redox_rxns[redox_rxns.numC == 3]\n",
    "redox_rxns_4C = redox_rxns[redox_rxns.numC == 4]"
   ]
  },
  {
   "cell_type": "code",
   "execution_count": 360,
   "metadata": {
    "collapsed": false,
    "scrolled": true
   },
   "outputs": [
    {
     "data": {
      "text/html": [
       "<div>\n",
       "<table border=\"1\" class=\"dataframe\">\n",
       "  <thead>\n",
       "    <tr style=\"text-align: right;\">\n",
       "      <th></th>\n",
       "      <th>Reaction</th>\n",
       "      <th>Kegg_ID</th>\n",
       "      <th>KEGG_Rxn</th>\n",
       "    </tr>\n",
       "  </thead>\n",
       "  <tbody>\n",
       "    <tr>\n",
       "      <th>0</th>\n",
       "      <td>CCO&gt;&gt;CC</td>\n",
       "      <td>None</td>\n",
       "      <td>False</td>\n",
       "    </tr>\n",
       "    <tr>\n",
       "      <th>7</th>\n",
       "      <td>CSCO&gt;&gt;CSC</td>\n",
       "      <td>None</td>\n",
       "      <td>False</td>\n",
       "    </tr>\n",
       "    <tr>\n",
       "      <th>8</th>\n",
       "      <td>OCCF&gt;&gt;CCF</td>\n",
       "      <td>None</td>\n",
       "      <td>False</td>\n",
       "    </tr>\n",
       "    <tr>\n",
       "      <th>10</th>\n",
       "      <td>NCCO&gt;&gt;CCN</td>\n",
       "      <td>C00189 = C00797</td>\n",
       "      <td>False</td>\n",
       "    </tr>\n",
       "    <tr>\n",
       "      <th>11</th>\n",
       "      <td>COCO&gt;&gt;COC</td>\n",
       "      <td>None</td>\n",
       "      <td>False</td>\n",
       "    </tr>\n",
       "  </tbody>\n",
       "</table>\n",
       "</div>"
      ],
      "text/plain": [
       "     Reaction          Kegg_ID KEGG_Rxn\n",
       "0     CCO>>CC             None    False\n",
       "7   CSCO>>CSC             None    False\n",
       "8   OCCF>>CCF             None    False\n",
       "10  NCCO>>CCN  C00189 = C00797    False\n",
       "11  COCO>>COC             None    False"
      ]
     },
     "execution_count": 360,
     "metadata": {},
     "output_type": "execute_result"
    }
   ],
   "source": [
    "redox_rxns_2C.head()"
   ]
  },
  {
   "cell_type": "code",
   "execution_count": 343,
   "metadata": {
    "collapsed": false
   },
   "outputs": [],
   "source": [
    "# Delete unneccesary columns\n",
    "\n",
    "del redox_rxns_2C['Same_NumN']\n",
    "del redox_rxns_2C['numC']\n",
    "del redox_rxns_3C['Same_NumN']\n",
    "del redox_rxns_3C['numC']\n",
    "del redox_rxns_4C['Same_NumN']\n",
    "del redox_rxns_4C['numC']"
   ]
  },
  {
   "cell_type": "code",
   "execution_count": 361,
   "metadata": {
    "collapsed": true
   },
   "outputs": [],
   "source": [
    "# Turn dataframes into csv files\n",
    "\n",
    "#redox_rxns_2C.to_csv('2C_redox_rxns.csv', index = False)\n",
    "#redox_rxns_3C.to_csv('3C_redox_rxns.csv', index = False)\n",
    "#redox_rxns_4C.to_csv('4C_redox_rxns.csv', index = False)"
   ]
  },
  {
   "cell_type": "code",
   "execution_count": 230,
   "metadata": {
    "collapsed": false,
    "scrolled": true
   },
   "outputs": [],
   "source": [
    "redox_list = pd.DataFrame(redox_rxns.Reaction.values, columns = ['Reaction'])"
   ]
  },
  {
   "cell_type": "code",
   "execution_count": 231,
   "metadata": {
    "collapsed": true
   },
   "outputs": [],
   "source": [
    "# List of 2,3,4 carbon reactions in case they are needed\n",
    "rxn_list_2C = list(redox_rxns_2C.Reaction.values)\n",
    "rxn_list_3C = list(redox_rxns_3C.Reaction.values)\n",
    "rxn_list_4C = list(redox_rxns_4C.Reaction.values)"
   ]
  },
  {
   "cell_type": "markdown",
   "metadata": {},
   "source": [
    "2 Carbon reactions"
   ]
  },
  {
   "cell_type": "code",
   "execution_count": 374,
   "metadata": {
    "collapsed": false
   },
   "outputs": [],
   "source": [
    "# Run functions on the redox reactions to compare to KEGG\n",
    "# Kegg_ID converts smiles reaction to reaction in kegg ID form\n",
    "# KEGG_Rxn outputs the corresponding reaction in KEGG\n",
    "\n",
    "redox_rxns_2C['Kegg_ID'] = redox_rxns_2C.apply(SmilesToKegg, 1)\n",
    "redox_rxns_2C['KEGG_Rxn'] = redox_rxns_2C.apply(CompareToKEGG, 1)"
   ]
  },
  {
   "cell_type": "code",
   "execution_count": 379,
   "metadata": {
    "collapsed": false,
    "scrolled": true
   },
   "outputs": [
    {
     "data": {
      "text/html": [
       "<div>\n",
       "<table border=\"1\" class=\"dataframe\">\n",
       "  <thead>\n",
       "    <tr style=\"text-align: right;\">\n",
       "      <th></th>\n",
       "      <th>Reaction</th>\n",
       "      <th>Kegg_ID</th>\n",
       "      <th>KEGG_Rxn</th>\n",
       "    </tr>\n",
       "  </thead>\n",
       "  <tbody>\n",
       "    <tr>\n",
       "      <th>0</th>\n",
       "      <td>CCO&gt;&gt;CC</td>\n",
       "      <td>C00469 = NA</td>\n",
       "      <td>None</td>\n",
       "    </tr>\n",
       "    <tr>\n",
       "      <th>7</th>\n",
       "      <td>CSCO&gt;&gt;CSC</td>\n",
       "      <td>NA = C00580</td>\n",
       "      <td>None</td>\n",
       "    </tr>\n",
       "    <tr>\n",
       "      <th>8</th>\n",
       "      <td>OCCF&gt;&gt;CCF</td>\n",
       "      <td>None</td>\n",
       "      <td>None</td>\n",
       "    </tr>\n",
       "    <tr>\n",
       "      <th>10</th>\n",
       "      <td>NCCO&gt;&gt;CCN</td>\n",
       "      <td>C00189 = C00797</td>\n",
       "      <td>None</td>\n",
       "    </tr>\n",
       "    <tr>\n",
       "      <th>11</th>\n",
       "      <td>COCO&gt;&gt;COC</td>\n",
       "      <td>NA = C11144</td>\n",
       "      <td>None</td>\n",
       "    </tr>\n",
       "  </tbody>\n",
       "</table>\n",
       "</div>"
      ],
      "text/plain": [
       "     Reaction          Kegg_ID KEGG_Rxn\n",
       "0     CCO>>CC      C00469 = NA     None\n",
       "7   CSCO>>CSC      NA = C00580     None\n",
       "8   OCCF>>CCF             None     None\n",
       "10  NCCO>>CCN  C00189 = C00797     None\n",
       "11  COCO>>COC      NA = C11144     None"
      ]
     },
     "execution_count": 379,
     "metadata": {},
     "output_type": "execute_result"
    }
   ],
   "source": [
    "redox_rxns_2C.head()"
   ]
  },
  {
   "cell_type": "code",
   "execution_count": 380,
   "metadata": {
    "collapsed": false
   },
   "outputs": [
    {
     "data": {
      "text/html": [
       "<div>\n",
       "<table border=\"1\" class=\"dataframe\">\n",
       "  <thead>\n",
       "    <tr style=\"text-align: right;\">\n",
       "      <th></th>\n",
       "      <th>Reaction</th>\n",
       "      <th>Kegg_ID</th>\n",
       "      <th>KEGG_Rxn</th>\n",
       "    </tr>\n",
       "  </thead>\n",
       "  <tbody>\n",
       "    <tr>\n",
       "      <th>7579</th>\n",
       "      <td>O=CCS(=O)(=O)O&gt;&gt;O=S(=O)(O)CCO</td>\n",
       "      <td>C00593 = C05123</td>\n",
       "      <td>C00593 + C00005 + C00080 &lt;=&gt; C05123 + C00006</td>\n",
       "    </tr>\n",
       "  </tbody>\n",
       "</table>\n",
       "</div>"
      ],
      "text/plain": [
       "                           Reaction          Kegg_ID  \\\n",
       "7579  O=CCS(=O)(=O)O>>O=S(=O)(O)CCO  C00593 = C05123   \n",
       "\n",
       "                                          KEGG_Rxn  \n",
       "7579  C00593 + C00005 + C00080 <=> C05123 + C00006  "
      ]
     },
     "execution_count": 380,
     "metadata": {},
     "output_type": "execute_result"
    }
   ],
   "source": [
    "redox_rxns_2C[redox_rxns_2C.KEGG_Rxn != 'None']"
   ]
  },
  {
   "cell_type": "markdown",
   "metadata": {},
   "source": [
    "3 Carbon reactions"
   ]
  },
  {
   "cell_type": "code",
   "execution_count": 384,
   "metadata": {
    "collapsed": false
   },
   "outputs": [],
   "source": [
    "redox_rxns_3C['Kegg_ID'] = redox_rxns_3C.apply(SmilesToKegg, 1)\n",
    "redox_rxns_3C['KEGG_Rxn'] = redox_rxns_3C.apply(CompareToKEGG, 1)"
   ]
  },
  {
   "cell_type": "code",
   "execution_count": 386,
   "metadata": {
    "collapsed": false
   },
   "outputs": [
    {
     "data": {
      "text/html": [
       "<div>\n",
       "<table border=\"1\" class=\"dataframe\">\n",
       "  <thead>\n",
       "    <tr style=\"text-align: right;\">\n",
       "      <th></th>\n",
       "      <th>Reaction</th>\n",
       "      <th>Kegg_ID</th>\n",
       "      <th>KEGG_Rxn</th>\n",
       "    </tr>\n",
       "  </thead>\n",
       "  <tbody>\n",
       "    <tr>\n",
       "      <th>14</th>\n",
       "      <td>CCCO&gt;&gt;CCC</td>\n",
       "      <td>C05979 = NA</td>\n",
       "      <td>None</td>\n",
       "    </tr>\n",
       "    <tr>\n",
       "      <th>18</th>\n",
       "      <td>CSCCO&gt;&gt;CCSC</td>\n",
       "      <td>None</td>\n",
       "      <td>None</td>\n",
       "    </tr>\n",
       "    <tr>\n",
       "      <th>21</th>\n",
       "      <td>C=CCO&gt;&gt;C=CC</td>\n",
       "      <td>C02001 = C11505</td>\n",
       "      <td>None</td>\n",
       "    </tr>\n",
       "    <tr>\n",
       "      <th>24</th>\n",
       "      <td>OCCCS&gt;&gt;CCCS</td>\n",
       "      <td>NA = C08390</td>\n",
       "      <td>None</td>\n",
       "    </tr>\n",
       "    <tr>\n",
       "      <th>29</th>\n",
       "      <td>C#CCO&gt;&gt;C#CC</td>\n",
       "      <td>C05986 = NA</td>\n",
       "      <td>None</td>\n",
       "    </tr>\n",
       "  </tbody>\n",
       "</table>\n",
       "</div>"
      ],
      "text/plain": [
       "       Reaction          Kegg_ID KEGG_Rxn\n",
       "14    CCCO>>CCC      C05979 = NA     None\n",
       "18  CSCCO>>CCSC             None     None\n",
       "21  C=CCO>>C=CC  C02001 = C11505     None\n",
       "24  OCCCS>>CCCS      NA = C08390     None\n",
       "29  C#CCO>>C#CC      C05986 = NA     None"
      ]
     },
     "execution_count": 386,
     "metadata": {},
     "output_type": "execute_result"
    }
   ],
   "source": [
    "redox_rxns_3C.head()"
   ]
  },
  {
   "cell_type": "code",
   "execution_count": 385,
   "metadata": {
    "collapsed": false
   },
   "outputs": [
    {
     "data": {
      "text/html": [
       "<div>\n",
       "<table border=\"1\" class=\"dataframe\">\n",
       "  <thead>\n",
       "    <tr style=\"text-align: right;\">\n",
       "      <th></th>\n",
       "      <th>Reaction</th>\n",
       "      <th>Kegg_ID</th>\n",
       "      <th>KEGG_Rxn</th>\n",
       "    </tr>\n",
       "  </thead>\n",
       "  <tbody>\n",
       "    <tr>\n",
       "      <th>134</th>\n",
       "      <td>CC(C)=O&gt;&gt;CC(C)O</td>\n",
       "      <td>C00207 = C01845</td>\n",
       "      <td>C00207 + C00005 + C00080 &lt;=&gt; C01845 + C00006</td>\n",
       "    </tr>\n",
       "    <tr>\n",
       "      <th>289</th>\n",
       "      <td>C#CC(=O)O&gt;&gt;C#CC=O</td>\n",
       "      <td>C00804 = C05985</td>\n",
       "      <td>C01359 + C00804 &lt;=&gt; C05985 + C00113 + C00001</td>\n",
       "    </tr>\n",
       "    <tr>\n",
       "      <th>483</th>\n",
       "      <td>CC(=O)C=O&gt;&gt;CC(=O)CO</td>\n",
       "      <td>C00546 = C05235</td>\n",
       "      <td>C00546 + C00005 + C00080 &lt;=&gt; C05235 + C00006</td>\n",
       "    </tr>\n",
       "    <tr>\n",
       "      <th>2240</th>\n",
       "      <td>O=C[C@@H](O)CO&gt;&gt;OCC(O)CO</td>\n",
       "      <td>C02426 = C00116</td>\n",
       "      <td>C02426 + C00005 + C00080 &lt;=&gt; C00116 + C00006</td>\n",
       "    </tr>\n",
       "  </tbody>\n",
       "</table>\n",
       "</div>"
      ],
      "text/plain": [
       "                      Reaction          Kegg_ID  \\\n",
       "134            CC(C)=O>>CC(C)O  C00207 = C01845   \n",
       "289          C#CC(=O)O>>C#CC=O  C00804 = C05985   \n",
       "483        CC(=O)C=O>>CC(=O)CO  C00546 = C05235   \n",
       "2240  O=C[C@@H](O)CO>>OCC(O)CO  C02426 = C00116   \n",
       "\n",
       "                                          KEGG_Rxn  \n",
       "134   C00207 + C00005 + C00080 <=> C01845 + C00006  \n",
       "289   C01359 + C00804 <=> C05985 + C00113 + C00001  \n",
       "483   C00546 + C00005 + C00080 <=> C05235 + C00006  \n",
       "2240  C02426 + C00005 + C00080 <=> C00116 + C00006  "
      ]
     },
     "execution_count": 385,
     "metadata": {},
     "output_type": "execute_result"
    }
   ],
   "source": [
    "redox_rxns_3C[redox_rxns_3C.KEGG_Rxn != 'None']"
   ]
  },
  {
   "cell_type": "markdown",
   "metadata": {},
   "source": [
    "4 Carbon reaction"
   ]
  },
  {
   "cell_type": "code",
   "execution_count": 387,
   "metadata": {
    "collapsed": false,
    "scrolled": true
   },
   "outputs": [],
   "source": [
    "redox_rxns_4C['Kegg_ID'] = redox_rxns_4C.apply(SmilesToKegg, 1)\n",
    "redox_rxns_4C['KEGG_Rxn'] = redox_rxns_4C.apply(CompareToKEGG, 1)"
   ]
  },
  {
   "cell_type": "code",
   "execution_count": 389,
   "metadata": {
    "collapsed": false
   },
   "outputs": [
    {
     "data": {
      "text/html": [
       "<div>\n",
       "<table border=\"1\" class=\"dataframe\">\n",
       "  <thead>\n",
       "    <tr style=\"text-align: right;\">\n",
       "      <th></th>\n",
       "      <th>Reaction</th>\n",
       "      <th>Kegg_ID</th>\n",
       "      <th>KEGG_Rxn</th>\n",
       "    </tr>\n",
       "  </thead>\n",
       "  <tbody>\n",
       "    <tr>\n",
       "      <th>28</th>\n",
       "      <td>CCCCO&gt;&gt;CCCC</td>\n",
       "      <td>C06142 = NA</td>\n",
       "      <td>None</td>\n",
       "    </tr>\n",
       "    <tr>\n",
       "      <th>51</th>\n",
       "      <td>CC#CCO&gt;&gt;CC#CC</td>\n",
       "      <td>None</td>\n",
       "      <td>None</td>\n",
       "    </tr>\n",
       "    <tr>\n",
       "      <th>53</th>\n",
       "      <td>CSCCCO&gt;&gt;CCCSC</td>\n",
       "      <td>None</td>\n",
       "      <td>None</td>\n",
       "    </tr>\n",
       "    <tr>\n",
       "      <th>54</th>\n",
       "      <td>OCCCCO&gt;&gt;CCCCO</td>\n",
       "      <td>NA = C06142</td>\n",
       "      <td>None</td>\n",
       "    </tr>\n",
       "    <tr>\n",
       "      <th>59</th>\n",
       "      <td>CCC(C)O&gt;&gt;CCCC</td>\n",
       "      <td>None</td>\n",
       "      <td>None</td>\n",
       "    </tr>\n",
       "  </tbody>\n",
       "</table>\n",
       "</div>"
      ],
      "text/plain": [
       "         Reaction      Kegg_ID KEGG_Rxn\n",
       "28    CCCCO>>CCCC  C06142 = NA     None\n",
       "51  CC#CCO>>CC#CC         None     None\n",
       "53  CSCCCO>>CCCSC         None     None\n",
       "54  OCCCCO>>CCCCO  NA = C06142     None\n",
       "59  CCC(C)O>>CCCC         None     None"
      ]
     },
     "execution_count": 389,
     "metadata": {},
     "output_type": "execute_result"
    }
   ],
   "source": [
    "redox_rxns_4C.head()"
   ]
  },
  {
   "cell_type": "code",
   "execution_count": 392,
   "metadata": {
    "collapsed": false,
    "scrolled": true
   },
   "outputs": [
    {
     "data": {
      "text/html": [
       "<div>\n",
       "<table border=\"1\" class=\"dataframe\">\n",
       "  <thead>\n",
       "    <tr style=\"text-align: right;\">\n",
       "      <th></th>\n",
       "      <th>Reaction</th>\n",
       "      <th>Kegg_ID</th>\n",
       "      <th>KEGG_Rxn</th>\n",
       "    </tr>\n",
       "  </thead>\n",
       "  <tbody>\n",
       "    <tr>\n",
       "      <th>28</th>\n",
       "      <td>CCCCO&gt;&gt;CCCC</td>\n",
       "      <td>C06142 = NA</td>\n",
       "      <td>None</td>\n",
       "    </tr>\n",
       "    <tr>\n",
       "      <th>51</th>\n",
       "      <td>CC#CCO&gt;&gt;CC#CC</td>\n",
       "      <td>None</td>\n",
       "      <td>None</td>\n",
       "    </tr>\n",
       "    <tr>\n",
       "      <th>53</th>\n",
       "      <td>CSCCCO&gt;&gt;CCCSC</td>\n",
       "      <td>None</td>\n",
       "      <td>None</td>\n",
       "    </tr>\n",
       "    <tr>\n",
       "      <th>54</th>\n",
       "      <td>OCCCCO&gt;&gt;CCCCO</td>\n",
       "      <td>NA = C06142</td>\n",
       "      <td>None</td>\n",
       "    </tr>\n",
       "    <tr>\n",
       "      <th>59</th>\n",
       "      <td>CCC(C)O&gt;&gt;CCCC</td>\n",
       "      <td>None</td>\n",
       "      <td>None</td>\n",
       "    </tr>\n",
       "  </tbody>\n",
       "</table>\n",
       "</div>"
      ],
      "text/plain": [
       "         Reaction      Kegg_ID KEGG_Rxn\n",
       "28    CCCCO>>CCCC  C06142 = NA     None\n",
       "51  CC#CCO>>CC#CC         None     None\n",
       "53  CSCCCO>>CCCSC         None     None\n",
       "54  OCCCCO>>CCCCO  NA = C06142     None\n",
       "59  CCC(C)O>>CCCC         None     None"
      ]
     },
     "execution_count": 392,
     "metadata": {},
     "output_type": "execute_result"
    }
   ],
   "source": [
    "redox_rxns_4C.head()"
   ]
  },
  {
   "cell_type": "code",
   "execution_count": 391,
   "metadata": {
    "collapsed": false,
    "scrolled": true
   },
   "outputs": [
    {
     "data": {
      "text/html": [
       "<div>\n",
       "<table border=\"1\" class=\"dataframe\">\n",
       "  <thead>\n",
       "    <tr style=\"text-align: right;\">\n",
       "      <th></th>\n",
       "      <th>Reaction</th>\n",
       "      <th>Kegg_ID</th>\n",
       "      <th>KEGG_Rxn</th>\n",
       "    </tr>\n",
       "  </thead>\n",
       "  <tbody>\n",
       "    <tr>\n",
       "      <th>28</th>\n",
       "      <td>CCCCO&gt;&gt;CCCC</td>\n",
       "      <td>C06142 = NA</td>\n",
       "      <td>None</td>\n",
       "    </tr>\n",
       "    <tr>\n",
       "      <th>54</th>\n",
       "      <td>OCCCCO&gt;&gt;CCCCO</td>\n",
       "      <td>NA = C06142</td>\n",
       "      <td>None</td>\n",
       "    </tr>\n",
       "    <tr>\n",
       "      <th>62</th>\n",
       "      <td>CCOCCO&gt;&gt;CCOCC</td>\n",
       "      <td>C14687 = C13240</td>\n",
       "      <td>None</td>\n",
       "    </tr>\n",
       "    <tr>\n",
       "      <th>71</th>\n",
       "      <td>CCSCCO&gt;&gt;CCSCC</td>\n",
       "      <td>NA = C02272</td>\n",
       "      <td>None</td>\n",
       "    </tr>\n",
       "    <tr>\n",
       "      <th>81</th>\n",
       "      <td>CCCC=O&gt;&gt;CCCCO</td>\n",
       "      <td>C01412 = C06142</td>\n",
       "      <td>C01412 + C00004 + C00080 &lt;=&gt; C06142 + C00003</td>\n",
       "    </tr>\n",
       "    <tr>\n",
       "      <th>85</th>\n",
       "      <td>C#CCCO&gt;&gt;C#CCC</td>\n",
       "      <td>C06146 = NA</td>\n",
       "      <td>None</td>\n",
       "    </tr>\n",
       "    <tr>\n",
       "      <th>98</th>\n",
       "      <td>O=CCCCO&gt;&gt;CCCC=O</td>\n",
       "      <td>NA = C01412</td>\n",
       "      <td>None</td>\n",
       "    </tr>\n",
       "    <tr>\n",
       "      <th>100</th>\n",
       "      <td>CC(O)CCO&gt;&gt;CCCCO</td>\n",
       "      <td>NA = C06142</td>\n",
       "      <td>None</td>\n",
       "    </tr>\n",
       "    <tr>\n",
       "      <th>101</th>\n",
       "      <td>CCOCC=O&gt;&gt;CCOCCO</td>\n",
       "      <td>NA = C14687</td>\n",
       "      <td>None</td>\n",
       "    </tr>\n",
       "    <tr>\n",
       "      <th>104</th>\n",
       "      <td>C#CCC=O&gt;&gt;C#CCCO</td>\n",
       "      <td>C06145 = C06146</td>\n",
       "      <td>None</td>\n",
       "    </tr>\n",
       "    <tr>\n",
       "      <th>106</th>\n",
       "      <td>CCNNCCO&gt;&gt;CCNNCC</td>\n",
       "      <td>NA = C19227</td>\n",
       "      <td>None</td>\n",
       "    </tr>\n",
       "    <tr>\n",
       "      <th>118</th>\n",
       "      <td>NCCCSCO&gt;&gt;CSCCCN</td>\n",
       "      <td>NA = C03354</td>\n",
       "      <td>None</td>\n",
       "    </tr>\n",
       "    <tr>\n",
       "      <th>119</th>\n",
       "      <td>OCC#CCO&gt;&gt;CC#CCO</td>\n",
       "      <td>C02497 = NA</td>\n",
       "      <td>None</td>\n",
       "    </tr>\n",
       "    <tr>\n",
       "      <th>140</th>\n",
       "      <td>NCCCC=O&gt;&gt;NCCCCO</td>\n",
       "      <td>C02903 = NA</td>\n",
       "      <td>None</td>\n",
       "    </tr>\n",
       "    <tr>\n",
       "      <th>159</th>\n",
       "      <td>OCCOCCO&gt;&gt;CCOCCO</td>\n",
       "      <td>C14689 = C14687</td>\n",
       "      <td>None</td>\n",
       "    </tr>\n",
       "    <tr>\n",
       "      <th>163</th>\n",
       "      <td>OCCNCCO&gt;&gt;CCNCCO</td>\n",
       "      <td>C06772 = NA</td>\n",
       "      <td>None</td>\n",
       "    </tr>\n",
       "    <tr>\n",
       "      <th>168</th>\n",
       "      <td>CCC(O)CO&gt;&gt;CCCCO</td>\n",
       "      <td>NA = C06142</td>\n",
       "      <td>None</td>\n",
       "    </tr>\n",
       "    <tr>\n",
       "      <th>170</th>\n",
       "      <td>CC(C)CO&gt;&gt;CC(C)C</td>\n",
       "      <td>C14710 = NA</td>\n",
       "      <td>None</td>\n",
       "    </tr>\n",
       "    <tr>\n",
       "      <th>179</th>\n",
       "      <td>CCCC(=O)O&gt;&gt;CCCC=O</td>\n",
       "      <td>C00246 = C01412</td>\n",
       "      <td>None</td>\n",
       "    </tr>\n",
       "    <tr>\n",
       "      <th>182</th>\n",
       "      <td>CC(N)CCO&gt;&gt;CCC(C)N</td>\n",
       "      <td>NA = C18706</td>\n",
       "      <td>None</td>\n",
       "    </tr>\n",
       "    <tr>\n",
       "      <th>189</th>\n",
       "      <td>CC(CO)CO&gt;&gt;CC(C)CO</td>\n",
       "      <td>NA = C14710</td>\n",
       "      <td>None</td>\n",
       "    </tr>\n",
       "    <tr>\n",
       "      <th>202</th>\n",
       "      <td>C/C=C/C=O&gt;&gt;CC=CCO</td>\n",
       "      <td>C19377 = NA</td>\n",
       "      <td>None</td>\n",
       "    </tr>\n",
       "    <tr>\n",
       "      <th>221</th>\n",
       "      <td>C#CC(O)CO&gt;&gt;C#CCCO</td>\n",
       "      <td>NA = C06146</td>\n",
       "      <td>None</td>\n",
       "    </tr>\n",
       "    <tr>\n",
       "      <th>233</th>\n",
       "      <td>CCC(C)=O&gt;&gt;CCC(C)O</td>\n",
       "      <td>C02845 = NA</td>\n",
       "      <td>None</td>\n",
       "    </tr>\n",
       "    <tr>\n",
       "      <th>234</th>\n",
       "      <td>O=CCOCCO&gt;&gt;OCCOCCO</td>\n",
       "      <td>NA = C14689</td>\n",
       "      <td>None</td>\n",
       "    </tr>\n",
       "    <tr>\n",
       "      <th>244</th>\n",
       "      <td>CCC(O)C=O&gt;&gt;CCCC=O</td>\n",
       "      <td>NA = C01412</td>\n",
       "      <td>None</td>\n",
       "    </tr>\n",
       "    <tr>\n",
       "      <th>250</th>\n",
       "      <td>O=CC#CCO&gt;&gt;CC#CC=O</td>\n",
       "      <td>C02648 = NA</td>\n",
       "      <td>None</td>\n",
       "    </tr>\n",
       "    <tr>\n",
       "      <th>252</th>\n",
       "      <td>Oc1ccoc1&gt;&gt;c1ccoc1</td>\n",
       "      <td>NA = C14275</td>\n",
       "      <td>None</td>\n",
       "    </tr>\n",
       "    <tr>\n",
       "      <th>254</th>\n",
       "      <td>OCCN1CC1&gt;&gt;CCN1CC1</td>\n",
       "      <td>C19332 = NA</td>\n",
       "      <td>None</td>\n",
       "    </tr>\n",
       "    <tr>\n",
       "      <th>258</th>\n",
       "      <td>CSCC(O)CN&gt;&gt;CSCCCN</td>\n",
       "      <td>NA = C03354</td>\n",
       "      <td>None</td>\n",
       "    </tr>\n",
       "    <tr>\n",
       "      <th>...</th>\n",
       "      <td>...</td>\n",
       "      <td>...</td>\n",
       "      <td>...</td>\n",
       "    </tr>\n",
       "    <tr>\n",
       "      <th>402092</th>\n",
       "      <td>O=CC(=O)C(O)COP(=O)(O)O&gt;&gt;O=C[C@H](O)[C@H](O)CO...</td>\n",
       "      <td>NA = C00279</td>\n",
       "      <td>None</td>\n",
       "    </tr>\n",
       "    <tr>\n",
       "      <th>416084</th>\n",
       "      <td>N[C@H](C(=O)O)C(=O)COP(=O)(O)O&gt;&gt;NC(C=O)C(=O)CO...</td>\n",
       "      <td>C07335 = NA</td>\n",
       "      <td>None</td>\n",
       "    </tr>\n",
       "    <tr>\n",
       "      <th>421576</th>\n",
       "      <td>N[C@@H](CC(=O)OP(=O)(O)O)C(=O)O&gt;&gt;NC(C=O)CC(=O)...</td>\n",
       "      <td>C03082 = NA</td>\n",
       "      <td>None</td>\n",
       "    </tr>\n",
       "    <tr>\n",
       "      <th>421583</th>\n",
       "      <td>O=CC(O)C(=O)COP(=O)(O)O&gt;&gt;O=C[C@@H](O)[C@H](O)C...</td>\n",
       "      <td>NA = C03109</td>\n",
       "      <td>None</td>\n",
       "    </tr>\n",
       "    <tr>\n",
       "      <th>421723</th>\n",
       "      <td>C[C@@H](OP(=O)(O)O)[C@H](N)C(=O)O&gt;&gt;CC(OP(=O)(O...</td>\n",
       "      <td>C12147 = NA</td>\n",
       "      <td>None</td>\n",
       "    </tr>\n",
       "    <tr>\n",
       "      <th>421740</th>\n",
       "      <td>O=CC(=O)C(O)COP(=O)(O)O&gt;&gt;O=C[C@@H](O)[C@H](O)C...</td>\n",
       "      <td>NA = C03109</td>\n",
       "      <td>None</td>\n",
       "    </tr>\n",
       "    <tr>\n",
       "      <th>447084</th>\n",
       "      <td>N[C@H](C(=O)O)[C@H](O)COP(=O)(O)O&gt;&gt;NC(CCOP(=O)...</td>\n",
       "      <td>C06055 = C05702</td>\n",
       "      <td>None</td>\n",
       "    </tr>\n",
       "    <tr>\n",
       "      <th>453967</th>\n",
       "      <td>O=C(O)[C@H](O)[C@H](O)COP(=O)(O)O&gt;&gt;O=C(O)CC(O)...</td>\n",
       "      <td>C03393 = NA</td>\n",
       "      <td>None</td>\n",
       "    </tr>\n",
       "    <tr>\n",
       "      <th>475828</th>\n",
       "      <td>N[C@H](C(=O)O)[C@H](O)COP(=O)(O)O&gt;&gt;NC(C=O)C(O)...</td>\n",
       "      <td>C06055 = NA</td>\n",
       "      <td>None</td>\n",
       "    </tr>\n",
       "    <tr>\n",
       "      <th>479849</th>\n",
       "      <td>O=C(O)[C@H](O)[C@H](O)COP(=O)(O)O&gt;&gt;O=C(O)C(O)C...</td>\n",
       "      <td>C03393 = NA</td>\n",
       "      <td>None</td>\n",
       "    </tr>\n",
       "    <tr>\n",
       "      <th>495921</th>\n",
       "      <td>O=C(O)C(=O)[C@H](O)COP(=O)(O)O&gt;&gt;O=C(O)C(O)C(O)...</td>\n",
       "      <td>C06054 = NA</td>\n",
       "      <td>None</td>\n",
       "    </tr>\n",
       "    <tr>\n",
       "      <th>497125</th>\n",
       "      <td>N[C@H](C(=O)O)C(=O)COP(=O)(O)O&gt;&gt;NC(C(=O)O)C(O)...</td>\n",
       "      <td>C07335 = NA</td>\n",
       "      <td>None</td>\n",
       "    </tr>\n",
       "    <tr>\n",
       "      <th>497970</th>\n",
       "      <td>O=C(O)[C@H](O)[C@H](O)COP(=O)(O)O&gt;&gt;O=CC(O)C(O)...</td>\n",
       "      <td>C03393 = NA</td>\n",
       "      <td>None</td>\n",
       "    </tr>\n",
       "    <tr>\n",
       "      <th>504555</th>\n",
       "      <td>O=C(O)C(O)C(O)COP(=O)(O)O&gt;&gt;O=C[C@H](O)[C@H](O)...</td>\n",
       "      <td>NA = C00279</td>\n",
       "      <td>None</td>\n",
       "    </tr>\n",
       "    <tr>\n",
       "      <th>505483</th>\n",
       "      <td>O=C(O)C(O)C(O)COP(=O)(O)O&gt;&gt;O=C[C@@H](O)[C@H](O...</td>\n",
       "      <td>NA = C03109</td>\n",
       "      <td>None</td>\n",
       "    </tr>\n",
       "    <tr>\n",
       "      <th>505539</th>\n",
       "      <td>O=C(O)[C@H](O)[C@@H](CO)OP(=O)(O)O&gt;&gt;O=CC(O)C(C...</td>\n",
       "      <td>C03356 = NA</td>\n",
       "      <td>None</td>\n",
       "    </tr>\n",
       "    <tr>\n",
       "      <th>505617</th>\n",
       "      <td>O=C(O)[C@H](O)[C@@H](CO)OP(=O)(O)O&gt;&gt;O=C(O)CC(C...</td>\n",
       "      <td>C03356 = NA</td>\n",
       "      <td>None</td>\n",
       "    </tr>\n",
       "    <tr>\n",
       "      <th>536663</th>\n",
       "      <td>O=C(O)C(=O)C(=O)COP(=O)(O)O&gt;&gt;O=C(O)C(=O)[C@H](...</td>\n",
       "      <td>NA = C06054</td>\n",
       "      <td>None</td>\n",
       "    </tr>\n",
       "    <tr>\n",
       "      <th>560820</th>\n",
       "      <td>O=C(O)CN(CP(=O)(O)O)CP(=O)(O)O&gt;&gt;O=CCN(CP(=O)(O...</td>\n",
       "      <td>C19132 = NA</td>\n",
       "      <td>None</td>\n",
       "    </tr>\n",
       "    <tr>\n",
       "      <th>597195</th>\n",
       "      <td>NC(C(=O)O)C(CO)OP(=O)(O)O&gt;&gt;C[C@@H](OP(=O)(O)O)...</td>\n",
       "      <td>NA = C12147</td>\n",
       "      <td>None</td>\n",
       "    </tr>\n",
       "    <tr>\n",
       "      <th>597199</th>\n",
       "      <td>O=C(O)[C@H](O)[C@@H](CO)OP(=O)(O)O&gt;&gt;CC(OP(=O)(...</td>\n",
       "      <td>C03356 = NA</td>\n",
       "      <td>None</td>\n",
       "    </tr>\n",
       "    <tr>\n",
       "      <th>599577</th>\n",
       "      <td>NC(C(=O)O)C(=O)COP(=O)(O)O&gt;&gt;N[C@H](C(=O)O)[C@H...</td>\n",
       "      <td>NA = C06055</td>\n",
       "      <td>None</td>\n",
       "    </tr>\n",
       "    <tr>\n",
       "      <th>601224</th>\n",
       "      <td>O=C(O)C(O)C(=O)COP(=O)(O)O&gt;&gt;O=C(O)[C@H](O)[C@H...</td>\n",
       "      <td>NA = C03393</td>\n",
       "      <td>None</td>\n",
       "    </tr>\n",
       "    <tr>\n",
       "      <th>612660</th>\n",
       "      <td>NCC(O)CC(O)(P(=O)(O)O)P(=O)(O)O&gt;&gt;NCCCC(O)(P(=O...</td>\n",
       "      <td>NA = C07752</td>\n",
       "      <td>None</td>\n",
       "    </tr>\n",
       "    <tr>\n",
       "      <th>615045</th>\n",
       "      <td>N=C(NCCOP(=O)(O)OCO)NP(=O)(O)O&gt;&gt;COP(=O)(O)OCCN...</td>\n",
       "      <td>NA = C04503</td>\n",
       "      <td>None</td>\n",
       "    </tr>\n",
       "    <tr>\n",
       "      <th>666285</th>\n",
       "      <td>O=C(O)C(=O)C(O)COP(=O)(O)O&gt;&gt;O=C(O)[C@H](O)[C@H...</td>\n",
       "      <td>NA = C03393</td>\n",
       "      <td>None</td>\n",
       "    </tr>\n",
       "    <tr>\n",
       "      <th>671955</th>\n",
       "      <td>NCCC(O)C(O)(P(=O)(O)O)P(=O)(O)O&gt;&gt;NCCCC(O)(P(=O...</td>\n",
       "      <td>NA = C07752</td>\n",
       "      <td>None</td>\n",
       "    </tr>\n",
       "    <tr>\n",
       "      <th>694747</th>\n",
       "      <td>NC(C(=O)O)C(O)C(=O)OP(=O)(O)O&gt;&gt;N[C@@H](CC(=O)O...</td>\n",
       "      <td>NA = C03082</td>\n",
       "      <td>None</td>\n",
       "    </tr>\n",
       "    <tr>\n",
       "      <th>694868</th>\n",
       "      <td>O=CC(OP(=O)(O)O)C(O)C(=O)O&gt;&gt;O=C(O)[C@H](O)[C@@...</td>\n",
       "      <td>NA = C03356</td>\n",
       "      <td>None</td>\n",
       "    </tr>\n",
       "    <tr>\n",
       "      <th>694890</th>\n",
       "      <td>O=C(O)C(=O)C(CO)OP(=O)(O)O&gt;&gt;O=C(O)[C@H](O)[C@@...</td>\n",
       "      <td>NA = C03356</td>\n",
       "      <td>None</td>\n",
       "    </tr>\n",
       "  </tbody>\n",
       "</table>\n",
       "<p>562 rows × 3 columns</p>\n",
       "</div>"
      ],
      "text/plain": [
       "                                                 Reaction          Kegg_ID  \\\n",
       "28                                            CCCCO>>CCCC      C06142 = NA   \n",
       "54                                          OCCCCO>>CCCCO      NA = C06142   \n",
       "62                                          CCOCCO>>CCOCC  C14687 = C13240   \n",
       "71                                          CCSCCO>>CCSCC      NA = C02272   \n",
       "81                                          CCCC=O>>CCCCO  C01412 = C06142   \n",
       "85                                          C#CCCO>>C#CCC      C06146 = NA   \n",
       "98                                        O=CCCCO>>CCCC=O      NA = C01412   \n",
       "100                                       CC(O)CCO>>CCCCO      NA = C06142   \n",
       "101                                       CCOCC=O>>CCOCCO      NA = C14687   \n",
       "104                                       C#CCC=O>>C#CCCO  C06145 = C06146   \n",
       "106                                       CCNNCCO>>CCNNCC      NA = C19227   \n",
       "118                                       NCCCSCO>>CSCCCN      NA = C03354   \n",
       "119                                       OCC#CCO>>CC#CCO      C02497 = NA   \n",
       "140                                       NCCCC=O>>NCCCCO      C02903 = NA   \n",
       "159                                       OCCOCCO>>CCOCCO  C14689 = C14687   \n",
       "163                                       OCCNCCO>>CCNCCO      C06772 = NA   \n",
       "168                                       CCC(O)CO>>CCCCO      NA = C06142   \n",
       "170                                       CC(C)CO>>CC(C)C      C14710 = NA   \n",
       "179                                     CCCC(=O)O>>CCCC=O  C00246 = C01412   \n",
       "182                                     CC(N)CCO>>CCC(C)N      NA = C18706   \n",
       "189                                     CC(CO)CO>>CC(C)CO      NA = C14710   \n",
       "202                                     C/C=C/C=O>>CC=CCO      C19377 = NA   \n",
       "221                                     C#CC(O)CO>>C#CCCO      NA = C06146   \n",
       "233                                     CCC(C)=O>>CCC(C)O      C02845 = NA   \n",
       "234                                     O=CCOCCO>>OCCOCCO      NA = C14689   \n",
       "244                                     CCC(O)C=O>>CCCC=O      NA = C01412   \n",
       "250                                     O=CC#CCO>>CC#CC=O      C02648 = NA   \n",
       "252                                     Oc1ccoc1>>c1ccoc1      NA = C14275   \n",
       "254                                     OCCN1CC1>>CCN1CC1      C19332 = NA   \n",
       "258                                     CSCC(O)CN>>CSCCCN      NA = C03354   \n",
       "...                                                   ...              ...   \n",
       "402092  O=CC(=O)C(O)COP(=O)(O)O>>O=C[C@H](O)[C@H](O)CO...      NA = C00279   \n",
       "416084  N[C@H](C(=O)O)C(=O)COP(=O)(O)O>>NC(C=O)C(=O)CO...      C07335 = NA   \n",
       "421576  N[C@@H](CC(=O)OP(=O)(O)O)C(=O)O>>NC(C=O)CC(=O)...      C03082 = NA   \n",
       "421583  O=CC(O)C(=O)COP(=O)(O)O>>O=C[C@@H](O)[C@H](O)C...      NA = C03109   \n",
       "421723  C[C@@H](OP(=O)(O)O)[C@H](N)C(=O)O>>CC(OP(=O)(O...      C12147 = NA   \n",
       "421740  O=CC(=O)C(O)COP(=O)(O)O>>O=C[C@@H](O)[C@H](O)C...      NA = C03109   \n",
       "447084  N[C@H](C(=O)O)[C@H](O)COP(=O)(O)O>>NC(CCOP(=O)...  C06055 = C05702   \n",
       "453967  O=C(O)[C@H](O)[C@H](O)COP(=O)(O)O>>O=C(O)CC(O)...      C03393 = NA   \n",
       "475828  N[C@H](C(=O)O)[C@H](O)COP(=O)(O)O>>NC(C=O)C(O)...      C06055 = NA   \n",
       "479849  O=C(O)[C@H](O)[C@H](O)COP(=O)(O)O>>O=C(O)C(O)C...      C03393 = NA   \n",
       "495921  O=C(O)C(=O)[C@H](O)COP(=O)(O)O>>O=C(O)C(O)C(O)...      C06054 = NA   \n",
       "497125  N[C@H](C(=O)O)C(=O)COP(=O)(O)O>>NC(C(=O)O)C(O)...      C07335 = NA   \n",
       "497970  O=C(O)[C@H](O)[C@H](O)COP(=O)(O)O>>O=CC(O)C(O)...      C03393 = NA   \n",
       "504555  O=C(O)C(O)C(O)COP(=O)(O)O>>O=C[C@H](O)[C@H](O)...      NA = C00279   \n",
       "505483  O=C(O)C(O)C(O)COP(=O)(O)O>>O=C[C@@H](O)[C@H](O...      NA = C03109   \n",
       "505539  O=C(O)[C@H](O)[C@@H](CO)OP(=O)(O)O>>O=CC(O)C(C...      C03356 = NA   \n",
       "505617  O=C(O)[C@H](O)[C@@H](CO)OP(=O)(O)O>>O=C(O)CC(C...      C03356 = NA   \n",
       "536663  O=C(O)C(=O)C(=O)COP(=O)(O)O>>O=C(O)C(=O)[C@H](...      NA = C06054   \n",
       "560820  O=C(O)CN(CP(=O)(O)O)CP(=O)(O)O>>O=CCN(CP(=O)(O...      C19132 = NA   \n",
       "597195  NC(C(=O)O)C(CO)OP(=O)(O)O>>C[C@@H](OP(=O)(O)O)...      NA = C12147   \n",
       "597199  O=C(O)[C@H](O)[C@@H](CO)OP(=O)(O)O>>CC(OP(=O)(...      C03356 = NA   \n",
       "599577  NC(C(=O)O)C(=O)COP(=O)(O)O>>N[C@H](C(=O)O)[C@H...      NA = C06055   \n",
       "601224  O=C(O)C(O)C(=O)COP(=O)(O)O>>O=C(O)[C@H](O)[C@H...      NA = C03393   \n",
       "612660  NCC(O)CC(O)(P(=O)(O)O)P(=O)(O)O>>NCCCC(O)(P(=O...      NA = C07752   \n",
       "615045  N=C(NCCOP(=O)(O)OCO)NP(=O)(O)O>>COP(=O)(O)OCCN...      NA = C04503   \n",
       "666285  O=C(O)C(=O)C(O)COP(=O)(O)O>>O=C(O)[C@H](O)[C@H...      NA = C03393   \n",
       "671955  NCCC(O)C(O)(P(=O)(O)O)P(=O)(O)O>>NCCCC(O)(P(=O...      NA = C07752   \n",
       "694747  NC(C(=O)O)C(O)C(=O)OP(=O)(O)O>>N[C@@H](CC(=O)O...      NA = C03082   \n",
       "694868  O=CC(OP(=O)(O)O)C(O)C(=O)O>>O=C(O)[C@H](O)[C@@...      NA = C03356   \n",
       "694890  O=C(O)C(=O)C(CO)OP(=O)(O)O>>O=C(O)[C@H](O)[C@@...      NA = C03356   \n",
       "\n",
       "                                            KEGG_Rxn  \n",
       "28                                              None  \n",
       "54                                              None  \n",
       "62                                              None  \n",
       "71                                              None  \n",
       "81      C01412 + C00004 + C00080 <=> C06142 + C00003  \n",
       "85                                              None  \n",
       "98                                              None  \n",
       "100                                             None  \n",
       "101                                             None  \n",
       "104                                             None  \n",
       "106                                             None  \n",
       "118                                             None  \n",
       "119                                             None  \n",
       "140                                             None  \n",
       "159                                             None  \n",
       "163                                             None  \n",
       "168                                             None  \n",
       "170                                             None  \n",
       "179                                             None  \n",
       "182                                             None  \n",
       "189                                             None  \n",
       "202                                             None  \n",
       "221                                             None  \n",
       "233                                             None  \n",
       "234                                             None  \n",
       "244                                             None  \n",
       "250                                             None  \n",
       "252                                             None  \n",
       "254                                             None  \n",
       "258                                             None  \n",
       "...                                              ...  \n",
       "402092                                          None  \n",
       "416084                                          None  \n",
       "421576                                          None  \n",
       "421583                                          None  \n",
       "421723                                          None  \n",
       "421740                                          None  \n",
       "447084                                          None  \n",
       "453967                                          None  \n",
       "475828                                          None  \n",
       "479849                                          None  \n",
       "495921                                          None  \n",
       "497125                                          None  \n",
       "497970                                          None  \n",
       "504555                                          None  \n",
       "505483                                          None  \n",
       "505539                                          None  \n",
       "505617                                          None  \n",
       "536663                                          None  \n",
       "560820                                          None  \n",
       "597195                                          None  \n",
       "597199                                          None  \n",
       "599577                                          None  \n",
       "601224                                          None  \n",
       "612660                                          None  \n",
       "615045                                          None  \n",
       "666285                                          None  \n",
       "671955                                          None  \n",
       "694747                                          None  \n",
       "694868                                          None  \n",
       "694890                                          None  \n",
       "\n",
       "[562 rows x 3 columns]"
      ]
     },
     "execution_count": 391,
     "metadata": {},
     "output_type": "execute_result"
    }
   ],
   "source": [
    "redox_rxns_4C[redox_rxns_4C.Kegg_ID != 'None']"
   ]
  },
  {
   "cell_type": "markdown",
   "metadata": {},
   "source": [
    "## Visualizations"
   ]
  },
  {
   "cell_type": "code",
   "execution_count": 200,
   "metadata": {
    "collapsed": false,
    "scrolled": true
   },
   "outputs": [
    {
     "name": "stdout",
     "output_type": "stream",
     "text": [
      "O=CC(O)C(O)C(O)(P(=O)(O)O)P(=O)(O)O>>O=CCC(O)C(O)(P(=O)(O)O)P(=O)(O)O\n"
     ]
    },
    {
     "data": {
      "image/png": "[encoded data removed]",
      "text/plain": [
       "<rdkit.Chem.rdChemReactions.ChemicalReaction at 0x7ff7a19c7830>"
      ]
     },
     "metadata": {},
     "output_type": "display_data"
    },
    {
     "name": "stdout",
     "output_type": "stream",
     "text": [
      "O=C(O)C(O)CC(O)(P(=O)(O)O)P(=O)(O)O>>O=CC(O)CC(O)(P(=O)(O)O)P(=O)(O)O\n"
     ]
    },
    {
     "data": {
      "image/png": "[encoded data removed]",
      "text/plain": [
       "<rdkit.Chem.rdChemReactions.ChemicalReaction at 0x7ff7a19c7830>"
      ]
     },
     "metadata": {},
     "output_type": "display_data"
    },
    {
     "name": "stdout",
     "output_type": "stream",
     "text": [
      "NCC(=O)C(O)C(O)(P(=O)(O)O)P(=O)(O)O>>NCC(=O)CC(O)(P(=O)(O)O)P(=O)(O)O\n"
     ]
    },
    {
     "data": {
      "image/png": "[encoded data removed]",
      "text/plain": [
       "<rdkit.Chem.rdChemReactions.ChemicalReaction at 0x7ff7a19c7830>"
      ]
     },
     "metadata": {},
     "output_type": "display_data"
    },
    {
     "name": "stdout",
     "output_type": "stream",
     "text": [
      "O=CC(O)C(O)C(O)(P(=O)(O)O)P(=O)(O)O>>O=CC(O)CC(O)(P(=O)(O)O)P(=O)(O)O\n"
     ]
    },
    {
     "data": {
      "image/png": "[encoded data removed]",
      "text/plain": [
       "<rdkit.Chem.rdChemReactions.ChemicalReaction at 0x7ff7a19c7830>"
      ]
     },
     "metadata": {},
     "output_type": "display_data"
    },
    {
     "name": "stdout",
     "output_type": "stream",
     "text": [
      "NCC(O)C(=O)C(O)(P(=O)(O)O)P(=O)(O)O>>NCCC(=O)C(O)(P(=O)(O)O)P(=O)(O)O\n"
     ]
    },
    {
     "data": {
      "image/png": "[encoded data removed]",
      "text/plain": [
       "<rdkit.Chem.rdChemReactions.ChemicalReaction at 0x7ff7a19c7830>"
      ]
     },
     "metadata": {},
     "output_type": "display_data"
    },
    {
     "name": "stdout",
     "output_type": "stream",
     "text": [
      "O=C(O)C(O)CC(O)(P(=O)(O)O)P(=O)(O)O>>O=C(O)CCC(O)(P(=O)(O)O)P(=O)(O)O\n"
     ]
    },
    {
     "data": {
      "image/png": "[encoded data removed]",
      "text/plain": [
       "<rdkit.Chem.rdChemReactions.ChemicalReaction at 0x7ff7a19c7830>"
      ]
     },
     "metadata": {},
     "output_type": "display_data"
    },
    {
     "name": "stdout",
     "output_type": "stream",
     "text": [
      "O=C(O)CC(O)C(O)(P(=O)(O)O)P(=O)(O)O>>O=CCC(O)C(O)(P(=O)(O)O)P(=O)(O)O\n"
     ]
    },
    {
     "data": {
      "image/png": "[encoded data removed]",
      "text/plain": [
       "<rdkit.Chem.rdChemReactions.ChemicalReaction at 0x7ff7a19c7830>"
      ]
     },
     "metadata": {},
     "output_type": "display_data"
    },
    {
     "name": "stdout",
     "output_type": "stream",
     "text": [
      "NCC(O)C(=O)C(O)(P(=O)(O)O)P(=O)(O)O>>NCC(O)C(O)C(O)(P(=O)(O)O)P(=O)(O)O\n"
     ]
    },
    {
     "data": {
      "image/png": "[encoded data removed]",
      "text/plain": [
       "<rdkit.Chem.rdChemReactions.ChemicalReaction at 0x7ff7a19c7830>"
      ]
     },
     "metadata": {},
     "output_type": "display_data"
    },
    {
     "name": "stdout",
     "output_type": "stream",
     "text": [
      "O=CC(=O)C(O)C(O)(P(=O)(O)O)P(=O)(O)O>>O=CC(=O)CC(O)(P(=O)(O)O)P(=O)(O)O\n"
     ]
    },
    {
     "data": {
      "image/png": "[encoded data removed]",
      "text/plain": [
       "<rdkit.Chem.rdChemReactions.ChemicalReaction at 0x7ff7a19c7830>"
      ]
     },
     "metadata": {},
     "output_type": "display_data"
    },
    {
     "name": "stdout",
     "output_type": "stream",
     "text": [
      "O=CC(O)C(=O)C(O)(P(=O)(O)O)P(=O)(O)O>>O=CCC(=O)C(O)(P(=O)(O)O)P(=O)(O)O\n"
     ]
    },
    {
     "data": {
      "image/png": "[encoded data removed]",
      "text/plain": [
       "<rdkit.Chem.rdChemReactions.ChemicalReaction at 0x7ff7a19c7830>"
      ]
     },
     "metadata": {},
     "output_type": "display_data"
    },
    {
     "name": "stdout",
     "output_type": "stream",
     "text": [
      "NCC(=O)C(O)C(O)(P(=O)(O)O)P(=O)(O)O>>NCC(O)C(O)C(O)(P(=O)(O)O)P(=O)(O)O\n"
     ]
    },
    {
     "data": {
      "image/png": "[encoded data removed]",
      "text/plain": [
       "<rdkit.Chem.rdChemReactions.ChemicalReaction at 0x7ff7a19c7830>"
      ]
     },
     "metadata": {},
     "output_type": "display_data"
    },
    {
     "name": "stdout",
     "output_type": "stream",
     "text": [
      "O=C(O)C(=O)CC(O)(P(=O)(O)O)P(=O)(O)O>>O=CC(=O)CC(O)(P(=O)(O)O)P(=O)(O)O\n"
     ]
    },
    {
     "data": {
      "image/png": "[encoded data removed]",
      "text/plain": [
       "<rdkit.Chem.rdChemReactions.ChemicalReaction at 0x7ff7a19c7830>"
      ]
     },
     "metadata": {},
     "output_type": "display_data"
    },
    {
     "name": "stdout",
     "output_type": "stream",
     "text": [
      "O=C(O)CC(=O)C(O)(P(=O)(O)O)P(=O)(O)O>>O=CCC(=O)C(O)(P(=O)(O)O)P(=O)(O)O\n"
     ]
    },
    {
     "data": {
      "image/png": "[encoded data removed]",
      "text/plain": [
       "<rdkit.Chem.rdChemReactions.ChemicalReaction at 0x7ff7a19c7830>"
      ]
     },
     "metadata": {},
     "output_type": "display_data"
    },
    {
     "name": "stdout",
     "output_type": "stream",
     "text": [
      "NCC(=O)C(=O)C(O)(P(=O)(O)O)P(=O)(O)O>>NCC(O)C(=O)C(O)(P(=O)(O)O)P(=O)(O)O\n"
     ]
    },
    {
     "data": {
      "image/png": "[encoded data removed]",
      "text/plain": [
       "<rdkit.Chem.rdChemReactions.ChemicalReaction at 0x7ff7a19c7830>"
      ]
     },
     "metadata": {},
     "output_type": "display_data"
    },
    {
     "name": "stdout",
     "output_type": "stream",
     "text": [
      "O=CC(O)C(=O)C(O)(P(=O)(O)O)P(=O)(O)O>>O=CC(O)C(O)C(O)(P(=O)(O)O)P(=O)(O)O\n"
     ]
    },
    {
     "data": {
      "image/png": "[encoded data removed]",
      "text/plain": [
       "<rdkit.Chem.rdChemReactions.ChemicalReaction at 0x7ff7a19c7830>"
      ]
     },
     "metadata": {},
     "output_type": "display_data"
    },
    {
     "name": "stdout",
     "output_type": "stream",
     "text": [
      "O=C(O)C(=O)CC(O)(P(=O)(O)O)P(=O)(O)O>>O=C(O)C(O)CC(O)(P(=O)(O)O)P(=O)(O)O\n"
     ]
    },
    {
     "data": {
      "image/png": "[encoded data removed]",
      "text/plain": [
       "<rdkit.Chem.rdChemReactions.ChemicalReaction at 0x7ff7a19c7830>"
      ]
     },
     "metadata": {},
     "output_type": "display_data"
    },
    {
     "name": "stdout",
     "output_type": "stream",
     "text": [
      "O=CC(=O)C(O)C(O)(P(=O)(O)O)P(=O)(O)O>>O=CC(O)C(O)C(O)(P(=O)(O)O)P(=O)(O)O\n"
     ]
    },
    {
     "data": {
      "image/png": "[encoded data removed]",
      "text/plain": [
       "<rdkit.Chem.rdChemReactions.ChemicalReaction at 0x7ff7a19c7830>"
      ]
     },
     "metadata": {},
     "output_type": "display_data"
    },
    {
     "name": "stdout",
     "output_type": "stream",
     "text": [
      "O=C(O)CC(=O)C(O)(P(=O)(O)O)P(=O)(O)O>>O=C(O)CC(O)C(O)(P(=O)(O)O)P(=O)(O)O\n"
     ]
    },
    {
     "data": {
      "image/png": "[encoded data removed]",
      "text/plain": [
       "<rdkit.Chem.rdChemReactions.ChemicalReaction at 0x7ff7a19c7830>"
      ]
     },
     "metadata": {},
     "output_type": "display_data"
    },
    {
     "name": "stdout",
     "output_type": "stream",
     "text": [
      "NCC(=O)C(=O)C(O)(P(=O)(O)O)P(=O)(O)O>>NCC(=O)C(O)C(O)(P(=O)(O)O)P(=O)(O)O\n"
     ]
    },
    {
     "data": {
      "image/png": "[encoded data removed]",
      "text/plain": [
       "<rdkit.Chem.rdChemReactions.ChemicalReaction at 0x7ff7a19c7830>"
      ]
     },
     "metadata": {},
     "output_type": "display_data"
    },
    {
     "name": "stdout",
     "output_type": "stream",
     "text": [
      "O=CC(=O)C(=O)C(O)(P(=O)(O)O)P(=O)(O)O>>O=CC(=O)C(O)C(O)(P(=O)(O)O)P(=O)(O)O\n"
     ]
    },
    {
     "data": {
      "image/png": "[encoded data removed]",
      "text/plain": [
       "<rdkit.Chem.rdChemReactions.ChemicalReaction at 0x7ff7a19c7830>"
      ]
     },
     "metadata": {},
     "output_type": "display_data"
    },
    {
     "name": "stdout",
     "output_type": "stream",
     "text": [
      "O=CC(=O)C(=O)C(O)(P(=O)(O)O)P(=O)(O)O>>O=CC(O)C(=O)C(O)(P(=O)(O)O)P(=O)(O)O\n"
     ]
    },
    {
     "data": {
      "image/png": "[encoded data removed]",
      "text/plain": [
       "<rdkit.Chem.rdChemReactions.ChemicalReaction at 0x7ff7a19c7830>"
      ]
     },
     "metadata": {},
     "output_type": "display_data"
    },
    {
     "name": "stdout",
     "output_type": "stream",
     "text": [
      "O=C(O)C(O)C(O)C(O)(P(=O)(O)O)P(=O)(O)O>>O=C(O)CC(O)C(O)(P(=O)(O)O)P(=O)(O)O\n"
     ]
    },
    {
     "data": {
      "image/png": "[encoded data removed]",
      "text/plain": [
       "<rdkit.Chem.rdChemReactions.ChemicalReaction at 0x7ff7a19c7830>"
      ]
     },
     "metadata": {},
     "output_type": "display_data"
    },
    {
     "name": "stdout",
     "output_type": "stream",
     "text": [
      "O=C(O)C(O)C(O)C(O)(P(=O)(O)O)P(=O)(O)O>>O=C(O)C(O)CC(O)(P(=O)(O)O)P(=O)(O)O\n"
     ]
    },
    {
     "data": {
      "image/png": "[encoded data removed]",
      "text/plain": [
       "<rdkit.Chem.rdChemReactions.ChemicalReaction at 0x7ff7a19c7830>"
      ]
     },
     "metadata": {},
     "output_type": "display_data"
    },
    {
     "name": "stdout",
     "output_type": "stream",
     "text": [
      "O=C(O)C(O)C(O)C(O)(P(=O)(O)O)P(=O)(O)O>>O=CC(O)C(O)C(O)(P(=O)(O)O)P(=O)(O)O\n"
     ]
    },
    {
     "data": {
      "image/png": "[encoded data removed]",
      "text/plain": [
       "<rdkit.Chem.rdChemReactions.ChemicalReaction at 0x7ff7a19c7830>"
      ]
     },
     "metadata": {},
     "output_type": "display_data"
    },
    {
     "name": "stdout",
     "output_type": "stream",
     "text": [
      "O=C(O)C(O)C(=O)C(O)(P(=O)(O)O)P(=O)(O)O>>O=C(O)CC(=O)C(O)(P(=O)(O)O)P(=O)(O)O\n"
     ]
    },
    {
     "data": {
      "image/png": "[encoded data removed]",
      "text/plain": [
       "<rdkit.Chem.rdChemReactions.ChemicalReaction at 0x7ff7a19c7830>"
      ]
     },
     "metadata": {},
     "output_type": "display_data"
    },
    {
     "name": "stdout",
     "output_type": "stream",
     "text": [
      "O=C(O)C(O)C(=O)C(O)(P(=O)(O)O)P(=O)(O)O>>O=CC(O)C(=O)C(O)(P(=O)(O)O)P(=O)(O)O\n"
     ]
    },
    {
     "data": {
      "image/png": "[encoded data removed]",
      "text/plain": [
       "<rdkit.Chem.rdChemReactions.ChemicalReaction at 0x7ff7a19c7830>"
      ]
     },
     "metadata": {},
     "output_type": "display_data"
    },
    {
     "name": "stdout",
     "output_type": "stream",
     "text": [
      "O=C(O)C(=O)C(O)C(O)(P(=O)(O)O)P(=O)(O)O>>O=C(O)C(=O)CC(O)(P(=O)(O)O)P(=O)(O)O\n"
     ]
    },
    {
     "data": {
      "image/png": "[encoded data removed]",
      "text/plain": [
       "<rdkit.Chem.rdChemReactions.ChemicalReaction at 0x7ff7a19c7830>"
      ]
     },
     "metadata": {},
     "output_type": "display_data"
    },
    {
     "name": "stdout",
     "output_type": "stream",
     "text": [
      "O=C(O)C(=O)C(O)C(O)(P(=O)(O)O)P(=O)(O)O>>O=CC(=O)C(O)C(O)(P(=O)(O)O)P(=O)(O)O\n"
     ]
    },
    {
     "data": {
      "image/png": "[encoded data removed]",
      "text/plain": [
       "<rdkit.Chem.rdChemReactions.ChemicalReaction at 0x7ff7a19c7830>"
      ]
     },
     "metadata": {},
     "output_type": "display_data"
    },
    {
     "name": "stdout",
     "output_type": "stream",
     "text": [
      "O=C(O)C(=O)C(O)C(O)(P(=O)(O)O)P(=O)(O)O>>O=C(O)C(O)C(O)C(O)(P(=O)(O)O)P(=O)(O)O\n"
     ]
    },
    {
     "data": {
      "image/png": "[encoded data removed]",
      "text/plain": [
       "<rdkit.Chem.rdChemReactions.ChemicalReaction at 0x7ff7a19c7830>"
      ]
     },
     "metadata": {},
     "output_type": "display_data"
    },
    {
     "name": "stdout",
     "output_type": "stream",
     "text": [
      "O=C(O)C(O)C(=O)C(O)(P(=O)(O)O)P(=O)(O)O>>O=C(O)C(O)C(O)C(O)(P(=O)(O)O)P(=O)(O)O\n"
     ]
    },
    {
     "data": {
      "image/png": "[encoded data removed]",
      "text/plain": [
       "<rdkit.Chem.rdChemReactions.ChemicalReaction at 0x7ff7a19c7830>"
      ]
     },
     "metadata": {},
     "output_type": "display_data"
    },
    {
     "name": "stdout",
     "output_type": "stream",
     "text": [
      "O=C(O)C(=O)C(=O)C(O)(P(=O)(O)O)P(=O)(O)O>>O=CC(=O)C(=O)C(O)(P(=O)(O)O)P(=O)(O)O\n"
     ]
    },
    {
     "data": {
      "image/png": "[encoded data removed]",
      "text/plain": [
       "<rdkit.Chem.rdChemReactions.ChemicalReaction at 0x7ff7a19c7830>"
      ]
     },
     "metadata": {},
     "output_type": "display_data"
    },
    {
     "name": "stdout",
     "output_type": "stream",
     "text": [
      "O=C(O)C(=O)C(=O)C(O)(P(=O)(O)O)P(=O)(O)O>>O=C(O)C(=O)C(O)C(O)(P(=O)(O)O)P(=O)(O)O\n"
     ]
    },
    {
     "data": {
      "image/png": "[encoded data removed]",
      "text/plain": [
       "<rdkit.Chem.rdChemReactions.ChemicalReaction at 0x7ff7a19c7830>"
      ]
     },
     "metadata": {},
     "output_type": "display_data"
    },
    {
     "name": "stdout",
     "output_type": "stream",
     "text": [
      "O=C(O)C(=O)C(=O)C(O)(P(=O)(O)O)P(=O)(O)O>>O=C(O)C(O)C(=O)C(O)(P(=O)(O)O)P(=O)(O)O\n"
     ]
    },
    {
     "data": {
      "image/png": "[encoded data removed]",
      "text/plain": [
       "<rdkit.Chem.rdChemReactions.ChemicalReaction at 0x7ff7a19c7830>"
      ]
     },
     "metadata": {},
     "output_type": "display_data"
    }
   ],
   "source": [
    "for rxn in rxn_list_4C[2000:2100]:\n",
    "    print rxn\n",
    "    display(AllChem.ReactionFromSmarts(str(rxn)))"
   ]
  },
  {
   "cell_type": "code",
   "execution_count": 348,
   "metadata": {
    "collapsed": false
   },
   "outputs": [
    {
     "data": {
      "image/png": "[encoded data removed]",
      "text/plain": [
       "<rdkit.Chem.rdChemReactions.ChemicalReaction at 0x7ff77ba0cf30>"
      ]
     },
     "metadata": {},
     "output_type": "display_data"
    }
   ],
   "source": [
    "display(AllChem.ReactionFromSmarts('O=C(O)CC(=O)C(=O)O>>O=C(O)C[C@H](O)C(=O)O'))"
   ]
  },
  {
   "cell_type": "code",
   "execution_count": null,
   "metadata": {
    "collapsed": true
   },
   "outputs": [],
   "source": []
  }
 ],
 "metadata": {
  "kernelspec": {
   "display_name": "Python 2",
   "language": "python",
   "name": "python2"
  },
  "language_info": {
   "codemirror_mode": {
    "name": "ipython",
    "version": 2
   },
   "file_extension": ".py",
   "mimetype": "text/x-python",
   "name": "python",
   "nbconvert_exporter": "python",
   "pygments_lexer": "ipython2",
   "version": "2.7.11"
  }
 },
 "nbformat": 4,
 "nbformat_minor": 0
}
