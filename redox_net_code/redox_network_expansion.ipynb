{
 "cells": [
  {
   "cell_type": "code",
   "execution_count": 2,
   "metadata": {
    "ExecuteTime": {
     "end_time": "2018-12-10T04:48:37.511376Z",
     "start_time": "2018-12-10T04:48:37.459843Z"
    }
   },
   "outputs": [
    {
     "name": "stdout",
     "output_type": "stream",
     "text": [
      "The autoreload extension is already loaded. To reload it, use:\n",
      "  %reload_ext autoreload\n"
     ]
    }
   ],
   "source": [
    "import json\n",
    "import copy\n",
    "import pandas as pd\n",
    "import re\n",
    "import matplotlib.pyplot as plt\n",
    "from random import randint\n",
    "import numpy as np\n",
    "import os\n",
    "import seaborn as sns\n",
    "\n",
    "from IPython.display import Image, SVG, display\n",
    "from rdkit import Chem\n",
    "from rdkit.Chem import AllChem,Draw,Descriptors\n",
    "from rdkit.Chem.Draw import IPythonConsole, ReactionToImage\n",
    "\n",
    "from lib.Reaction_Library_Mother import *\n",
    "import lib.Reaction_Library as RL \n",
    "\n",
    "%load_ext autoreload\n",
    "%autoreload 2\n",
    "%matplotlib inline"
   ]
  },
  {
   "cell_type": "code",
   "execution_count": 3,
   "metadata": {
    "ExecuteTime": {
     "end_time": "2018-12-10T04:48:39.723500Z",
     "start_time": "2018-12-10T04:48:39.692450Z"
    }
   },
   "outputs": [],
   "source": [
    "def add_names(x, names_dict):\n",
    "    try:\n",
    "        comp_name = names_dict[x.KEGG]\n",
    "    except:\n",
    "        comp_name = 'NO_NAME'\n",
    "    return comp_name\n",
    "\n",
    "def clean_up_mols(df):\n",
    "    df_no_SFClBr = df[ ~(df.smiles.str.contains('S')) & ~(df.smiles.str.contains('F')) \n",
    "                   & ~(df.smiles.str.contains('Cl')) & ~(df.smiles.str.contains('Br'))\n",
    "                     & ~(df.smiles.str.contains('I')) & ~(df.smiles.str.contains('Zn'))]\n",
    "    return df_no_SFClBr\n",
    "\n",
    "\n",
    "def reverse_reaction(row):\n",
    "    sub = row.rxn.split('>>')[0]\n",
    "    prod = row.rxn.split('>>')[1]\n",
    "    \n",
    "    new_rxn = prod + '>>' + sub\n",
    "    \n",
    "    return new_rxn\n",
    "\n",
    "\n",
    "def balance_G3(row):\n",
    "    rxn_ID = row.rxn_ID\n",
    "    if row.category == 3:\n",
    "        new_subs = ' + '.join([ rxn_ID.split(' = ')[0], 'C00014'])\n",
    "        new_prods = ' + '.join([ rxn_ID.split(' = ')[1], 'C00001'])\n",
    "        rxn_ID = ' = '.join([ new_subs, new_prods ])\n",
    "    return rxn_ID\n",
    "\n",
    "\n",
    "def add_BA_IDs(row, df_mols):\n",
    "    sub_smiles = row.subs_smiles\n",
    "    prod_smiles = row.prods_smiles\n",
    "    sub_ID = df_mols[df_mols.smiles == sub_smiles]['BA_ID'].values[0]\n",
    "    prod_ID = df_mols[df_mols.smiles == prod_smiles]['BA_ID'].values[0]\n",
    "    return ' = '.join([sub_ID, prod_ID])"
   ]
  },
  {
   "cell_type": "markdown",
   "metadata": {},
   "source": [
    "# Iterative reduction and oxidation of n-carbon metabolites in the KEGG database. "
   ]
  },
  {
   "cell_type": "markdown",
   "metadata": {},
   "source": [
    "## Preparing dataframe of KEGG \"seed metabolites\""
   ]
  },
  {
   "cell_type": "markdown",
   "metadata": {},
   "source": [
    "Load KEGG database of names: "
   ]
  },
  {
   "cell_type": "code",
   "execution_count": 4,
   "metadata": {
    "ExecuteTime": {
     "end_time": "2018-12-10T04:48:44.713240Z",
     "start_time": "2018-12-10T04:48:44.648633Z"
    }
   },
   "outputs": [],
   "source": [
    "df_names = pd.read_csv('data/KEGG_names.csv')\n",
    "names_dict = dict(zip(df_names.KEGG_ID, df_names.name))"
   ]
  },
  {
   "cell_type": "markdown",
   "metadata": {},
   "source": [
    "Load dataframe with KEGG database:"
   ]
  },
  {
   "cell_type": "code",
   "execution_count": 5,
   "metadata": {
    "ExecuteTime": {
     "end_time": "2018-12-10T04:48:46.086505Z",
     "start_time": "2018-12-10T04:48:45.705717Z"
    }
   },
   "outputs": [],
   "source": [
    "kegg_file = 'data/KEGG_compounds.csv'\n",
    "df_kegg = pd.read_csv(kegg_file)\n",
    "\n",
    "# remove generic compounds \n",
    "df_kegg = df_kegg[~df_kegg.smiles.str.contains('\\*')]\n",
    "df_kegg = df_kegg[~df_kegg.smiles.str.contains('\\#')]\n",
    "df_kegg = df_kegg[~df_kegg.smiles.str.contains('\\.')]\n",
    "\n",
    "# remove molecules with non-standard atoms: \n",
    "df_kegg = clean_up_mols(df_kegg)\n",
    "df_kegg.reset_index(inplace=True, drop=True)\n",
    "\n",
    "# Add names: \n",
    "df_kegg['name'] = df_kegg.apply(add_names, 1, args=[names_dict])\n",
    "\n",
    "# sort by number of carbons\n",
    "df_kegg.sort_values('n_carbons', inplace=True)"
   ]
  },
  {
   "cell_type": "markdown",
   "metadata": {},
   "source": [
    "Take a peek at a random KEGG metabolites: "
   ]
  },
  {
   "cell_type": "code",
   "execution_count": 6,
   "metadata": {
    "ExecuteTime": {
     "end_time": "2018-12-10T04:48:47.006457Z",
     "start_time": "2018-12-10T04:48:46.939540Z"
    },
    "scrolled": true
   },
   "outputs": [
    {
     "name": "stdout",
     "output_type": "stream",
     "text": [
      "5,7-Dimethoxyflavone\n",
      "number of carbons: 17\n"
     ]
    },
    {
     "data": {
      "image/png": "[encoded data removed]",
      "text/plain": [
       "<rdkit.Chem.rdchem.Mol at 0x7f672decb670>"
      ]
     },
     "execution_count": 6,
     "metadata": {},
     "output_type": "execute_result"
    }
   ],
   "source": [
    "int_temp = randint(0, df_kegg.shape[0])\n",
    "print(df_kegg.loc[int_temp, 'name'])\n",
    "print('number of carbons:', df_kegg.loc[int_temp, 'n_carbons'])\n",
    "AllChem.MolFromSmiles(df_kegg.loc[int_temp, 'smiles'])"
   ]
  },
  {
   "cell_type": "markdown",
   "metadata": {},
   "source": [
    "Take a peek at random molecules with nC carbon atoms:"
   ]
  },
  {
   "cell_type": "code",
   "execution_count": 7,
   "metadata": {
    "ExecuteTime": {
     "end_time": "2018-12-10T04:48:48.406254Z",
     "start_time": "2018-12-10T04:48:48.303925Z"
    }
   },
   "outputs": [
    {
     "name": "stdout",
     "output_type": "stream",
     "text": [
      "Cordycepin: (C08431)\n"
     ]
    },
    {
     "data": {
      "image/png": "[encoded data removed]",
      "text/plain": [
       "<rdkit.Chem.rdchem.Mol at 0x7f672e07f8f0>"
      ]
     },
     "metadata": {},
     "output_type": "display_data"
    },
    {
     "name": "stdout",
     "output_type": "stream",
     "text": [
      "5-Phenyl-1,3-oxazinane-2,4-dione: (C16596)\n"
     ]
    },
    {
     "data": {
      "image/png": "[encoded data removed]",
      "text/plain": [
       "<rdkit.Chem.rdchem.Mol at 0x7f672e07f8f0>"
      ]
     },
     "metadata": {},
     "output_type": "display_data"
    },
    {
     "name": "stdout",
     "output_type": "stream",
     "text": [
      "5'-Deoxyadenosine: (C05198)\n"
     ]
    },
    {
     "data": {
      "image/png": "[encoded data removed]",
      "text/plain": [
       "<rdkit.Chem.rdchem.Mol at 0x7f672e0888a0>"
      ]
     },
     "metadata": {},
     "output_type": "display_data"
    }
   ],
   "source": [
    "nC = 10\n",
    "df_nC = df_kegg[df_kegg.n_carbons == nC]\n",
    "\n",
    "df_sample = df_nC.sample(3)\n",
    "for index in df_sample.index:\n",
    "    smi = df_sample.loc[index, 'smiles']\n",
    "    KEGG_ID = df_sample.loc[index, 'KEGG']\n",
    "    name = df_sample.loc[index, 'name']\n",
    "    print(name + ': ('+KEGG_ID+')')\n",
    "    display(AllChem.MolFromSmiles(smi))"
   ]
  },
  {
   "cell_type": "markdown",
   "metadata": {},
   "source": [
    "Plot number of compounds as a function of number of carbon atoms to guide the cutoff decision: "
   ]
  },
  {
   "cell_type": "code",
   "execution_count": 8,
   "metadata": {
    "ExecuteTime": {
     "end_time": "2018-12-10T04:48:50.115172Z",
     "start_time": "2018-12-10T04:48:49.783017Z"
    }
   },
   "outputs": [
    {
     "ename": "AttributeError",
     "evalue": "module 'matplotlib.colors' has no attribute 'to_rgba'",
     "output_type": "error",
     "traceback": [
      "\u001b[0;31m---------------------------------------------------------------------------\u001b[0m",
      "\u001b[0;31mAttributeError\u001b[0m                            Traceback (most recent call last)",
      "\u001b[0;32m~/anaconda3/envs/rdkit_old/lib/python3.5/site-packages/ipykernel/pylab/backend_inline.py\u001b[0m in \u001b[0;36mshow\u001b[0;34m(close, block)\u001b[0m\n\u001b[1;32m     37\u001b[0m             display(\n\u001b[1;32m     38\u001b[0m                 \u001b[0mfigure_manager\u001b[0m\u001b[0;34m.\u001b[0m\u001b[0mcanvas\u001b[0m\u001b[0;34m.\u001b[0m\u001b[0mfigure\u001b[0m\u001b[0;34m,\u001b[0m\u001b[0;34m\u001b[0m\u001b[0m\n\u001b[0;32m---> 39\u001b[0;31m                 \u001b[0mmetadata\u001b[0m\u001b[0;34m=\u001b[0m\u001b[0m_fetch_figure_metadata\u001b[0m\u001b[0;34m(\u001b[0m\u001b[0mfigure_manager\u001b[0m\u001b[0;34m.\u001b[0m\u001b[0mcanvas\u001b[0m\u001b[0;34m.\u001b[0m\u001b[0mfigure\u001b[0m\u001b[0;34m)\u001b[0m\u001b[0;34m\u001b[0m\u001b[0m\n\u001b[0m\u001b[1;32m     40\u001b[0m             )\n\u001b[1;32m     41\u001b[0m     \u001b[0;32mfinally\u001b[0m\u001b[0;34m:\u001b[0m\u001b[0;34m\u001b[0m\u001b[0m\n",
      "\u001b[0;32m~/anaconda3/envs/rdkit_old/lib/python3.5/site-packages/ipykernel/pylab/backend_inline.py\u001b[0m in \u001b[0;36m_fetch_figure_metadata\u001b[0;34m(fig)\u001b[0m\n\u001b[1;32m    172\u001b[0m     \u001b[0;34m\"\"\"Get some metadata to help with displaying a figure.\"\"\"\u001b[0m\u001b[0;34m\u001b[0m\u001b[0m\n\u001b[1;32m    173\u001b[0m     \u001b[0;31m# determine if a background is needed for legibility\u001b[0m\u001b[0;34m\u001b[0m\u001b[0;34m\u001b[0m\u001b[0m\n\u001b[0;32m--> 174\u001b[0;31m     \u001b[0;32mif\u001b[0m \u001b[0m_is_transparent\u001b[0m\u001b[0;34m(\u001b[0m\u001b[0mfig\u001b[0m\u001b[0;34m.\u001b[0m\u001b[0mget_facecolor\u001b[0m\u001b[0;34m(\u001b[0m\u001b[0;34m)\u001b[0m\u001b[0;34m)\u001b[0m\u001b[0;34m:\u001b[0m\u001b[0;34m\u001b[0m\u001b[0m\n\u001b[0m\u001b[1;32m    175\u001b[0m         \u001b[0;31m# the background is transparent\u001b[0m\u001b[0;34m\u001b[0m\u001b[0;34m\u001b[0m\u001b[0m\n\u001b[1;32m    176\u001b[0m         ticksLight = _is_light([label.get_color()\n",
      "\u001b[0;32m~/anaconda3/envs/rdkit_old/lib/python3.5/site-packages/ipykernel/pylab/backend_inline.py\u001b[0m in \u001b[0;36m_is_transparent\u001b[0;34m(color)\u001b[0m\n\u001b[1;32m    193\u001b[0m \u001b[0;32mdef\u001b[0m \u001b[0m_is_transparent\u001b[0m\u001b[0;34m(\u001b[0m\u001b[0mcolor\u001b[0m\u001b[0;34m)\u001b[0m\u001b[0;34m:\u001b[0m\u001b[0;34m\u001b[0m\u001b[0m\n\u001b[1;32m    194\u001b[0m     \u001b[0;34m\"\"\"Determine transparency from alpha.\"\"\"\u001b[0m\u001b[0;34m\u001b[0m\u001b[0m\n\u001b[0;32m--> 195\u001b[0;31m     \u001b[0mrgba\u001b[0m \u001b[0;34m=\u001b[0m \u001b[0mcolors\u001b[0m\u001b[0;34m.\u001b[0m\u001b[0mto_rgba\u001b[0m\u001b[0;34m(\u001b[0m\u001b[0mcolor\u001b[0m\u001b[0;34m)\u001b[0m\u001b[0;34m\u001b[0m\u001b[0m\n\u001b[0m\u001b[1;32m    196\u001b[0m     \u001b[0;32mreturn\u001b[0m \u001b[0mrgba\u001b[0m\u001b[0;34m[\u001b[0m\u001b[0;36m3\u001b[0m\u001b[0;34m]\u001b[0m \u001b[0;34m<\u001b[0m \u001b[0;36m.5\u001b[0m\u001b[0;34m\u001b[0m\u001b[0m\n",
      "\u001b[0;31mAttributeError\u001b[0m: module 'matplotlib.colors' has no attribute 'to_rgba'"
     ]
    }
   ],
   "source": [
    "numC_dict = df_kegg.n_carbons.value_counts().to_dict()\n",
    "\n",
    "plt.bar(numC_dict.keys(), numC_dict.values())\n",
    "plt.xlim(0, 30)\n",
    "plt.xlabel('Number Carbons', fontsize = 24)\n",
    "plt.ylabel('Metabolite Count', fontsize = 24)\n",
    "plt.xticks(fontsize = 14)\n",
    "yt = plt.yticks(fontsize = 14)"
   ]
  },
  {
   "cell_type": "markdown",
   "metadata": {},
   "source": [
    "Choose cut-off at certain number of carbons"
   ]
  },
  {
   "cell_type": "code",
   "execution_count": 9,
   "metadata": {
    "ExecuteTime": {
     "end_time": "2018-12-10T04:49:09.289127Z",
     "start_time": "2018-12-10T04:49:09.259425Z"
    },
    "scrolled": true
   },
   "outputs": [
    {
     "data": {
      "text/plain": [
       "(7174, 15)"
      ]
     },
     "execution_count": 9,
     "metadata": {},
     "output_type": "execute_result"
    }
   ],
   "source": [
    "df_cutoff = df_kegg[df_kegg.n_carbons <= 21]\n",
    "smiles_cutoff = df_cutoff.canon_smiles.values\n",
    "df_cutoff.shape"
   ]
  },
  {
   "cell_type": "markdown",
   "metadata": {},
   "source": [
    "## Run the reduction and oxidation functions on the KEGG database"
   ]
  },
  {
   "cell_type": "markdown",
   "metadata": {},
   "source": [
    "### Iteratively reduce all KEGG seed compounds"
   ]
  },
  {
   "cell_type": "code",
   "execution_count": 10,
   "metadata": {
    "ExecuteTime": {
     "end_time": "2018-12-10T04:49:26.642851Z",
     "start_time": "2018-12-10T04:49:11.919709Z"
    },
    "scrolled": true
   },
   "outputs": [],
   "source": [
    "# Empty list of all reactions. \n",
    "rxn_list = []\n",
    "Master_Sub_List = [] #master substrate list, where all current + new substrates are stored\n",
    "\n",
    "# for each KEGG metabolite\n",
    "for metabolite in smiles_cutoff:\n",
    "    \n",
    "    # Run reduction function on a single metabolite\n",
    "    rxn_list_temp, Master_Sub_List = reduce_metabolite(metabolite, Master_Sub_List)    \n",
    "    \n",
    "    # If reactions are generated, store in reaction list\n",
    "    if len(rxn_list_temp) > 0:\n",
    "        rxn_list += rxn_list_temp\n",
    "        rxn_list = list(set(rxn_list)) \n",
    "    \n",
    "    # Update master substrate list\n",
    "    new_subs_list = [rxn.split('>>')[0] for rxn in rxn_list_temp]\n",
    "    Master_Sub_List += new_subs_list\n",
    "    Master_Sub_List = list(set(Master_Sub_List))\n",
    "    \n",
    "# store unique set of reactions generated, and sort\n",
    "rxn_list = list(set(rxn_list))\n",
    "rxn_list.sort(key = len)"
   ]
  },
  {
   "cell_type": "code",
   "execution_count": 11,
   "metadata": {
    "ExecuteTime": {
     "end_time": "2018-12-10T04:49:41.604939Z",
     "start_time": "2018-12-10T04:49:28.336034Z"
    }
   },
   "outputs": [
    {
     "data": {
      "text/plain": [
       "(8598, 2)"
      ]
     },
     "execution_count": 11,
     "metadata": {},
     "output_type": "execute_result"
    }
   ],
   "source": [
    "df_reduction = pd.DataFrame()\n",
    "df_reduction['rxn'] = rxn_list\n",
    "df_reduction['category'] = df_reduction.apply(RL.categorize_rxn, 1)\n",
    "df_reduction.shape"
   ]
  },
  {
   "cell_type": "code",
   "execution_count": 12,
   "metadata": {
    "ExecuteTime": {
     "end_time": "2018-12-10T04:49:56.732798Z",
     "start_time": "2018-12-10T04:49:56.646098Z"
    }
   },
   "outputs": [],
   "source": [
    "# write to file:\n",
    "df_reduction.to_csv('output/21C_reductions.csv', index = False)"
   ]
  },
  {
   "cell_type": "markdown",
   "metadata": {},
   "source": [
    "Visualize a few generated reactions:"
   ]
  },
  {
   "cell_type": "code",
   "execution_count": 13,
   "metadata": {
    "ExecuteTime": {
     "end_time": "2018-12-10T04:49:57.887994Z",
     "start_time": "2018-12-10T04:49:57.768728Z"
    },
    "scrolled": true
   },
   "outputs": [
    {
     "data": {
      "image/png": "[encoded data removed]",
      "text/plain": [
       "<rdkit.Chem.rdChemReactions.ChemicalReaction at 0x7f672e247f30>"
      ]
     },
     "metadata": {},
     "output_type": "display_data"
    },
    {
     "data": {
      "image/png": "[encoded data removed]",
      "text/plain": [
       "<rdkit.Chem.rdChemReactions.ChemicalReaction at 0x7f672e2b2170>"
      ]
     },
     "metadata": {},
     "output_type": "display_data"
    },
    {
     "data": {
      "image/png": "[encoded data removed]",
      "text/plain": [
       "<rdkit.Chem.rdChemReactions.ChemicalReaction at 0x7f672e2b2170>"
      ]
     },
     "metadata": {},
     "output_type": "display_data"
    }
   ],
   "source": [
    "df_rand = df_reduction.sample(3)\n",
    "for i in df_rand.index:\n",
    "    smiles_str = df_rand.loc[i, 'rxn']\n",
    "    display(AllChem.ReactionFromSmarts(str(smiles_str)))"
   ]
  },
  {
   "cell_type": "markdown",
   "metadata": {},
   "source": [
    "### Iteratively oxidize all KEGG seed compounds"
   ]
  },
  {
   "cell_type": "code",
   "execution_count": 14,
   "metadata": {
    "ExecuteTime": {
     "end_time": "2018-12-10T04:55:27.432500Z",
     "start_time": "2018-12-10T04:50:02.714132Z"
    },
    "scrolled": true
   },
   "outputs": [],
   "source": [
    "# Empty list of all reactions. \n",
    "rxn_list_ox = []\n",
    "Master_Sub_List = []\n",
    "# for each KEGG metabolite\n",
    "for metabolite in smiles_cutoff:\n",
    "    # Run reduction function on a single metabolite\n",
    "    rxn_list_temp, Master_Sub_List = oxidize_metabolite(metabolite, Master_Sub_List)\n",
    "    \n",
    "    # If there are some reactions, store in reaction list\n",
    "    if len(rxn_list_temp) > 0:\n",
    "        rxn_list_ox += rxn_list_temp\n",
    "        rxn_list_ox = list(set(rxn_list_ox)) \n",
    "    \n",
    "    # Update Master_Sub_List\n",
    "    new_subs_list = [rxn.split('>>')[0] for rxn in rxn_list_temp]\n",
    "    Master_Sub_List += new_subs_list\n",
    "    Master_Sub_List = list(set(Master_Sub_List))\n"
   ]
  },
  {
   "cell_type": "code",
   "execution_count": 15,
   "metadata": {
    "ExecuteTime": {
     "end_time": "2018-12-10T04:55:27.665334Z",
     "start_time": "2018-12-10T04:55:27.435485Z"
    }
   },
   "outputs": [
    {
     "data": {
      "text/plain": [
       "306412"
      ]
     },
     "execution_count": 15,
     "metadata": {},
     "output_type": "execute_result"
    }
   ],
   "source": [
    "rxn_list_ox = list(set(rxn_list_ox))\n",
    "rxn_list_ox.sort(key = len)\n",
    "len(rxn_list_ox)"
   ]
  },
  {
   "cell_type": "markdown",
   "metadata": {},
   "source": [
    "store in dataframe: "
   ]
  },
  {
   "cell_type": "code",
   "execution_count": 16,
   "metadata": {
    "ExecuteTime": {
     "end_time": "2018-12-10T04:55:27.761053Z",
     "start_time": "2018-12-10T04:55:27.667708Z"
    }
   },
   "outputs": [],
   "source": [
    "df_oxidation = pd.DataFrame()\n",
    "df_oxidation['rxn'] = rxn_list_ox"
   ]
  },
  {
   "cell_type": "markdown",
   "metadata": {},
   "source": [
    "look at a few random oxidation reactions: "
   ]
  },
  {
   "cell_type": "code",
   "execution_count": 17,
   "metadata": {
    "ExecuteTime": {
     "end_time": "2018-12-10T04:55:27.889953Z",
     "start_time": "2018-12-10T04:55:27.763534Z"
    },
    "scrolled": true
   },
   "outputs": [
    {
     "data": {
      "image/png": "[encoded data removed]",
      "text/plain": [
       "<rdkit.Chem.rdChemReactions.ChemicalReaction at 0x7f672e247da0>"
      ]
     },
     "metadata": {},
     "output_type": "display_data"
    },
    {
     "data": {
      "image/png": "[encoded data removed]",
      "text/plain": [
       "<rdkit.Chem.rdChemReactions.ChemicalReaction at 0x7f672e247da0>"
      ]
     },
     "metadata": {},
     "output_type": "display_data"
    },
    {
     "data": {
      "image/png": "[encoded data removed]",
      "text/plain": [
       "<rdkit.Chem.rdChemReactions.ChemicalReaction at 0x7f672407c710>"
      ]
     },
     "metadata": {},
     "output_type": "display_data"
    }
   ],
   "source": [
    "df_rand = df_oxidation.sample(3)\n",
    "for i in df_rand.index:\n",
    "    smiles_str = df_rand.loc[i, 'rxn']\n",
    "    display(AllChem.ReactionFromSmarts(str(smiles_str)))"
   ]
  },
  {
   "cell_type": "markdown",
   "metadata": {},
   "source": [
    "Write to file: "
   ]
  },
  {
   "cell_type": "code",
   "execution_count": 18,
   "metadata": {
    "ExecuteTime": {
     "end_time": "2018-12-10T04:55:28.073431Z",
     "start_time": "2018-12-10T04:55:27.891555Z"
    }
   },
   "outputs": [
    {
     "ename": "NameError",
     "evalue": "(\"name 'G2_function_ox' is not defined\", 'occurred at index 0')",
     "output_type": "error",
     "traceback": [
      "\u001b[0;31m---------------------------------------------------------------------------\u001b[0m",
      "\u001b[0;31mNameError\u001b[0m                                 Traceback (most recent call last)",
      "\u001b[0;32m<ipython-input-18-7bdae75b414e>\u001b[0m in \u001b[0;36m<module>\u001b[0;34m()\u001b[0m\n\u001b[0;32m----> 1\u001b[0;31m \u001b[0mdf_oxidation\u001b[0m\u001b[0;34m[\u001b[0m\u001b[0;34m'category'\u001b[0m\u001b[0;34m]\u001b[0m \u001b[0;34m=\u001b[0m \u001b[0mdf_oxidation\u001b[0m\u001b[0;34m.\u001b[0m\u001b[0mapply\u001b[0m\u001b[0;34m(\u001b[0m\u001b[0mRL\u001b[0m\u001b[0;34m.\u001b[0m\u001b[0mcategorize_rxn_ox\u001b[0m\u001b[0;34m,\u001b[0m \u001b[0;36m1\u001b[0m\u001b[0;34m)\u001b[0m\u001b[0;34m\u001b[0m\u001b[0m\n\u001b[0m\u001b[1;32m      2\u001b[0m \u001b[0mdf_oxidation\u001b[0m\u001b[0;34m.\u001b[0m\u001b[0mto_csv\u001b[0m\u001b[0;34m(\u001b[0m\u001b[0;34m'output/21C_oxidations.csv'\u001b[0m\u001b[0;34m,\u001b[0m \u001b[0mindex\u001b[0m \u001b[0;34m=\u001b[0m \u001b[0;32mFalse\u001b[0m\u001b[0;34m)\u001b[0m\u001b[0;34m\u001b[0m\u001b[0m\n",
      "\u001b[0;32m~/anaconda3/envs/rdkit_old/lib/python3.5/site-packages/pandas/core/frame.py\u001b[0m in \u001b[0;36mapply\u001b[0;34m(self, func, axis, broadcast, raw, reduce, result_type, args, **kwds)\u001b[0m\n\u001b[1;32m   6012\u001b[0m                          \u001b[0margs\u001b[0m\u001b[0;34m=\u001b[0m\u001b[0margs\u001b[0m\u001b[0;34m,\u001b[0m\u001b[0;34m\u001b[0m\u001b[0m\n\u001b[1;32m   6013\u001b[0m                          kwds=kwds)\n\u001b[0;32m-> 6014\u001b[0;31m         \u001b[0;32mreturn\u001b[0m \u001b[0mop\u001b[0m\u001b[0;34m.\u001b[0m\u001b[0mget_result\u001b[0m\u001b[0;34m(\u001b[0m\u001b[0;34m)\u001b[0m\u001b[0;34m\u001b[0m\u001b[0m\n\u001b[0m\u001b[1;32m   6015\u001b[0m \u001b[0;34m\u001b[0m\u001b[0m\n\u001b[1;32m   6016\u001b[0m     \u001b[0;32mdef\u001b[0m \u001b[0mapplymap\u001b[0m\u001b[0;34m(\u001b[0m\u001b[0mself\u001b[0m\u001b[0;34m,\u001b[0m \u001b[0mfunc\u001b[0m\u001b[0;34m)\u001b[0m\u001b[0;34m:\u001b[0m\u001b[0;34m\u001b[0m\u001b[0m\n",
      "\u001b[0;32m~/anaconda3/envs/rdkit_old/lib/python3.5/site-packages/pandas/core/apply.py\u001b[0m in \u001b[0;36mget_result\u001b[0;34m(self)\u001b[0m\n\u001b[1;32m    140\u001b[0m             \u001b[0;32mreturn\u001b[0m \u001b[0mself\u001b[0m\u001b[0;34m.\u001b[0m\u001b[0mapply_raw\u001b[0m\u001b[0;34m(\u001b[0m\u001b[0;34m)\u001b[0m\u001b[0;34m\u001b[0m\u001b[0m\n\u001b[1;32m    141\u001b[0m \u001b[0;34m\u001b[0m\u001b[0m\n\u001b[0;32m--> 142\u001b[0;31m         \u001b[0;32mreturn\u001b[0m \u001b[0mself\u001b[0m\u001b[0;34m.\u001b[0m\u001b[0mapply_standard\u001b[0m\u001b[0;34m(\u001b[0m\u001b[0;34m)\u001b[0m\u001b[0;34m\u001b[0m\u001b[0m\n\u001b[0m\u001b[1;32m    143\u001b[0m \u001b[0;34m\u001b[0m\u001b[0m\n\u001b[1;32m    144\u001b[0m     \u001b[0;32mdef\u001b[0m \u001b[0mapply_empty_result\u001b[0m\u001b[0;34m(\u001b[0m\u001b[0mself\u001b[0m\u001b[0;34m)\u001b[0m\u001b[0;34m:\u001b[0m\u001b[0;34m\u001b[0m\u001b[0m\n",
      "\u001b[0;32m~/anaconda3/envs/rdkit_old/lib/python3.5/site-packages/pandas/core/apply.py\u001b[0m in \u001b[0;36mapply_standard\u001b[0;34m(self)\u001b[0m\n\u001b[1;32m    246\u001b[0m \u001b[0;34m\u001b[0m\u001b[0m\n\u001b[1;32m    247\u001b[0m         \u001b[0;31m# compute the result using the series generator\u001b[0m\u001b[0;34m\u001b[0m\u001b[0;34m\u001b[0m\u001b[0m\n\u001b[0;32m--> 248\u001b[0;31m         \u001b[0mself\u001b[0m\u001b[0;34m.\u001b[0m\u001b[0mapply_series_generator\u001b[0m\u001b[0;34m(\u001b[0m\u001b[0;34m)\u001b[0m\u001b[0;34m\u001b[0m\u001b[0m\n\u001b[0m\u001b[1;32m    249\u001b[0m \u001b[0;34m\u001b[0m\u001b[0m\n\u001b[1;32m    250\u001b[0m         \u001b[0;31m# wrap results\u001b[0m\u001b[0;34m\u001b[0m\u001b[0;34m\u001b[0m\u001b[0m\n",
      "\u001b[0;32m~/anaconda3/envs/rdkit_old/lib/python3.5/site-packages/pandas/core/apply.py\u001b[0m in \u001b[0;36mapply_series_generator\u001b[0;34m(self)\u001b[0m\n\u001b[1;32m    275\u001b[0m             \u001b[0;32mtry\u001b[0m\u001b[0;34m:\u001b[0m\u001b[0;34m\u001b[0m\u001b[0m\n\u001b[1;32m    276\u001b[0m                 \u001b[0;32mfor\u001b[0m \u001b[0mi\u001b[0m\u001b[0;34m,\u001b[0m \u001b[0mv\u001b[0m \u001b[0;32min\u001b[0m \u001b[0menumerate\u001b[0m\u001b[0;34m(\u001b[0m\u001b[0mseries_gen\u001b[0m\u001b[0;34m)\u001b[0m\u001b[0;34m:\u001b[0m\u001b[0;34m\u001b[0m\u001b[0m\n\u001b[0;32m--> 277\u001b[0;31m                     \u001b[0mresults\u001b[0m\u001b[0;34m[\u001b[0m\u001b[0mi\u001b[0m\u001b[0;34m]\u001b[0m \u001b[0;34m=\u001b[0m \u001b[0mself\u001b[0m\u001b[0;34m.\u001b[0m\u001b[0mf\u001b[0m\u001b[0;34m(\u001b[0m\u001b[0mv\u001b[0m\u001b[0;34m)\u001b[0m\u001b[0;34m\u001b[0m\u001b[0m\n\u001b[0m\u001b[1;32m    278\u001b[0m                     \u001b[0mkeys\u001b[0m\u001b[0;34m.\u001b[0m\u001b[0mappend\u001b[0m\u001b[0;34m(\u001b[0m\u001b[0mv\u001b[0m\u001b[0;34m.\u001b[0m\u001b[0mname\u001b[0m\u001b[0;34m)\u001b[0m\u001b[0;34m\u001b[0m\u001b[0m\n\u001b[1;32m    279\u001b[0m             \u001b[0;32mexcept\u001b[0m \u001b[0mException\u001b[0m \u001b[0;32mas\u001b[0m \u001b[0me\u001b[0m\u001b[0;34m:\u001b[0m\u001b[0;34m\u001b[0m\u001b[0m\n",
      "\u001b[0;32m~/gp_redox_rxn/redox_net_code/lib/Reaction_Library.py\u001b[0m in \u001b[0;36mcategorize_rxn_ox\u001b[0;34m(row)\u001b[0m\n\u001b[1;32m    131\u001b[0m     \u001b[0;31m# Apply reaction_type to substrate\u001b[0m\u001b[0;34m\u001b[0m\u001b[0;34m\u001b[0m\u001b[0m\n\u001b[1;32m    132\u001b[0m     \u001b[0;31m# G1_prods = G1_function_ox(sub) #list of G1 products\u001b[0m\u001b[0;34m\u001b[0m\u001b[0;34m\u001b[0m\u001b[0m\n\u001b[0;32m--> 133\u001b[0;31m     \u001b[0mG2_prods\u001b[0m \u001b[0;34m=\u001b[0m \u001b[0mG2_function_ox\u001b[0m\u001b[0;34m(\u001b[0m\u001b[0msub\u001b[0m\u001b[0;34m)\u001b[0m \u001b[0;31m#list of G2 products\u001b[0m\u001b[0;34m\u001b[0m\u001b[0m\n\u001b[0m\u001b[1;32m    134\u001b[0m     \u001b[0mG3_prods\u001b[0m \u001b[0;34m=\u001b[0m \u001b[0mG3_function_ox\u001b[0m\u001b[0;34m(\u001b[0m\u001b[0msub\u001b[0m\u001b[0;34m)\u001b[0m \u001b[0;31m#list of G3 products\u001b[0m\u001b[0;34m\u001b[0m\u001b[0m\n\u001b[1;32m    135\u001b[0m     \u001b[0;31m# G4_prods = G4_function_ox(sub) #list of G4 products\u001b[0m\u001b[0;34m\u001b[0m\u001b[0;34m\u001b[0m\u001b[0m\n",
      "\u001b[0;31mNameError\u001b[0m: (\"name 'G2_function_ox' is not defined\", 'occurred at index 0')"
     ]
    }
   ],
   "source": [
    "df_oxidation['category'] = df_oxidation.apply(RL.categorize_rxn_ox, 1)\n",
    "df_oxidation.to_csv('output/21C_oxidations.csv', index = False)"
   ]
  },
  {
   "cell_type": "markdown",
   "metadata": {},
   "source": [
    "## Combine oxidations and the reductions into a single file:"
   ]
  },
  {
   "cell_type": "markdown",
   "metadata": {},
   "source": [
    "Reverse oxidations to \"standardize them\" and make them comparable to the reductions:"
   ]
  },
  {
   "cell_type": "code",
   "execution_count": 19,
   "metadata": {
    "ExecuteTime": {
     "end_time": "2018-12-10T04:59:15.336820Z",
     "start_time": "2018-12-10T04:59:05.644313Z"
    }
   },
   "outputs": [],
   "source": [
    "df_oxidation['rxn'] = df_oxidation.apply(reverse_reaction, 1)"
   ]
  },
  {
   "cell_type": "code",
   "execution_count": 20,
   "metadata": {
    "ExecuteTime": {
     "end_time": "2018-12-10T04:59:15.368311Z",
     "start_time": "2018-12-10T04:59:15.339415Z"
    }
   },
   "outputs": [
    {
     "data": {
      "text/plain": [
       "(306412, 1)"
      ]
     },
     "execution_count": 20,
     "metadata": {},
     "output_type": "execute_result"
    }
   ],
   "source": [
    "df_oxidation.shape"
   ]
  },
  {
   "cell_type": "code",
   "execution_count": null,
   "metadata": {
    "ExecuteTime": {
     "end_time": "2018-12-10T04:55:28.075760Z",
     "start_time": "2018-12-10T04:50:35.605Z"
    }
   },
   "outputs": [],
   "source": [
    "df_redox = pd.concat([df_reduction, df_oxidation], 0)\n",
    "df_redox.reset_index(inplace=True, drop=True)"
   ]
  },
  {
   "cell_type": "code",
   "execution_count": 86,
   "metadata": {},
   "outputs": [
    {
     "data": {
      "text/plain": [
       "(407400, 2)"
      ]
     },
     "execution_count": 86,
     "metadata": {},
     "output_type": "execute_result"
    }
   ],
   "source": [
    "# --> this was the number I used to get: 314998\n",
    "df_redox.shape"
   ]
  },
  {
   "cell_type": "markdown",
   "metadata": {},
   "source": [
    "Remove duplicated reactions:"
   ]
  },
  {
   "cell_type": "code",
   "execution_count": 127,
   "metadata": {},
   "outputs": [
    {
     "data": {
      "text/plain": [
       "(407133, 2)"
      ]
     },
     "execution_count": 127,
     "metadata": {},
     "output_type": "execute_result"
    }
   ],
   "source": [
    "# --> this was the number I used to get: 314794\n",
    "df_redox.drop_duplicates('rxn', inplace=True)\n",
    "df_redox.shape"
   ]
  },
  {
   "cell_type": "code",
   "execution_count": 203,
   "metadata": {},
   "outputs": [
    {
     "data": {
      "text/html": [
       "<div>\n",
       "<table border=\"1\" class=\"dataframe\">\n",
       "  <thead>\n",
       "    <tr style=\"text-align: right;\">\n",
       "      <th></th>\n",
       "      <th>rxn_smiles</th>\n",
       "      <th>category</th>\n",
       "    </tr>\n",
       "  </thead>\n",
       "  <tbody>\n",
       "    <tr>\n",
       "      <th>0</th>\n",
       "      <td>CC=O&gt;&gt;CCO</td>\n",
       "      <td>2</td>\n",
       "    </tr>\n",
       "    <tr>\n",
       "      <th>1</th>\n",
       "      <td>CC=O&gt;&gt;CCN</td>\n",
       "      <td>3</td>\n",
       "    </tr>\n",
       "  </tbody>\n",
       "</table>\n",
       "</div>"
      ],
      "text/plain": [
       "  rxn_smiles  category\n",
       "0  CC=O>>CCO         2\n",
       "1  CC=O>>CCN         3"
      ]
     },
     "execution_count": 203,
     "metadata": {},
     "output_type": "execute_result"
    }
   ],
   "source": [
    "df_redox.rename(columns={'rxn':'rxn_smiles'}, inplace=True)\n",
    "# add substrates and products\n",
    "df_redox['subs_smiles'] = [rxn.split('>>')[0] for rxn in df_redox.rxn_smiles.values]\n",
    "df_redox['prods_smiles'] = [rxn.split('>>')[1] for rxn in df_redox.rxn_smiles.values]\n",
    "df_redox.head(2)"
   ]
  },
  {
   "cell_type": "markdown",
   "metadata": {},
   "source": [
    "Visualize a few random reactions: "
   ]
  },
  {
   "cell_type": "code",
   "execution_count": 213,
   "metadata": {
    "scrolled": true
   },
   "outputs": [
    {
     "name": "stdout",
     "output_type": "stream",
     "text": [
      "NC1C(=O)C(=O)C(C=O)OC1OC1C(=O)CC(NC(=O)C(O)CC=O)C(O)C1OC1OC(C=O)C(O)C1=O>>NC1CC(NC(=O)C(O)CC=O)C(O)C(OC2OC(C=O)C(O)C2=O)C1OC1OC(C=O)C(=O)C(=O)C1N\n",
      "3\n"
     ]
    },
    {
     "data": {
      "image/png": "[encoded data removed]",
      "text/plain": [
       "<rdkit.Chem.rdChemReactions.ChemicalReaction at 0x7f263c724e50>"
      ]
     },
     "metadata": {},
     "output_type": "display_data"
    },
    {
     "name": "stdout",
     "output_type": "stream",
     "text": [
      "CNC1C(OC2OC(C=O)C(N)C(O)C2=O)OC2C(=O)C(=O)C(OC3C(=O)CC(N)C(O)C3O)OC2C1O>>CNC1C(OC2OC(C=O)C(N)C(O)C2=O)OC2C(=O)C(N)C(OC3C(=O)CC(N)C(O)C3O)OC2C1O\n",
      "3\n"
     ]
    },
    {
     "data": {
      "image/png": "[encoded data removed]",
      "text/plain": [
       "<rdkit.Chem.rdChemReactions.ChemicalReaction at 0x7f263c724e50>"
      ]
     },
     "metadata": {},
     "output_type": "display_data"
    },
    {
     "name": "stdout",
     "output_type": "stream",
     "text": [
      "O=C1C(=C(O)C(O)c2cc(O)cc(O)c21)c1c(O)cc(O)c2c1C(=O)C(O)=CC2O>>NC1C(=C(O)C(O)c2cc(O)cc(O)c21)c1c(O)cc(O)c2c1C(=O)C(O)=CC2O\n",
      "3\n"
     ]
    },
    {
     "data": {
      "image/png": "[encoded data removed]",
      "text/plain": [
       "<rdkit.Chem.rdChemReactions.ChemicalReaction at 0x7f263c724e50>"
      ]
     },
     "metadata": {},
     "output_type": "display_data"
    },
    {
     "name": "stdout",
     "output_type": "stream",
     "text": [
      "NCC1OC(OC2C(=O)C(OC3OC(C=O)C(=O)C(=O)C3O)C(=O)CC2N)C(=O)C(OP(=O)(O)O)C1O>>NCC1OC(OC2C(=O)C(OC3OC(C=O)C(=O)C(N)C3O)C(=O)CC2N)C(=O)C(OP(=O)(O)O)C1O\n",
      "3\n"
     ]
    },
    {
     "data": {
      "image/png": "[encoded data removed]",
      "text/plain": [
       "<rdkit.Chem.rdChemReactions.ChemicalReaction at 0x7f263c724e50>"
      ]
     },
     "metadata": {},
     "output_type": "display_data"
    },
    {
     "name": "stdout",
     "output_type": "stream",
     "text": [
      "CNC1C(=O)C2OC(OC3C(=O)CC(=O)C(O)C3O)C(=O)C(O)C2OC1OC1OC(CO)C(N)C(=O)C1=O>>CNC1C(=O)C2OC(OC3C(=O)CC(=O)C(O)C3O)C(N)C(O)C2OC1OC1OC(CO)C(N)C(=O)C1=O\n",
      "3\n"
     ]
    },
    {
     "data": {
      "image/png": "[encoded data removed]",
      "text/plain": [
       "<rdkit.Chem.rdChemReactions.ChemicalReaction at 0x7f263c724e50>"
      ]
     },
     "metadata": {},
     "output_type": "display_data"
    }
   ],
   "source": [
    "df_rand = df_redox[df_redox.category==3].sample(5)\n",
    "for i in df_rand.index:\n",
    "    smiles_str = df_rand.loc[i, 'rxn_smiles']\n",
    "    category = df_rand.loc[i, 'category']\n",
    "    print str(smiles_str)\n",
    "    print category\n",
    "    display(AllChem.ReactionFromSmarts(str(smiles_str)))"
   ]
  },
  {
   "cell_type": "markdown",
   "metadata": {},
   "source": [
    "### Get unique molecules and generate compound ID's"
   ]
  },
  {
   "cell_type": "markdown",
   "metadata": {},
   "source": [
    "Get unique set of molecules: "
   ]
  },
  {
   "cell_type": "code",
   "execution_count": 205,
   "metadata": {
    "collapsed": true
   },
   "outputs": [],
   "source": [
    "subs = [rxn.split('>>')[0] for rxn in df_redox.rxn_smiles.values]\n",
    "prods = [rxn.split('>>')[1] for rxn in df_redox.rxn_smiles.values]\n",
    "comps = list(set(subs+prods))\n",
    "df_mols = pd.DataFrame(columns=['smiles'])\n",
    "df_mols['smiles'] = comps\n",
    "\n",
    "# Get number of carbons\n",
    "df_mols['numC'] = df_mols.apply(RL.count_carbons, 1)\n",
    "df_mols.sort_values('numC', inplace=True)\n",
    "df_mols.reset_index(inplace=True, drop=True)\n",
    "\n",
    "# Add compound IDs (\"Z#####\")\n",
    "BA_IDs = ['Z'+str(int(i)).zfill(5) for i in np.arange(df_mols.shape[0])]\n",
    "df_mols['BA_ID'] = BA_IDs\n",
    "df_mols = df_mols[['BA_ID', 'numC', 'smiles']]"
   ]
  },
  {
   "cell_type": "markdown",
   "metadata": {},
   "source": [
    "Add compound IDs information to reaction dataframe:"
   ]
  },
  {
   "cell_type": "code",
   "execution_count": 211,
   "metadata": {
    "collapsed": true
   },
   "outputs": [],
   "source": [
    "df_redox['rxn_ID'] = df_redox.apply(add_BA_IDs, 1, args = [df_mols])\n",
    "df_redox['rxn_ID'] = df_redox.apply(balance_G3, 1)\n",
    "df_redox = df_redox[['rxn_ID', 'category']]"
   ]
  },
  {
   "cell_type": "markdown",
   "metadata": {},
   "source": [
    "Write full set of redox reactions to file: "
   ]
  },
  {
   "cell_type": "code",
   "execution_count": 224,
   "metadata": {
    "collapsed": true
   },
   "outputs": [],
   "source": [
    "path_redox_rxns = 'output/21C_redox_rxns.csv'\n",
    "path_mols = 'output/21C_mols.csv'\n",
    "df_redox.to_csv(path_redox_rxns, index=False)\n",
    "df_mols.to_csv(path_mols, index=False)"
   ]
  }
 ],
 "metadata": {
  "kernelspec": {
   "display_name": "Python [conda env:rdkit_old]",
   "language": "python",
   "name": "conda-env-rdkit_old-py"
  },
  "language_info": {
   "codemirror_mode": {
    "name": "ipython",
    "version": 3
   },
   "file_extension": ".py",
   "mimetype": "text/x-python",
   "name": "python",
   "nbconvert_exporter": "python",
   "pygments_lexer": "ipython3",
   "version": "3.5.3"
  },
  "toc": {
   "base_numbering": 1,
   "nav_menu": {
    "height": "314px",
    "width": "252px"
   },
   "number_sections": true,
   "sideBar": true,
   "skip_h1_title": false,
   "title_cell": "Table of Contents",
   "title_sidebar": "Contents",
   "toc_cell": false,
   "toc_position": {},
   "toc_section_display": "block",
   "toc_window_display": false
  }
 },
 "nbformat": 4,
 "nbformat_minor": 2
}
